{
 "cells": [
  {
   "cell_type": "markdown",
   "metadata": {},
   "source": [
    "# Data and Setting"
   ]
  },
  {
   "cell_type": "code",
   "execution_count": 1,
   "metadata": {},
   "outputs": [],
   "source": [
    "import pandas as pd\n",
    "from collections import defaultdict\n",
    "import numpy as np\n",
    "import random\n",
    "import networkx as nx\n",
    "import numpy as np\n",
    "import pandas as pd\n",
    "import seaborn as sns\n",
    "import matplotlib as mpl\n",
    "import matplotlib.pyplot as plt\n",
    "from tqdm import tqdm\n",
    "from collections import deque\n",
    "random.seed(0)"
   ]
  },
  {
   "cell_type": "markdown",
   "metadata": {},
   "source": [
    "### Network"
   ]
  },
  {
   "cell_type": "markdown",
   "metadata": {},
   "source": [
    "In this first part we load the dataset. We'll use the `nx.convert_matrix.from_pandas_edgelist` function to build the graph later."
   ]
  },
  {
   "cell_type": "code",
   "execution_count": 2,
   "metadata": {},
   "outputs": [],
   "source": [
    "#dataframe for the network \n",
    "\n",
    "#names of columns\n",
    "cols = ['edge_ID','source','target']\n",
    "\n",
    "#loading Dataframe\n",
    "df_edges = pd.read_csv('wikigraph_reduced.csv', delimiter = '\\t',names = cols).drop(index = 0)\n",
    "\n",
    "#making edge_ID as int\n",
    "df_edges['edge_ID'] = list(map(int, df_edges['edge_ID']))\n",
    "\n",
    "#set of all the nodes in the graph\n",
    "nodes=set(df_edges[\"source\"]).union(set(df_edges[\"target\"]))"
   ]
  },
  {
   "cell_type": "code",
   "execution_count": 3,
   "metadata": {},
   "outputs": [
    {
     "data": {
      "text/html": [
       "<div>\n",
       "<style scoped>\n",
       "    .dataframe tbody tr th:only-of-type {\n",
       "        vertical-align: middle;\n",
       "    }\n",
       "\n",
       "    .dataframe tbody tr th {\n",
       "        vertical-align: top;\n",
       "    }\n",
       "\n",
       "    .dataframe thead th {\n",
       "        text-align: right;\n",
       "    }\n",
       "</style>\n",
       "<table border=\"1\" class=\"dataframe\">\n",
       "  <thead>\n",
       "    <tr style=\"text-align: right;\">\n",
       "      <th></th>\n",
       "      <th>edge_ID</th>\n",
       "      <th>source</th>\n",
       "      <th>target</th>\n",
       "    </tr>\n",
       "  </thead>\n",
       "  <tbody>\n",
       "    <tr>\n",
       "      <th>1</th>\n",
       "      <td>796</td>\n",
       "      <td>95</td>\n",
       "      <td>1185516</td>\n",
       "    </tr>\n",
       "    <tr>\n",
       "      <th>2</th>\n",
       "      <td>909</td>\n",
       "      <td>108</td>\n",
       "      <td>1059989</td>\n",
       "    </tr>\n",
       "    <tr>\n",
       "      <th>3</th>\n",
       "      <td>910</td>\n",
       "      <td>108</td>\n",
       "      <td>1062426</td>\n",
       "    </tr>\n",
       "    <tr>\n",
       "      <th>4</th>\n",
       "      <td>911</td>\n",
       "      <td>108</td>\n",
       "      <td>1161925</td>\n",
       "    </tr>\n",
       "    <tr>\n",
       "      <th>5</th>\n",
       "      <td>1141</td>\n",
       "      <td>134</td>\n",
       "      <td>541222</td>\n",
       "    </tr>\n",
       "    <tr>\n",
       "      <th>...</th>\n",
       "      <td>...</td>\n",
       "      <td>...</td>\n",
       "      <td>...</td>\n",
       "    </tr>\n",
       "    <tr>\n",
       "      <th>483090</th>\n",
       "      <td>28511768</td>\n",
       "      <td>1791481</td>\n",
       "      <td>1060990</td>\n",
       "    </tr>\n",
       "    <tr>\n",
       "      <th>483091</th>\n",
       "      <td>28511769</td>\n",
       "      <td>1791481</td>\n",
       "      <td>1061382</td>\n",
       "    </tr>\n",
       "    <tr>\n",
       "      <th>483092</th>\n",
       "      <td>28511771</td>\n",
       "      <td>1791481</td>\n",
       "      <td>1110380</td>\n",
       "    </tr>\n",
       "    <tr>\n",
       "      <th>483093</th>\n",
       "      <td>28511772</td>\n",
       "      <td>1791482</td>\n",
       "      <td>80740</td>\n",
       "    </tr>\n",
       "    <tr>\n",
       "      <th>483094</th>\n",
       "      <td>28511785</td>\n",
       "      <td>1791484</td>\n",
       "      <td>235100</td>\n",
       "    </tr>\n",
       "  </tbody>\n",
       "</table>\n",
       "<p>483094 rows × 3 columns</p>\n",
       "</div>"
      ],
      "text/plain": [
       "         edge_ID   source   target\n",
       "1            796       95  1185516\n",
       "2            909      108  1059989\n",
       "3            910      108  1062426\n",
       "4            911      108  1161925\n",
       "5           1141      134   541222\n",
       "...          ...      ...      ...\n",
       "483090  28511768  1791481  1060990\n",
       "483091  28511769  1791481  1061382\n",
       "483092  28511771  1791481  1110380\n",
       "483093  28511772  1791482    80740\n",
       "483094  28511785  1791484   235100\n",
       "\n",
       "[483094 rows x 3 columns]"
      ]
     },
     "execution_count": 3,
     "metadata": {},
     "output_type": "execute_result"
    }
   ],
   "source": [
    "df_edges"
   ]
  },
  {
   "cell_type": "markdown",
   "metadata": {},
   "source": [
    "### Page Names"
   ]
  },
  {
   "cell_type": "markdown",
   "metadata": {},
   "source": [
    "In this subsection we load the dataset containing the names of the nodes.\n",
    "\n",
    "Since there is not a unique delimiter that separates the node number from the name and using the *\\\" \"* character doesn't work because it would also separates some names (e.g: *\\\"0 Chiasmal syndrome\"* would be split into three parts) we loaded everything into a simple column and then separated the node number from the rest."
   ]
  },
  {
   "cell_type": "code",
   "execution_count": 4,
   "metadata": {},
   "outputs": [],
   "source": [
    "df_names = pd.read_csv('wiki-topcats-page-names.txt.gz',names =['node name'])"
   ]
  },
  {
   "cell_type": "code",
   "execution_count": 5,
   "metadata": {},
   "outputs": [
    {
     "data": {
      "text/html": [
       "<div>\n",
       "<style scoped>\n",
       "    .dataframe tbody tr th:only-of-type {\n",
       "        vertical-align: middle;\n",
       "    }\n",
       "\n",
       "    .dataframe tbody tr th {\n",
       "        vertical-align: top;\n",
       "    }\n",
       "\n",
       "    .dataframe thead th {\n",
       "        text-align: right;\n",
       "    }\n",
       "</style>\n",
       "<table border=\"1\" class=\"dataframe\">\n",
       "  <thead>\n",
       "    <tr style=\"text-align: right;\">\n",
       "      <th></th>\n",
       "      <th>node name</th>\n",
       "    </tr>\n",
       "  </thead>\n",
       "  <tbody>\n",
       "    <tr>\n",
       "      <th>0</th>\n",
       "      <td>0 Chiasmal syndrome</td>\n",
       "    </tr>\n",
       "    <tr>\n",
       "      <th>1</th>\n",
       "      <td>1 Kleroterion</td>\n",
       "    </tr>\n",
       "    <tr>\n",
       "      <th>2</th>\n",
       "      <td>2 Pinakion</td>\n",
       "    </tr>\n",
       "  </tbody>\n",
       "</table>\n",
       "</div>"
      ],
      "text/plain": [
       "             node name\n",
       "0  0 Chiasmal syndrome\n",
       "1        1 Kleroterion\n",
       "2           2 Pinakion"
      ]
     },
     "execution_count": 5,
     "metadata": {},
     "output_type": "execute_result"
    }
   ],
   "source": [
    "df_names.head(3)"
   ]
  },
  {
   "cell_type": "code",
   "execution_count": 6,
   "metadata": {},
   "outputs": [],
   "source": [
    "df_names['node'] = [s.split()[0] for s in list(df_names['node name']) ]\n",
    "df_names['name'] = [' '.join(s.split()[1:]) for s in list(df_names['node name'])]\n",
    "df_names = df_names.drop('node name',axis = 1)"
   ]
  },
  {
   "cell_type": "markdown",
   "metadata": {},
   "source": [
    "### Categories"
   ]
  },
  {
   "cell_type": "markdown",
   "metadata": {},
   "source": [
    "In this subsection we load the dataset containing the categories of the nodes. We removed the prefix: *\\\"Category:\"* from each category name and grouped all the pages belonging to a certain category in a list."
   ]
  },
  {
   "cell_type": "code",
   "execution_count": 7,
   "metadata": {},
   "outputs": [
    {
     "data": {
      "text/html": [
       "<div>\n",
       "<style scoped>\n",
       "    .dataframe tbody tr th:only-of-type {\n",
       "        vertical-align: middle;\n",
       "    }\n",
       "\n",
       "    .dataframe tbody tr th {\n",
       "        vertical-align: top;\n",
       "    }\n",
       "\n",
       "    .dataframe thead th {\n",
       "        text-align: right;\n",
       "    }\n",
       "</style>\n",
       "<table border=\"1\" class=\"dataframe\">\n",
       "  <thead>\n",
       "    <tr style=\"text-align: right;\">\n",
       "      <th></th>\n",
       "      <th>cat_name</th>\n",
       "      <th>pages</th>\n",
       "      <th>lens</th>\n",
       "    </tr>\n",
       "  </thead>\n",
       "  <tbody>\n",
       "    <tr>\n",
       "      <th>868</th>\n",
       "      <td>English_footballers</td>\n",
       "      <td>[22860, 28411, 28961, 28979, 29264, 29573, 295...</td>\n",
       "      <td>9237</td>\n",
       "    </tr>\n",
       "    <tr>\n",
       "      <th>869</th>\n",
       "      <td>The_Football_League_players</td>\n",
       "      <td>[14003, 23536, 27109, 27348, 27459, 27989, 280...</td>\n",
       "      <td>9467</td>\n",
       "    </tr>\n",
       "    <tr>\n",
       "      <th>876</th>\n",
       "      <td>Association_football_forwards</td>\n",
       "      <td>[26876, 26877, 26879, 26887, 26892, 26904, 269...</td>\n",
       "      <td>6959</td>\n",
       "    </tr>\n",
       "    <tr>\n",
       "      <th>900</th>\n",
       "      <td>Association_football_midfielders</td>\n",
       "      <td>[14003, 15291, 23536, 26880, 26882, 26885, 268...</td>\n",
       "      <td>8270</td>\n",
       "    </tr>\n",
       "    <tr>\n",
       "      <th>949</th>\n",
       "      <td>Association_football_defenders</td>\n",
       "      <td>[15217, 22860, 26873, 26878, 26881, 26898, 269...</td>\n",
       "      <td>6668</td>\n",
       "    </tr>\n",
       "    <tr>\n",
       "      <th>2791</th>\n",
       "      <td>Harvard_University_alumni</td>\n",
       "      <td>[77, 1013, 1271, 1663, 1779, 1843, 2212, 3193,...</td>\n",
       "      <td>6154</td>\n",
       "    </tr>\n",
       "    <tr>\n",
       "      <th>4160</th>\n",
       "      <td>Major_League_Baseball_pitchers</td>\n",
       "      <td>[79, 24213, 33054, 37167, 53973, 63107, 69823,...</td>\n",
       "      <td>6580</td>\n",
       "    </tr>\n",
       "    <tr>\n",
       "      <th>5619</th>\n",
       "      <td>Members_of_the_United_Kingdom_Parliament_for_E...</td>\n",
       "      <td>[29098, 29493, 29585, 30255, 30389, 30505, 306...</td>\n",
       "      <td>6546</td>\n",
       "    </tr>\n",
       "    <tr>\n",
       "      <th>6067</th>\n",
       "      <td>Indian_films</td>\n",
       "      <td>[1308, 29286, 53565, 70274, 70275, 70797, 1233...</td>\n",
       "      <td>5913</td>\n",
       "    </tr>\n",
       "    <tr>\n",
       "      <th>6795</th>\n",
       "      <td>Year_of_death_missing</td>\n",
       "      <td>[98, 126, 227, 1823, 2170, 2223, 13215, 14003,...</td>\n",
       "      <td>7851</td>\n",
       "    </tr>\n",
       "    <tr>\n",
       "      <th>7889</th>\n",
       "      <td>Rivers_of_Romania</td>\n",
       "      <td>[72111, 72112, 72113, 72114, 72115, 72116, 721...</td>\n",
       "      <td>7729</td>\n",
       "    </tr>\n",
       "    <tr>\n",
       "      <th>8732</th>\n",
       "      <td>Main_Belt_asteroids</td>\n",
       "      <td>[13184, 13992, 22277, 23539, 29163, 33254, 334...</td>\n",
       "      <td>13704</td>\n",
       "    </tr>\n",
       "    <tr>\n",
       "      <th>8733</th>\n",
       "      <td>Asteroids_named_for_people</td>\n",
       "      <td>[13184, 13992, 23539, 33990, 33991, 37535, 375...</td>\n",
       "      <td>5701</td>\n",
       "    </tr>\n",
       "    <tr>\n",
       "      <th>10555</th>\n",
       "      <td>English-language_films</td>\n",
       "      <td>[55, 134, 153, 214, 1083, 1084, 1087, 1089, 11...</td>\n",
       "      <td>22699</td>\n",
       "    </tr>\n",
       "    <tr>\n",
       "      <th>10564</th>\n",
       "      <td>American_films</td>\n",
       "      <td>[134, 153, 173, 1083, 1087, 1089, 1131, 1152, ...</td>\n",
       "      <td>15302</td>\n",
       "    </tr>\n",
       "    <tr>\n",
       "      <th>11648</th>\n",
       "      <td>American_television_actors</td>\n",
       "      <td>[174, 938, 980, 1086, 1088, 1099, 1106, 1109, ...</td>\n",
       "      <td>11661</td>\n",
       "    </tr>\n",
       "    <tr>\n",
       "      <th>11649</th>\n",
       "      <td>American_film_actors</td>\n",
       "      <td>[174, 980, 1088, 1099, 1106, 1109, 1121, 1122,...</td>\n",
       "      <td>13938</td>\n",
       "    </tr>\n",
       "    <tr>\n",
       "      <th>11992</th>\n",
       "      <td>Debut_albums</td>\n",
       "      <td>[95, 108, 112, 113, 190, 254, 1413, 1451, 1452...</td>\n",
       "      <td>8401</td>\n",
       "    </tr>\n",
       "    <tr>\n",
       "      <th>12631</th>\n",
       "      <td>Black-and-white_films</td>\n",
       "      <td>[134, 16130, 19763, 26846, 31864, 35833, 38917...</td>\n",
       "      <td>12174</td>\n",
       "    </tr>\n",
       "    <tr>\n",
       "      <th>12941</th>\n",
       "      <td>Year_of_birth_missing</td>\n",
       "      <td>[147, 171, 1056, 1656, 13215, 14003, 15293, 22...</td>\n",
       "      <td>7237</td>\n",
       "    </tr>\n",
       "    <tr>\n",
       "      <th>12966</th>\n",
       "      <td>Place_of_birth_missing_(living_people)</td>\n",
       "      <td>[167, 1100, 1104, 1118, 1119, 1139, 1140, 1144...</td>\n",
       "      <td>6767</td>\n",
       "    </tr>\n",
       "  </tbody>\n",
       "</table>\n",
       "</div>"
      ],
      "text/plain": [
       "                                                cat_name  \\\n",
       "868                                  English_footballers   \n",
       "869                          The_Football_League_players   \n",
       "876                        Association_football_forwards   \n",
       "900                     Association_football_midfielders   \n",
       "949                       Association_football_defenders   \n",
       "2791                           Harvard_University_alumni   \n",
       "4160                      Major_League_Baseball_pitchers   \n",
       "5619   Members_of_the_United_Kingdom_Parliament_for_E...   \n",
       "6067                                        Indian_films   \n",
       "6795                               Year_of_death_missing   \n",
       "7889                                   Rivers_of_Romania   \n",
       "8732                                 Main_Belt_asteroids   \n",
       "8733                          Asteroids_named_for_people   \n",
       "10555                             English-language_films   \n",
       "10564                                     American_films   \n",
       "11648                         American_television_actors   \n",
       "11649                               American_film_actors   \n",
       "11992                                       Debut_albums   \n",
       "12631                              Black-and-white_films   \n",
       "12941                              Year_of_birth_missing   \n",
       "12966             Place_of_birth_missing_(living_people)   \n",
       "\n",
       "                                                   pages   lens  \n",
       "868    [22860, 28411, 28961, 28979, 29264, 29573, 295...   9237  \n",
       "869    [14003, 23536, 27109, 27348, 27459, 27989, 280...   9467  \n",
       "876    [26876, 26877, 26879, 26887, 26892, 26904, 269...   6959  \n",
       "900    [14003, 15291, 23536, 26880, 26882, 26885, 268...   8270  \n",
       "949    [15217, 22860, 26873, 26878, 26881, 26898, 269...   6668  \n",
       "2791   [77, 1013, 1271, 1663, 1779, 1843, 2212, 3193,...   6154  \n",
       "4160   [79, 24213, 33054, 37167, 53973, 63107, 69823,...   6580  \n",
       "5619   [29098, 29493, 29585, 30255, 30389, 30505, 306...   6546  \n",
       "6067   [1308, 29286, 53565, 70274, 70275, 70797, 1233...   5913  \n",
       "6795   [98, 126, 227, 1823, 2170, 2223, 13215, 14003,...   7851  \n",
       "7889   [72111, 72112, 72113, 72114, 72115, 72116, 721...   7729  \n",
       "8732   [13184, 13992, 22277, 23539, 29163, 33254, 334...  13704  \n",
       "8733   [13184, 13992, 23539, 33990, 33991, 37535, 375...   5701  \n",
       "10555  [55, 134, 153, 214, 1083, 1084, 1087, 1089, 11...  22699  \n",
       "10564  [134, 153, 173, 1083, 1087, 1089, 1131, 1152, ...  15302  \n",
       "11648  [174, 938, 980, 1086, 1088, 1099, 1106, 1109, ...  11661  \n",
       "11649  [174, 980, 1088, 1099, 1106, 1109, 1121, 1122,...  13938  \n",
       "11992  [95, 108, 112, 113, 190, 254, 1413, 1451, 1452...   8401  \n",
       "12631  [134, 16130, 19763, 26846, 31864, 35833, 38917...  12174  \n",
       "12941  [147, 171, 1056, 1656, 13215, 14003, 15293, 22...   7237  \n",
       "12966  [167, 1100, 1104, 1118, 1119, 1139, 1140, 1144...   6767  "
      ]
     },
     "execution_count": 7,
     "metadata": {},
     "output_type": "execute_result"
    }
   ],
   "source": [
    "names = ['cat_name','pages']\n",
    "df_cat = pd.read_csv('wiki-topcats-categories.txt.gz',sep = ';',names = names)\n",
    "\n",
    "df_cat['cat_name'] = df_cat.apply(lambda x: x['cat_name'][9:],axis = 1)\n",
    "\n",
    "df_cat['pages'] = df_cat.apply(lambda x: list(map(int,x['pages'].split())),axis = 1)\n",
    "\n",
    "df_cat['lens'] = df_cat.apply(lambda x : len(x['pages']),axis = 1)\n",
    "\n",
    "df_cat = df_cat.loc[(df_cat['lens']>5000) & (df_cat['lens']<30000)] #removing all the categories whose #pages are not in range (5000,30000)\n",
    "\n",
    "df_cat"
   ]
  },
  {
   "cell_type": "code",
   "execution_count": 8,
   "metadata": {},
   "outputs": [
    {
     "data": {
      "text/plain": [
       "True"
      ]
     },
     "execution_count": 8,
     "metadata": {},
     "output_type": "execute_result"
    }
   ],
   "source": [
    "#set of all nodes in df_cat \n",
    "nodes_reduced_df_cat = set(df_cat['pages'].sum())\n",
    "\n",
    "#check if all the nodes in the original database are a subset of the reduced category one\n",
    "nodes.issubset(nodes_reduced_df_cat)\n"
   ]
  },
  {
   "cell_type": "code",
   "execution_count": 9,
   "metadata": {},
   "outputs": [],
   "source": [
    "#in order to remove the pages belonging to multiple categories, we made an inverted index key: Page, values: Categories in which the pages appears.\n",
    "#than I randomly sampled the values in uniform way and built the dataframe again\n",
    "\n",
    "categories = list(df_cat['cat_name'])\n",
    "pages_for_cat =list(df_cat['pages'])\n",
    "\n",
    "\n",
    "d_page_cat = defaultdict(list)\n",
    "for i,cat in enumerate(categories):\n",
    "    for pag in pages_for_cat[i]:\n",
    "        d_page_cat[pag].append(cat)\n",
    "    \n",
    "\n"
   ]
  },
  {
   "cell_type": "markdown",
   "metadata": {},
   "source": [
    "In order to remove the pages belonging to multiple categories we first created an inverted index with <code>key:Page</code>, <code>value:Categories in which the page appears</code>.\n",
    "\n",
    "Then, for each page we randomly sampled among the values in uniform way to only consider one category. Then we built the dataframe again. "
   ]
  },
  {
   "cell_type": "code",
   "execution_count": 10,
   "metadata": {},
   "outputs": [
    {
     "data": {
      "text/html": [
       "<div>\n",
       "<style scoped>\n",
       "    .dataframe tbody tr th:only-of-type {\n",
       "        vertical-align: middle;\n",
       "    }\n",
       "\n",
       "    .dataframe tbody tr th {\n",
       "        vertical-align: top;\n",
       "    }\n",
       "\n",
       "    .dataframe thead th {\n",
       "        text-align: right;\n",
       "    }\n",
       "</style>\n",
       "<table border=\"1\" class=\"dataframe\">\n",
       "  <thead>\n",
       "    <tr style=\"text-align: right;\">\n",
       "      <th></th>\n",
       "      <th>cat_name</th>\n",
       "      <th>pages</th>\n",
       "    </tr>\n",
       "  </thead>\n",
       "  <tbody>\n",
       "    <tr>\n",
       "      <th>0</th>\n",
       "      <td>English_footballers</td>\n",
       "      <td>[28961, 48718, 72482, 72496, 72545, 72555, 725...</td>\n",
       "    </tr>\n",
       "    <tr>\n",
       "      <th>1</th>\n",
       "      <td>The_Football_League_players</td>\n",
       "      <td>[33973, 48583, 48730, 72488, 72528, 72532, 725...</td>\n",
       "    </tr>\n",
       "    <tr>\n",
       "      <th>2</th>\n",
       "      <td>Association_football_forwards</td>\n",
       "      <td>[72546, 72633, 72696, 73060, 73197, 73311, 747...</td>\n",
       "    </tr>\n",
       "    <tr>\n",
       "      <th>3</th>\n",
       "      <td>Year_of_death_missing</td>\n",
       "      <td>[72579, 72769, 72826, 72852, 72861, 73141, 752...</td>\n",
       "    </tr>\n",
       "    <tr>\n",
       "      <th>4</th>\n",
       "      <td>Association_football_defenders</td>\n",
       "      <td>[72616, 72629, 72747, 73070, 73113, 73148, 731...</td>\n",
       "    </tr>\n",
       "    <tr>\n",
       "      <th>5</th>\n",
       "      <td>Year_of_birth_missing</td>\n",
       "      <td>[72829, 74377, 76428, 92872, 93457, 93575, 936...</td>\n",
       "    </tr>\n",
       "    <tr>\n",
       "      <th>6</th>\n",
       "      <td>Association_football_midfielders</td>\n",
       "      <td>[72862, 73091, 73195, 73252, 73309, 74507, 751...</td>\n",
       "    </tr>\n",
       "    <tr>\n",
       "      <th>7</th>\n",
       "      <td>Place_of_birth_missing_(living_people)</td>\n",
       "      <td>[84470, 93493, 526322, 75195, 83446, 86747, 10...</td>\n",
       "    </tr>\n",
       "    <tr>\n",
       "      <th>8</th>\n",
       "      <td>Members_of_the_United_Kingdom_Parliament_for_E...</td>\n",
       "      <td>[535217, 536702, 543951, 536438, 539538, 53958...</td>\n",
       "    </tr>\n",
       "    <tr>\n",
       "      <th>9</th>\n",
       "      <td>Harvard_University_alumni</td>\n",
       "      <td>[1663, 1843, 3260, 3431, 11386, 11858, 12295, ...</td>\n",
       "    </tr>\n",
       "    <tr>\n",
       "      <th>10</th>\n",
       "      <td>American_film_actors</td>\n",
       "      <td>[154133, 633296, 634062, 744125, 744132, 10616...</td>\n",
       "    </tr>\n",
       "    <tr>\n",
       "      <th>11</th>\n",
       "      <td>American_television_actors</td>\n",
       "      <td>[301418, 351585, 419812, 423184, 469376, 72558...</td>\n",
       "    </tr>\n",
       "    <tr>\n",
       "      <th>12</th>\n",
       "      <td>Major_League_Baseball_pitchers</td>\n",
       "      <td>[71163, 112694, 115217, 122453, 142660, 143175...</td>\n",
       "    </tr>\n",
       "    <tr>\n",
       "      <th>13</th>\n",
       "      <td>Indian_films</td>\n",
       "      <td>[53565, 70274, 70275, 136154, 136157, 192021, ...</td>\n",
       "    </tr>\n",
       "    <tr>\n",
       "      <th>14</th>\n",
       "      <td>English-language_films</td>\n",
       "      <td>[136155, 581028, 581149, 581584, 581926, 58206...</td>\n",
       "    </tr>\n",
       "    <tr>\n",
       "      <th>15</th>\n",
       "      <td>American_films</td>\n",
       "      <td>[582475, 587405, 1089, 1158, 1267, 14258, 1518...</td>\n",
       "    </tr>\n",
       "    <tr>\n",
       "      <th>16</th>\n",
       "      <td>Black-and-white_films</td>\n",
       "      <td>[587697, 588219, 589066, 589097, 589113, 58916...</td>\n",
       "    </tr>\n",
       "    <tr>\n",
       "      <th>17</th>\n",
       "      <td>Rivers_of_Romania</td>\n",
       "      <td>[72111, 72112, 72113, 72114, 72115, 72116, 721...</td>\n",
       "    </tr>\n",
       "    <tr>\n",
       "      <th>18</th>\n",
       "      <td>Main_Belt_asteroids</td>\n",
       "      <td>[13184, 13992, 22277, 33254, 33401, 35939, 390...</td>\n",
       "    </tr>\n",
       "    <tr>\n",
       "      <th>19</th>\n",
       "      <td>Asteroids_named_for_people</td>\n",
       "      <td>[23539, 33991, 39039, 96567, 96568, 96570, 965...</td>\n",
       "    </tr>\n",
       "    <tr>\n",
       "      <th>20</th>\n",
       "      <td>Debut_albums</td>\n",
       "      <td>[95, 108, 31695, 31722, 31725, 31726, 31728, 4...</td>\n",
       "    </tr>\n",
       "  </tbody>\n",
       "</table>\n",
       "</div>"
      ],
      "text/plain": [
       "                                             cat_name  \\\n",
       "0                                 English_footballers   \n",
       "1                         The_Football_League_players   \n",
       "2                       Association_football_forwards   \n",
       "3                               Year_of_death_missing   \n",
       "4                      Association_football_defenders   \n",
       "5                               Year_of_birth_missing   \n",
       "6                    Association_football_midfielders   \n",
       "7              Place_of_birth_missing_(living_people)   \n",
       "8   Members_of_the_United_Kingdom_Parliament_for_E...   \n",
       "9                           Harvard_University_alumni   \n",
       "10                               American_film_actors   \n",
       "11                         American_television_actors   \n",
       "12                     Major_League_Baseball_pitchers   \n",
       "13                                       Indian_films   \n",
       "14                             English-language_films   \n",
       "15                                     American_films   \n",
       "16                              Black-and-white_films   \n",
       "17                                  Rivers_of_Romania   \n",
       "18                                Main_Belt_asteroids   \n",
       "19                         Asteroids_named_for_people   \n",
       "20                                       Debut_albums   \n",
       "\n",
       "                                                pages  \n",
       "0   [28961, 48718, 72482, 72496, 72545, 72555, 725...  \n",
       "1   [33973, 48583, 48730, 72488, 72528, 72532, 725...  \n",
       "2   [72546, 72633, 72696, 73060, 73197, 73311, 747...  \n",
       "3   [72579, 72769, 72826, 72852, 72861, 73141, 752...  \n",
       "4   [72616, 72629, 72747, 73070, 73113, 73148, 731...  \n",
       "5   [72829, 74377, 76428, 92872, 93457, 93575, 936...  \n",
       "6   [72862, 73091, 73195, 73252, 73309, 74507, 751...  \n",
       "7   [84470, 93493, 526322, 75195, 83446, 86747, 10...  \n",
       "8   [535217, 536702, 543951, 536438, 539538, 53958...  \n",
       "9   [1663, 1843, 3260, 3431, 11386, 11858, 12295, ...  \n",
       "10  [154133, 633296, 634062, 744125, 744132, 10616...  \n",
       "11  [301418, 351585, 419812, 423184, 469376, 72558...  \n",
       "12  [71163, 112694, 115217, 122453, 142660, 143175...  \n",
       "13  [53565, 70274, 70275, 136154, 136157, 192021, ...  \n",
       "14  [136155, 581028, 581149, 581584, 581926, 58206...  \n",
       "15  [582475, 587405, 1089, 1158, 1267, 14258, 1518...  \n",
       "16  [587697, 588219, 589066, 589097, 589113, 58916...  \n",
       "17  [72111, 72112, 72113, 72114, 72115, 72116, 721...  \n",
       "18  [13184, 13992, 22277, 33254, 33401, 35939, 390...  \n",
       "19  [23539, 33991, 39039, 96567, 96568, 96570, 965...  \n",
       "20  [95, 108, 31695, 31722, 31725, 31726, 31728, 4...  "
      ]
     },
     "execution_count": 10,
     "metadata": {},
     "output_type": "execute_result"
    }
   ],
   "source": [
    "random.seed(1234)\n",
    "\n",
    "categories = list(df_cat['cat_name'])\n",
    "pages_for_cat =list(df_cat['pages'])\n",
    "\n",
    "\n",
    "d_page_cat = defaultdict(list)\n",
    "for i,cat in enumerate(categories):\n",
    "    for pag in pages_for_cat[i]:\n",
    "        d_page_cat[pag].append(cat)\n",
    "    \n",
    "d_random_cat_page = defaultdict(list)\n",
    "\n",
    "for page in d_page_cat.keys():\n",
    "    if page in nodes:\n",
    "        cat_of_page = random.sample(set(d_page_cat[page]),1)\n",
    "        d_random_cat_page[cat_of_page[0]].append(page)\n",
    "\n",
    "#some categories have been removed, since there are no pages belonging to them or all their\n",
    "#pages were sampled into other categories\n",
    "\n",
    "new_df_cat = pd.DataFrame()\n",
    "new_df_cat['cat_name'] = d_random_cat_page.keys()\n",
    "new_df_cat['pages'] = list(d_random_cat_page.values())\n",
    "new_df_cat"
   ]
  },
  {
   "cell_type": "markdown",
   "metadata": {},
   "source": [
    "Finally, we built an inverted dictionary with <code>key: node_i</code>,<code>value: category of node_i</code>."
   ]
  },
  {
   "cell_type": "code",
   "execution_count": 11,
   "metadata": {},
   "outputs": [],
   "source": [
    "inverted_dictionary={}\n",
    "for i,row in new_df_cat.iterrows():\n",
    "    for node in row[\"pages\"]:\n",
    "        inverted_dictionary[node]=row[\"cat_name\"]\n",
    "        "
   ]
  },
  {
   "cell_type": "markdown",
   "metadata": {},
   "source": [
    "# Create Graph"
   ]
  },
  {
   "cell_type": "markdown",
   "metadata": {},
   "source": [
    "# RQ1\n",
    "Build the graph $G=(V, E)$, where $V$ is the set of articles and E the hyperlinks among them. Then, provide its basic information:\n",
    "\n",
    "Is the graph directed?\n",
    "How many articles are we considering?\n",
    "How many hyperlinks between pages exist?\n",
    "Compute the average number of links in an arbitrary page. What is the graph density? Do you believe that the graph is dense or sparse? Is the graph dense?\n",
    "Visualize the nodes' degree distribution"
   ]
  },
  {
   "cell_type": "markdown",
   "metadata": {},
   "source": [
    "Build the graph $G=(V, E)$, where $V$ is the set of articles and $E$ the hyperlinks among them."
   ]
  },
  {
   "cell_type": "code",
   "execution_count": 12,
   "metadata": {},
   "outputs": [],
   "source": [
    "G=nx.convert_matrix.from_pandas_edgelist(df_edges, 'source', 'target', ['edge_ID'],create_using=nx.DiGraph())\n"
   ]
  },
  {
   "cell_type": "markdown",
   "metadata": {},
   "source": [
    "### 1. Is the graph directed?\n",
    "\n",
    "Due the structure of the \"headers\" in the dataset (source-target) we must assume that the graph is directed. Indeed the object we are trying to model is the hyperlink network of the wikipedia pages and every link is one-sided."
   ]
  },
  {
   "cell_type": "code",
   "execution_count": 13,
   "metadata": {},
   "outputs": [
    {
     "data": {
      "text/plain": [
       "True"
      ]
     },
     "execution_count": 13,
     "metadata": {},
     "output_type": "execute_result"
    }
   ],
   "source": [
    "#With this function we can double-check if the function we used effectively created a directed graph.\n",
    "G.is_directed()"
   ]
  },
  {
   "cell_type": "markdown",
   "metadata": {},
   "source": [
    "### How many articles are we considering?"
   ]
  },
  {
   "cell_type": "markdown",
   "metadata": {},
   "source": [
    "In our network $G$ the articles are represented by the nodes. Therefore the amount of articles we're considering corresponds to the cardinality of the set of nodes in $G$."
   ]
  },
  {
   "cell_type": "code",
   "execution_count": 14,
   "metadata": {},
   "outputs": [
    {
     "data": {
      "text/plain": [
       "98343"
      ]
     },
     "execution_count": 14,
     "metadata": {},
     "output_type": "execute_result"
    }
   ],
   "source": [
    "len(G.nodes)"
   ]
  },
  {
   "cell_type": "markdown",
   "metadata": {},
   "source": [
    "### How many Hyperlinks ?"
   ]
  },
  {
   "cell_type": "markdown",
   "metadata": {},
   "source": [
    "In $G$ the hyperlinks are represented by the edges. Therefore the amount of Hyperlinks corresponds to the cardinality of the set of edges."
   ]
  },
  {
   "cell_type": "code",
   "execution_count": 15,
   "metadata": {},
   "outputs": [
    {
     "data": {
      "text/plain": [
       "483094"
      ]
     },
     "execution_count": 15,
     "metadata": {},
     "output_type": "execute_result"
    }
   ],
   "source": [
    "len(G.edges)"
   ]
  },
  {
   "cell_type": "markdown",
   "metadata": {},
   "source": [
    "It is clear that the graph is really far from being a dense graph: a densely connected graph with 98343 nodes would have 9671247306 edges while this one only has 483094."
   ]
  },
  {
   "cell_type": "code",
   "execution_count": 16,
   "metadata": {},
   "outputs": [],
   "source": [
    "graph_density=len(G.edges)/(len(G.nodes)*(len(G.nodes)-1))"
   ]
  },
  {
   "cell_type": "code",
   "execution_count": 17,
   "metadata": {},
   "outputs": [
    {
     "data": {
      "text/plain": [
       "4.9951571365597335e-05"
      ]
     },
     "execution_count": 17,
     "metadata": {},
     "output_type": "execute_result"
    }
   ],
   "source": [
    "graph_density"
   ]
  },
  {
   "cell_type": "markdown",
   "metadata": {},
   "source": [
    "### Average Degree"
   ]
  },
  {
   "cell_type": "markdown",
   "metadata": {},
   "source": [
    "We now calculate the average degree of the nodes. Since our graph is directed, we can interpret the question as both asking for the indegree or the outdegree of every node. "
   ]
  },
  {
   "cell_type": "code",
   "execution_count": 18,
   "metadata": {},
   "outputs": [
    {
     "name": "stdout",
     "output_type": "stream",
     "text": [
      "Mean of indegree: 4.912337431235573\n"
     ]
    }
   ],
   "source": [
    "dict_in_degree = dict(G.in_degree())\n",
    "list_degree_in = list(dict_in_degree.values())\n",
    "avg_degree_in = np.mean(np.array(list_degree_in))\n",
    "med_degree_in = np.median(np.array(list_degree_in))\n",
    "print(\"Mean of indegree:\", avg_degree_in)\n",
    "\n"
   ]
  },
  {
   "cell_type": "code",
   "execution_count": 19,
   "metadata": {},
   "outputs": [
    {
     "name": "stdout",
     "output_type": "stream",
     "text": [
      "Mean of outdegree: 4.912337431235573\n"
     ]
    }
   ],
   "source": [
    "dict_out_degree = dict(G.out_degree())\n",
    "list_degree_out = list(dict_out_degree.values())\n",
    "avg_degree_out = np.mean(np.array(list_degree_out))\n",
    "med_degree_out = np.median(np.array(list_degree_out))\n",
    "print(\"Mean of outdegree:\", avg_degree_out)\n",
    "\n"
   ]
  },
  {
   "cell_type": "markdown",
   "metadata": {},
   "source": [
    "The fact that these numbers are the same is not surprising: every edge has a target and a source. Since the sum over the nodes of their indegree is equal to the number of edges of the graph and the same as well as for the sum of the outdegree. Hence the average indegree and outdegree have the same value equal to the ratio between the cardinality of the edges and the nodes that we computed above."
   ]
  },
  {
   "cell_type": "code",
   "execution_count": 20,
   "metadata": {},
   "outputs": [
    {
     "data": {
      "text/plain": [
       "4.912337431235573"
      ]
     },
     "execution_count": 20,
     "metadata": {},
     "output_type": "execute_result"
    }
   ],
   "source": [
    "len(G.edges)/len(G.nodes)"
   ]
  },
  {
   "cell_type": "markdown",
   "metadata": {},
   "source": [
    "It is important to remark that the distribution of the indegrees and outdegrees are usually different."
   ]
  },
  {
   "cell_type": "code",
   "execution_count": 21,
   "metadata": {},
   "outputs": [],
   "source": [
    "import seaborn as sns\n",
    "import matplotlib as mpl\n",
    "import matplotlib.pyplot as plt\n",
    "\n",
    "sns.set_theme(style=\"ticks\",font_scale = 2)\n"
   ]
  },
  {
   "cell_type": "code",
   "execution_count": 22,
   "metadata": {},
   "outputs": [
    {
     "data": {
      "image/png": "[encoded data removed]",
      "text/plain": [
       "<Figure size 1440x576 with 1 Axes>"
      ]
     },
     "metadata": {},
     "output_type": "display_data"
    }
   ],
   "source": [
    "plt.figure(figsize=(20,8))\n",
    "plt.hist(list_degree_in,log=\"xy\",bins=100);"
   ]
  },
  {
   "cell_type": "code",
   "execution_count": 23,
   "metadata": {},
   "outputs": [
    {
     "data": {
      "image/png": "[encoded data removed]",
      "text/plain": [
       "<Figure size 1440x720 with 1 Axes>"
      ]
     },
     "metadata": {},
     "output_type": "display_data"
    }
   ],
   "source": [
    "plt.figure(figsize=(20,10))\n",
    "\n",
    "g = sns.histplot(list_degree_out,bins = 1000)\n",
    "g.set_xscale('log')\n"
   ]
  },
  {
   "cell_type": "code",
   "execution_count": 24,
   "metadata": {},
   "outputs": [
    {
     "data": {
      "text/plain": [
       "1367"
      ]
     },
     "execution_count": 24,
     "metadata": {},
     "output_type": "execute_result"
    }
   ],
   "source": [
    "max(list_degree_out)"
   ]
  },
  {
   "cell_type": "code",
   "execution_count": 25,
   "metadata": {},
   "outputs": [
    {
     "data": {
      "image/png": "[encoded data removed]",
      "text/plain": [
       "<Figure size 1440x576 with 1 Axes>"
      ]
     },
     "metadata": {},
     "output_type": "display_data"
    }
   ],
   "source": [
    "plt.figure(figsize=(20,8))\n",
    "plt.hist(list_degree_out,log=\"xy\",bins=100);"
   ]
  },
  {
   "cell_type": "markdown",
   "metadata": {},
   "source": [
    "# RQ2"
   ]
  },
  {
   "cell_type": "markdown",
   "metadata": {},
   "source": [
    "Define a function that takes in input a page $v$ and a number of clicks $d$ and returns the set of all pages that a user can reach within $d$ clicks."
   ]
  },
  {
   "cell_type": "code",
   "execution_count": 26,
   "metadata": {},
   "outputs": [],
   "source": [
    "#We use a standard iterative BFS with a queue to avoid having too many recursive calls\n",
    "\n",
    "def BFS_distances(G,v,n_clicks=float(\"inf\")):\n",
    "\n",
    "    \"\"\"G: graph\n",
    "    v: starting node\n",
    "    n_clicks: optional parameter. Returns all pages with distance less or equal han n_clicks. Base value is 'float(\"Inf\"):\n",
    "    it returns every page reached by the BFS.\"\"\"\n",
    "    \n",
    "    q = deque() # initialize empty queue\n",
    "    discovered={} # dictionary with already discovered nodes. The structure is key:Node, value=distance from source\n",
    "    \n",
    "    \n",
    "    discovered[v] = 0 # distance of the source from the source is 0 \n",
    "    q.append(v)   # put starting vertex in the queue\n",
    "    \n",
    "    edges_with_distances=[] #list of tuples (node,distance from source) that will be returned.\n",
    "    \n",
    "    while q: #While the queue is not empty, do an iteration of BFS\n",
    "        v = q.popleft()     #remove first item in the queue\n",
    "        if discovered[v]>n_clicks:\n",
    "            break\n",
    "        edges_with_distances.append((v,discovered[v]))\n",
    "        \n",
    "        \n",
    " \n",
    "        for u in G.neighbors(v):\n",
    "        # for each neighbor u of v. we check if u has already been discovered. If not, we know that its distance of u from the\n",
    "        # source is one more than the distance v has. \n",
    "            \n",
    "            if u not in discovered: \n",
    "                # mark it as discovered and push it into queue\n",
    "                discovered[u] = discovered[v]+1\n",
    "                q.append(u)\n",
    "                \n",
    "    return edges_with_distances\n",
    "    "
   ]
  },
  {
   "cell_type": "code",
   "execution_count": 27,
   "metadata": {},
   "outputs": [
    {
     "data": {
      "text/plain": [
       "[(67030, 0),\n",
       " (67006, 1),\n",
       " (67125, 1),\n",
       " (1420116, 1),\n",
       " (1571125, 2),\n",
       " (64825, 2),\n",
       " (954116, 2),\n",
       " (597743, 3),\n",
       " (597737, 4)]"
      ]
     },
     "execution_count": 27,
     "metadata": {},
     "output_type": "execute_result"
    }
   ],
   "source": [
    "BFS_distances(G,67030,4)"
   ]
  },
  {
   "cell_type": "markdown",
   "metadata": {},
   "source": [
    "# RQ3"
   ]
  },
  {
   "cell_type": "markdown",
   "metadata": {},
   "source": [
    "Define a function that takes in input: a category $C$ and aset of pages in $C$, $p = {p_1, ..., p_n}$\n",
    "and returns the minimum number of clicks required to reach all pages in $p$, starting from the page $v$, corresponding to the most central article, according to the in-degree centrality, in $C$."
   ]
  },
  {
   "cell_type": "markdown",
   "metadata": {},
   "source": [
    "We first add the \"Category\" as an attribute to every node."
   ]
  },
  {
   "cell_type": "code",
   "execution_count": 28,
   "metadata": {},
   "outputs": [],
   "source": [
    "nx.set_node_attributes(G, inverted_dictionary, name=\"Category\")"
   ]
  },
  {
   "cell_type": "markdown",
   "metadata": {},
   "source": [
    "We chose to use the in_degree as our metric for the \"most central article\"."
   ]
  },
  {
   "cell_type": "code",
   "execution_count": 29,
   "metadata": {},
   "outputs": [],
   "source": [
    "def most_central_article(G,category):\n",
    "    \n",
    "    \"\"\" G: graph\n",
    "        category: one of the categories\n",
    "        \n",
    "        returns the node with the highest in_degree as a tuple: (node, in_degree)\"\"\"\n",
    "    \n",
    "    nodes = list(map(int, d_random_cat_page[category] ))\n",
    "    assert len(nodes)>0, \"Empty/non-existent category!\"\n",
    "    max_in_degree = list(G.in_degree(nodes))\n",
    "    return max( max_in_degree, key=lambda x:x[1])"
   ]
  },
  {
   "cell_type": "code",
   "execution_count": 30,
   "metadata": {},
   "outputs": [
    {
     "data": {
      "text/plain": [
       "(1227839, 13)"
      ]
     },
     "execution_count": 30,
     "metadata": {},
     "output_type": "execute_result"
    }
   ],
   "source": [
    "most_central_article(G,'Debut_albums')"
   ]
  },
  {
   "cell_type": "markdown",
   "metadata": {},
   "source": [
    "The algorithm we will use to solve this problem will have two steps:\n",
    "First step: we use the function <code>graph_exploration</code> to build a new graph that only has the nodes in the list $p$\n",
    "and the most central article in the graph. An edge from $u$ to $v$ is added whenever there exists a path from these two nodes in the original graph and the weight of this edge will be equal to the lenght of the shortest path between the two.\n",
    "\n",
    "Second part: we look for the shortest path that visits all nodes in the new graph that we build in the first step. This is an asymmetric travelling salesman problem (with a slight modification: one does not need to get back to the starting point) with distances satisfying the triangle inequality. We decide to use a slight modification of the \"nearest neighbor\" algorithm to give an approximation of the solution in a polynomial time: that algorithm can easily answer \"no existing path\" when there are nodes that are not connected to all the others. Since in our case we know that if $u$ is connected to $v$ and $v$ is connected to $w$ then $u$ is also connected to $w$ (this can be seen as a consequence of the fact that the triangle inequality has to hold and by putting $dist(A,B)=+\\infty$ when a directed edge from $A$ to $B$ does not exist). With this property in mind, we know that if we do not see all the unvisited edges in the neighbors of a particular node, than picking that node will lead to a path that doesn't visit all the pages. We try to avoid this by first looking if there is a node that has all the remaining nodes to visit among its neighbors.\n",
    "\n",
    "\n",
    "(N.B It is interesting to observe how this the \"shortest path between two nodes\" does not define a distance in the classical sense since it's not symmetric in a generic directed graph with weights)\n"
   ]
  },
  {
   "cell_type": "code",
   "execution_count": 31,
   "metadata": {},
   "outputs": [],
   "source": [
    "def graph_exploration(G,p,C):\n",
    "    \"\"\"G: graph\n",
    "     p: list of nodes  to visit\n",
    "     C: category where the most central article will be selected as a starting point.\"\"\"\n",
    "    \n",
    "    most_central=most_central_article(G,C)[0] #we compute the most central node\n",
    "    \n",
    "    if most_central not in p: #this is here in case one already had the most central node in p\n",
    "        p.append(most_central) \n",
    "    \n",
    "    new_graph=nx.empty_graph(create_using=nx.DiGraph()) #this creates a new empty graph\n",
    "    \n",
    "    for node1 in p:\n",
    "        for node2 in p:\n",
    "            if node1!=node2:\n",
    "                distances=dict(BFS_distances(G,node1)) #we calculate the distances of all the nodes in the graph G from node1\n",
    "                if node2 in distances: #if node 2 was reached by a BFS from node1, we add an edge in the new graph.\n",
    "                    new_graph.add_edge(node1,node2,weight=distances[node2])\n",
    "    new_graph.add_nodes_from(p) #We finally add all the nodes from p, in case there was at least one node that was not\n",
    "                                #connected to any other in the list\n",
    "    return new_graph"
   ]
  },
  {
   "cell_type": "code",
   "execution_count": 32,
   "metadata": {},
   "outputs": [],
   "source": [
    "p=[1184017,903941,1056184] #The assignment asks for these to be picked in the C category. Our algorithm does not require it,\n",
    "                           #but it can be done\n",
    "C='English_footballers'"
   ]
  },
  {
   "cell_type": "code",
   "execution_count": 33,
   "metadata": {},
   "outputs": [],
   "source": [
    "new_graph=graph_exploration(G,p,C) #this is the execution of step 1 of the algorithm"
   ]
  },
  {
   "cell_type": "code",
   "execution_count": 34,
   "metadata": {},
   "outputs": [
    {
     "data": {
      "text/plain": [
       "{(1184017, 903941): 1,\n",
       " (1184017, 1056184): 1,\n",
       " (1184017, 82393): 4,\n",
       " (903941, 1184017): 3,\n",
       " (903941, 1056184): 4,\n",
       " (903941, 82393): 4,\n",
       " (1056184, 1184017): 4,\n",
       " (1056184, 903941): 4,\n",
       " (1056184, 82393): 5,\n",
       " (82393, 1184017): 4,\n",
       " (82393, 903941): 4,\n",
       " (82393, 1056184): 4}"
      ]
     },
     "execution_count": 34,
     "metadata": {},
     "output_type": "execute_result"
    }
   ],
   "source": [
    "nx.get_edge_attributes(new_graph,\"weight\") #checking the edges in the newly created graph with their associated weights."
   ]
  },
  {
   "cell_type": "code",
   "execution_count": 35,
   "metadata": {},
   "outputs": [],
   "source": [
    "#This is a slightly modified version of the greedy nearest neighbor algorithm.\n",
    "\n",
    "def TSP(new_graph,start_node=most_central_article(G,C)[0]):\n",
    "    \n",
    "    remaining_nodes=set(new_graph.nodes()) #nodes still not visited\n",
    "    path=[start_node] #path starts from the startnode\n",
    "    remaining_nodes.remove(start_node) #we remove the startnode since it has already been visited\n",
    "    \n",
    "    current_node=start_node\n",
    "    \n",
    "    while (current_node!=None):  #We loop until we cannot find new nodes\n",
    "        successors=sorted(new_graph.out_edges(current_node,data=True),key=lambda x:x[2][\"weight\"]) #we sort the outgoing edges\n",
    "        #of the current node by weight\n",
    "        \n",
    "        current_node=None  #since the current node has already been visited, we set it to \"None\" and start looking for the next one.\n",
    "        \n",
    "        for edge in successors: #the successors are ranked by the weight\n",
    "            node=edge[1] #this is the target of the edge.\n",
    "            \n",
    "            #the following if checks if it is still possible to visit all the remaining vertices from this if it is the next node.\n",
    "            #if it is, the for loop breaks, and the program goes back into the while loop for another iteration.\n",
    "            if remaining_nodes.difference(set(new_graph.successors(node)))==set([node]):\n",
    "                current_node=node\n",
    "                path.append(node)\n",
    "                remaining_nodes.remove(node)\n",
    "                break\n",
    "    \n",
    "    #if a new node for the path was not found, we check if we completed the path or not.\n",
    "    if remaining_nodes:\n",
    "        print(\"Cammino non trovato\")\n",
    "        return None\n",
    "    \n",
    "    #The following lines are here only for a nice output format.\n",
    "    edges_of_path=[(path[i],path[i+1],\"weight: \"+str(nx.get_edge_attributes(new_graph,\"weight\")[(path[i],path[i+1])])) for i in range(len(path)-1)]\n",
    "    weights=sum(nx.get_edge_attributes(new_graph,\"weight\")[edge[:2]] for edge in edges_of_path)\n",
    "    print(\"The total lenght of the minimum path is: \",weights)\n",
    "    print(edges_of_path)       \n",
    "        \n",
    "        \n",
    "    \n",
    "    \n",
    "    "
   ]
  },
  {
   "cell_type": "code",
   "execution_count": 36,
   "metadata": {},
   "outputs": [
    {
     "name": "stdout",
     "output_type": "stream",
     "text": [
      "The total lenght of the minimum path is:  9\n",
      "[(82393, 1184017, 'weight: 4'), (1184017, 903941, 'weight: 1'), (903941, 1056184, 'weight: 4')]\n"
     ]
    }
   ],
   "source": [
    "TSP(new_graph)"
   ]
  },
  {
   "cell_type": "markdown",
   "metadata": {},
   "source": [
    "## RQ4"
   ]
  },
  {
   "cell_type": "markdown",
   "metadata": {},
   "source": [
    "Given in input two categories: $C_1$ and $C_2$, we get the subgraph induced by all the articles in the two categories.\n",
    "\n",
    "Let $v$ and $u$ two arbitrary pages in the subgraph. What is the minimum set of hyperlinks one can remove to disconnect $u$ and $v$?"
   ]
  },
  {
   "cell_type": "code",
   "execution_count": 37,
   "metadata": {},
   "outputs": [],
   "source": [
    "Category1='Association_football_defenders'\n",
    "Category2='English_footballers'"
   ]
  },
  {
   "cell_type": "markdown",
   "metadata": {},
   "source": [
    "We now create the list of nodes in one of these categories and then build a subgraph made of those nodes only."
   ]
  },
  {
   "cell_type": "code",
   "execution_count": 38,
   "metadata": {},
   "outputs": [],
   "source": [
    "nodes_c1c2 = [x for x,y in G.nodes(data=True) if y['Category']==Category1 or y['Category']==Category2]\n",
    "H=G.subgraph(nodes_c1c2)"
   ]
  },
  {
   "cell_type": "markdown",
   "metadata": {},
   "source": [
    "This is the function that returns the minimum number of values. We took inspiration from the Ford-Fulkerson algorithm (with integer values as capacities) and from the fact that the maxflow in a graph equals the mincut. This is actually a simpler version: every edge has \"capacity\" one, so a simpler variant of the algorithm could simply try to find the target $T$ from the source $S$, then try to find another path that uses completely different edges. The number of total distinct path corresponds to the mincut."
   ]
  },
  {
   "cell_type": "code",
   "execution_count": 39,
   "metadata": {},
   "outputs": [],
   "source": [
    "def mincut(G, S, T):\n",
    "    \n",
    "    #This is a simpler variant of the maxflow problem.\n",
    "    #We initialize the max_flow to 0 and assume a path exists\n",
    "    assert S!=T,\"Source and target cannot be the same!\"\n",
    "    \n",
    "    _mincut=0\n",
    "    maybe_path_exists=True\n",
    "    already_used_edges=set()\n",
    "        \n",
    "    while maybe_path_exists: #While a path could exists, a BFS starts\n",
    "        predecessor={}\n",
    "        predecessor[S] = S\n",
    "        discovered=predecessor.keys()\n",
    "        \n",
    "        #WARNING: the two lines above are actually using a feature in Python that is not liked by every programmer:\n",
    "        #\"discovered\" is NOT a frozen copy of the predecessory keys, but is something that will change whenever\n",
    "        #a new item is added to the \"predecessor\" dictionary. If one is familiar with C/C++, this is similar to having \n",
    "        #two pointers pointing to the same parts of memory. \n",
    "        \n",
    "        \n",
    "        # we need to do a BFS from S looking for T. We cannot use edges already used in previus searches.\n",
    "        q = deque()\n",
    "        \n",
    "        q.append(S) #We push S into the queue to start the BFS\n",
    "        while q: #While the queue is not empty\n",
    "            v = q.popleft()\n",
    "            for u in G.neighbors(v):\n",
    "                if (u not in discovered) and ((v,u) not in already_used_edges):\n",
    "                    # mark it discovered and push it into queue\n",
    "                    predecessor[u] = v #read the warning above: this also modifies the \"discovered\" array!\n",
    "                    q.append(u)\n",
    "                    if (T in discovered): #if the target was discovered, we can add 1 to the mincut, check the path\n",
    "                        #we used and mark them as \"already used\" and break both the \"for\" loop and the \"while q\" loop to \n",
    "                        #start a new search.\n",
    "                        _mincut+=1\n",
    "                        node=T\n",
    "                        while predecessor[node]!=node:\n",
    "                            already_used_edges.add((predecessor[node],node))\n",
    "                            node=predecessor[node]\n",
    "                        q=[]\n",
    "                        break\n",
    "                        \n",
    "        if (T not in discovered): #if T was not discovered, we found the mincut to return. It can be 0 if u and v \n",
    "            #are not connected\n",
    "            maybe_path_exists=False\n",
    "    return (_mincut)"
   ]
  },
  {
   "cell_type": "code",
   "execution_count": 40,
   "metadata": {},
   "outputs": [
    {
     "data": {
      "text/plain": [
       "3"
      ]
     },
     "execution_count": 40,
     "metadata": {},
     "output_type": "execute_result"
    }
   ],
   "source": [
    "mincut(H,1357914,82385)"
   ]
  },
  {
   "cell_type": "markdown",
   "metadata": {},
   "source": [
    "N.B. The subgraph containing only the nodes of two categories is very sparsely connected, even more so than the original subgraph. The function returns 0 a lot when tested in the subgraph, while it's easier to get a non-zero value in the original graph."
   ]
  },
  {
   "cell_type": "markdown",
   "metadata": {},
   "source": [
    "# RQ5"
   ]
  },
  {
   "cell_type": "markdown",
   "metadata": {},
   "source": [
    "Write a function that, given an arbitrary category $C_0$ as input, returns the list of remaning categories sorted by their distance from $C0$. In particular, the distance between two categories is defined as\n",
    "\n",
    "distance($C_0$, $C_i$) = median(ShortestPath($C_0$, $C_i$))\n",
    "\n",
    "where ShortestPath($C_0$,$ C_i$) is the set of shortest paths from each pair of nodes in the two categories."
   ]
  },
  {
   "cell_type": "code",
   "execution_count": 41,
   "metadata": {},
   "outputs": [],
   "source": [
    "Category0='Association_football_defenders'"
   ]
  },
  {
   "cell_type": "markdown",
   "metadata": {},
   "source": [
    "We now calculate the distance of all the nodes starting from each node of the $C_0$ category (that we called <code>Category_0</code>)"
   ]
  },
  {
   "cell_type": "code",
   "execution_count": 42,
   "metadata": {},
   "outputs": [
    {
     "name": "stderr",
     "output_type": "stream",
     "text": [
      "100%|██████████████████████████████████████████████████████████████████████████████| 2153/2153 [04:16<00:00,  8.39it/s]\n"
     ]
    }
   ],
   "source": [
    "nodes=list(map(int,d_random_cat_page[Category0]))\n",
    "all_distances={}\n",
    "for v in tqdm(nodes):\n",
    "    distances=BFS_distances(G,v) #This function calculates the distance of every node in G from the source v.\n",
    "    all_distances[v]=dict(distances)"
   ]
  },
  {
   "cell_type": "markdown",
   "metadata": {},
   "source": [
    "We now calculate the distances among all tuples ($C_0$, $C_i$)."
   ]
  },
  {
   "cell_type": "code",
   "execution_count": 43,
   "metadata": {},
   "outputs": [
    {
     "name": "stderr",
     "output_type": "stream",
     "text": [
      "100%|██████████████████████████████████████████████████████████████████████████████████| 21/21 [02:34<00:00,  7.37s/it]\n"
     ]
    }
   ],
   "source": [
    "medians=[]\n",
    "\n",
    "for i in tqdm(d_random_cat_page):\n",
    "    temp_nodes=list(map(int,d_random_cat_page[i]))\n",
    "    distances=[]\n",
    "    \n",
    "        \n",
    "    for c_0 in nodes: #we iterate over all nodes in the Category_0\n",
    "        for c_i in temp_nodes: #and over all nodes in all the Categories.\n",
    "            try:\n",
    "                distances.append(all_distances[c_0][c_i]) #if a distance is found in the previous calculation, add it;\n",
    "            except KeyError:\n",
    "                distances.append(float(\"inf\")) # else, we put \"infinity\" as the distance.\n",
    "    \n",
    "    medians.append((i,np.median(np.array(distances)))) #We finally calculate all the medians\n",
    "   "
   ]
  },
  {
   "cell_type": "code",
   "execution_count": 44,
   "metadata": {},
   "outputs": [],
   "source": [
    "medians=sorted(medians,key=lambda x:x[1]) #We sort the array by the medians value"
   ]
  },
  {
   "cell_type": "markdown",
   "metadata": {},
   "source": [
    "We decided to also check the median of the distance among nodes in the same category, so all 21 categories will be here."
   ]
  },
  {
   "cell_type": "code",
   "execution_count": 45,
   "metadata": {},
   "outputs": [
    {
     "data": {
      "text/plain": [
       "[('American_film_actors', 9.0),\n",
       " ('American_television_actors', 9.0),\n",
       " ('American_films', 9.0),\n",
       " ('Members_of_the_United_Kingdom_Parliament_for_English_constituencies', 10.0),\n",
       " ('English-language_films', 10.0),\n",
       " ('Black-and-white_films', 11.0),\n",
       " ('Rivers_of_Romania', 13.0),\n",
       " ('English_footballers', inf),\n",
       " ('The_Football_League_players', inf),\n",
       " ('Association_football_forwards', inf),\n",
       " ('Year_of_death_missing', inf),\n",
       " ('Association_football_defenders', inf),\n",
       " ('Year_of_birth_missing', inf),\n",
       " ('Association_football_midfielders', inf),\n",
       " ('Place_of_birth_missing_(living_people)', inf),\n",
       " ('Harvard_University_alumni', inf),\n",
       " ('Major_League_Baseball_pitchers', inf),\n",
       " ('Indian_films', inf),\n",
       " ('Main_Belt_asteroids', inf),\n",
       " ('Asteroids_named_for_people', inf),\n",
       " ('Debut_albums', inf)]"
      ]
     },
     "execution_count": 45,
     "metadata": {},
     "output_type": "execute_result"
    }
   ],
   "source": [
    "medians"
   ]
  },
  {
   "cell_type": "markdown",
   "metadata": {},
   "source": [
    "## RQ 6\n",
    "\n",
    "Write a function that sorts the categories in the graph according to their PageRank (PR). For this task you need to model the network of categories such that you can apply the PR algorithm.\n",
    "\n",
    "\n",
    "#### Building the DataFrame\n",
    "In order to accomplish this task, we built a graph in the following way:\n",
    "* each node represent a category\n",
    "* the node associated to the category_1 points the node of the category_2 if there is at least one page in category_1 that points a page in category_2\n",
    "\n",
    "In order to build this network we replaced all the pages in the dataframe <code>edges</code> with their respective categories, by mean of <code>cat_of_page</code> dictionary, which returns for every page, the category to which it belongs.\n",
    "Then we converted the dataframe into a Graph Object with the same procedure applied above.\n",
    "\n",
    "#### The Page Rank Score\n",
    "First we modify a little the network, adding a link to every other node from the nodes whose out-degree is zero. \n",
    "\n",
    "Then we build the network's matrix $p$ ,  $p_{ij}=  d * \\frac{1}{|N|} + (1-d)* 1_{\\{(i,j)\\}}*\\frac{1}{\\delta^+(n_i)}$. \n",
    "Where:\n",
    "* $N$ = Set of the nodes\n",
    "* $d$ = *dumping factor*, probability that the web-surfer goes to the next category through the search bar (instead of using a link of the page). Default = 0.85.\n",
    "* $1_{\\{(i,j)\\}} = 1$ if $\\exists$ edge $(i,j)$  , $0$ else\n",
    "* $\\delta^+(n_i)$ is the *out-degree* of the node \n",
    "\n",
    "The Page Rank vector is an enginevector of enginevalue 1 of $p$. Therefore, if we start from a random page (e.g. the first one) $q_0$, and then we iterate $q_{(t+1)} = p* q_{(t)}$, eventually we will converge to it after a finite number of steps.\n"
   ]
  },
  {
   "cell_type": "code",
   "execution_count": 46,
   "metadata": {},
   "outputs": [],
   "source": [
    "#Building the Data Frame of Categories\n",
    "cat_of_page = {}\n",
    "\n",
    "for cat in d_random_cat_page: #d_random_cat_page returns for each category, the list of the pages belonging to it\n",
    "    for page in d_random_cat_page[cat]: # in cat_of_pages we assign to each page in\n",
    "        cat_of_page[page] = cat         # d_random_cat_page[cat], the category as value\n",
    "                                        \n",
    "        "
   ]
  },
  {
   "cell_type": "code",
   "execution_count": 47,
   "metadata": {},
   "outputs": [],
   "source": [
    "df_edges_cat = pd.DataFrame()\n",
    "df_edges_cat['source'] = [cat_of_page[page] for page in df_edges['source']]\n",
    "df_edges_cat['target'] = [cat_of_page[page] for page in df_edges['target']]\n"
   ]
  },
  {
   "cell_type": "code",
   "execution_count": 48,
   "metadata": {},
   "outputs": [
    {
     "data": {
      "text/html": [
       "<div>\n",
       "<style scoped>\n",
       "    .dataframe tbody tr th:only-of-type {\n",
       "        vertical-align: middle;\n",
       "    }\n",
       "\n",
       "    .dataframe tbody tr th {\n",
       "        vertical-align: top;\n",
       "    }\n",
       "\n",
       "    .dataframe thead th {\n",
       "        text-align: right;\n",
       "    }\n",
       "</style>\n",
       "<table border=\"1\" class=\"dataframe\">\n",
       "  <thead>\n",
       "    <tr style=\"text-align: right;\">\n",
       "      <th></th>\n",
       "      <th>source</th>\n",
       "      <th>target</th>\n",
       "    </tr>\n",
       "  </thead>\n",
       "  <tbody>\n",
       "    <tr>\n",
       "      <th>0</th>\n",
       "      <td>Debut_albums</td>\n",
       "      <td>Place_of_birth_missing_(living_people)</td>\n",
       "    </tr>\n",
       "    <tr>\n",
       "      <th>1</th>\n",
       "      <td>Debut_albums</td>\n",
       "      <td>American_films</td>\n",
       "    </tr>\n",
       "    <tr>\n",
       "      <th>2</th>\n",
       "      <td>Debut_albums</td>\n",
       "      <td>American_television_actors</td>\n",
       "    </tr>\n",
       "    <tr>\n",
       "      <th>3</th>\n",
       "      <td>Debut_albums</td>\n",
       "      <td>Place_of_birth_missing_(living_people)</td>\n",
       "    </tr>\n",
       "    <tr>\n",
       "      <th>4</th>\n",
       "      <td>English-language_films</td>\n",
       "      <td>Members_of_the_United_Kingdom_Parliament_for_E...</td>\n",
       "    </tr>\n",
       "    <tr>\n",
       "      <th>...</th>\n",
       "      <td>...</td>\n",
       "      <td>...</td>\n",
       "    </tr>\n",
       "    <tr>\n",
       "      <th>483089</th>\n",
       "      <td>English-language_films</td>\n",
       "      <td>American_television_actors</td>\n",
       "    </tr>\n",
       "    <tr>\n",
       "      <th>483090</th>\n",
       "      <td>English-language_films</td>\n",
       "      <td>American_film_actors</td>\n",
       "    </tr>\n",
       "    <tr>\n",
       "      <th>483091</th>\n",
       "      <td>English-language_films</td>\n",
       "      <td>Place_of_birth_missing_(living_people)</td>\n",
       "    </tr>\n",
       "    <tr>\n",
       "      <th>483092</th>\n",
       "      <td>Association_football_midfielders</td>\n",
       "      <td>English_footballers</td>\n",
       "    </tr>\n",
       "    <tr>\n",
       "      <th>483093</th>\n",
       "      <td>Harvard_University_alumni</td>\n",
       "      <td>Harvard_University_alumni</td>\n",
       "    </tr>\n",
       "  </tbody>\n",
       "</table>\n",
       "<p>483094 rows × 2 columns</p>\n",
       "</div>"
      ],
      "text/plain": [
       "                                  source  \\\n",
       "0                           Debut_albums   \n",
       "1                           Debut_albums   \n",
       "2                           Debut_albums   \n",
       "3                           Debut_albums   \n",
       "4                 English-language_films   \n",
       "...                                  ...   \n",
       "483089            English-language_films   \n",
       "483090            English-language_films   \n",
       "483091            English-language_films   \n",
       "483092  Association_football_midfielders   \n",
       "483093         Harvard_University_alumni   \n",
       "\n",
       "                                                   target  \n",
       "0                  Place_of_birth_missing_(living_people)  \n",
       "1                                          American_films  \n",
       "2                              American_television_actors  \n",
       "3                  Place_of_birth_missing_(living_people)  \n",
       "4       Members_of_the_United_Kingdom_Parliament_for_E...  \n",
       "...                                                   ...  \n",
       "483089                         American_television_actors  \n",
       "483090                               American_film_actors  \n",
       "483091             Place_of_birth_missing_(living_people)  \n",
       "483092                                English_footballers  \n",
       "483093                          Harvard_University_alumni  \n",
       "\n",
       "[483094 rows x 2 columns]"
      ]
     },
     "execution_count": 48,
     "metadata": {},
     "output_type": "execute_result"
    }
   ],
   "source": [
    "df_edges_cat #the nodes are replaced with the categories "
   ]
  },
  {
   "cell_type": "code",
   "execution_count": 49,
   "metadata": {},
   "outputs": [],
   "source": [
    "G_cat=nx.convert_matrix.from_pandas_edgelist(df_edges_cat, 'source', 'target',create_using=nx.DiGraph())"
   ]
  },
  {
   "cell_type": "code",
   "execution_count": 50,
   "metadata": {},
   "outputs": [
    {
     "data": {
      "text/plain": [
       "21"
      ]
     },
     "execution_count": 50,
     "metadata": {},
     "output_type": "execute_result"
    }
   ],
   "source": [
    "len(G_cat)"
   ]
  },
  {
   "cell_type": "code",
   "execution_count": 51,
   "metadata": {},
   "outputs": [],
   "source": [
    "import copy\n",
    "\n",
    "def PageRank(G,alpha=0.85,max_iter=100,epsilon=1e-6):\n",
    "    d_node = {node: i for i,node in enumerate(list(G.nodes()))}  #map each node with a number\n",
    "    \n",
    "    n = len(G.nodes()) \n",
    "    \n",
    "    # p = d*uniform_p + (1-d)* outlink_p\n",
    "    \n",
    "    uniform_p = np.full((n,n),1/n)  #uniform_p = matrix  1/n * I , dim(I) = n X n \n",
    "    \n",
    "    outlink_p = np.zeros((n,n))  #outlink_p[i,j] = 1/deg(i) *1_{(i,j) exists}\n",
    "    for node in G.nodes():\n",
    "        i = d_node[node]\n",
    "        for neigh in G.successors(node):\n",
    "            j = d_node[neigh]\n",
    "            outlink_p[i][j] = 1/len(list(G.successors(node)))\n",
    "    \n",
    "    #adding an edge to each node for those nodes whose out-degree = 0         \n",
    "    for i in range(n):\n",
    "        if np.sum(outlink_p[i])==0:\n",
    "            outlink_p[i] = np.full((1, n), 1/n) \n",
    "    \n",
    "    p = (1-alpha)*uniform_p+(alpha)*outlink_p\n",
    "    \n",
    "    q = np.zeros((1,n)) \n",
    "    \n",
    "    q[0][0] = 1  #we start from the first category\n",
    "    \n",
    "    def distance(A,B):\n",
    "        C = np.abs(A-B)\n",
    "        return np.sum(C)\n",
    "    \n",
    "    for i in tqdm(range(max_iter)):\n",
    "        q_new = np.dot(q,p) #q_(t+1) = q_(t) *p \n",
    "        \n",
    "        if epsilon: #establish a criteria for the convergence, if the q's of two consecutive steps are close -> stop.\n",
    "            if distance(q,q_new) < epsilon:\n",
    "                break\n",
    "        \n",
    "        q = q_new\n",
    "\n",
    "    d = {node: q[0][d_node[node]] for node in G.nodes()} #for each category, we indicate the page rank score\n",
    "    \n",
    "    return d\n"
   ]
  },
  {
   "cell_type": "markdown",
   "metadata": {},
   "source": [
    "Above we report the PageRank score computed by Network"
   ]
  },
  {
   "cell_type": "code",
   "execution_count": 52,
   "metadata": {},
   "outputs": [
    {
     "data": {
      "text/html": [
       "<div>\n",
       "<style scoped>\n",
       "    .dataframe tbody tr th:only-of-type {\n",
       "        vertical-align: middle;\n",
       "    }\n",
       "\n",
       "    .dataframe tbody tr th {\n",
       "        vertical-align: top;\n",
       "    }\n",
       "\n",
       "    .dataframe thead th {\n",
       "        text-align: right;\n",
       "    }\n",
       "</style>\n",
       "<table border=\"1\" class=\"dataframe\">\n",
       "  <thead>\n",
       "    <tr style=\"text-align: right;\">\n",
       "      <th></th>\n",
       "      <th>Category</th>\n",
       "      <th>Page Rank</th>\n",
       "    </tr>\n",
       "  </thead>\n",
       "  <tbody>\n",
       "    <tr>\n",
       "      <th>2</th>\n",
       "      <td>American_films</td>\n",
       "      <td>0.065654</td>\n",
       "    </tr>\n",
       "    <tr>\n",
       "      <th>10</th>\n",
       "      <td>Year_of_death_missing</td>\n",
       "      <td>0.054445</td>\n",
       "    </tr>\n",
       "    <tr>\n",
       "      <th>14</th>\n",
       "      <td>Year_of_birth_missing</td>\n",
       "      <td>0.054445</td>\n",
       "    </tr>\n",
       "    <tr>\n",
       "      <th>1</th>\n",
       "      <td>Place_of_birth_missing_(living_people)</td>\n",
       "      <td>0.054445</td>\n",
       "    </tr>\n",
       "    <tr>\n",
       "      <th>3</th>\n",
       "      <td>American_television_actors</td>\n",
       "      <td>0.054445</td>\n",
       "    </tr>\n",
       "    <tr>\n",
       "      <th>6</th>\n",
       "      <td>American_film_actors</td>\n",
       "      <td>0.054445</td>\n",
       "    </tr>\n",
       "    <tr>\n",
       "      <th>5</th>\n",
       "      <td>Members_of_the_United_Kingdom_Parliament_for_E...</td>\n",
       "      <td>0.052646</td>\n",
       "    </tr>\n",
       "    <tr>\n",
       "      <th>4</th>\n",
       "      <td>English-language_films</td>\n",
       "      <td>0.052540</td>\n",
       "    </tr>\n",
       "    <tr>\n",
       "      <th>13</th>\n",
       "      <td>Association_football_forwards</td>\n",
       "      <td>0.052450</td>\n",
       "    </tr>\n",
       "    <tr>\n",
       "      <th>7</th>\n",
       "      <td>Harvard_University_alumni</td>\n",
       "      <td>0.051267</td>\n",
       "    </tr>\n",
       "    <tr>\n",
       "      <th>0</th>\n",
       "      <td>Debut_albums</td>\n",
       "      <td>0.050226</td>\n",
       "    </tr>\n",
       "    <tr>\n",
       "      <th>8</th>\n",
       "      <td>Association_football_defenders</td>\n",
       "      <td>0.048593</td>\n",
       "    </tr>\n",
       "    <tr>\n",
       "      <th>17</th>\n",
       "      <td>English_footballers</td>\n",
       "      <td>0.048319</td>\n",
       "    </tr>\n",
       "    <tr>\n",
       "      <th>12</th>\n",
       "      <td>Association_football_midfielders</td>\n",
       "      <td>0.048033</td>\n",
       "    </tr>\n",
       "    <tr>\n",
       "      <th>16</th>\n",
       "      <td>The_Football_League_players</td>\n",
       "      <td>0.046172</td>\n",
       "    </tr>\n",
       "    <tr>\n",
       "      <th>20</th>\n",
       "      <td>Rivers_of_Romania</td>\n",
       "      <td>0.044332</td>\n",
       "    </tr>\n",
       "    <tr>\n",
       "      <th>11</th>\n",
       "      <td>Black-and-white_films</td>\n",
       "      <td>0.042395</td>\n",
       "    </tr>\n",
       "    <tr>\n",
       "      <th>18</th>\n",
       "      <td>Major_League_Baseball_pitchers</td>\n",
       "      <td>0.037899</td>\n",
       "    </tr>\n",
       "    <tr>\n",
       "      <th>19</th>\n",
       "      <td>Indian_films</td>\n",
       "      <td>0.035204</td>\n",
       "    </tr>\n",
       "    <tr>\n",
       "      <th>9</th>\n",
       "      <td>Main_Belt_asteroids</td>\n",
       "      <td>0.029634</td>\n",
       "    </tr>\n",
       "    <tr>\n",
       "      <th>15</th>\n",
       "      <td>Asteroids_named_for_people</td>\n",
       "      <td>0.022413</td>\n",
       "    </tr>\n",
       "  </tbody>\n",
       "</table>\n",
       "</div>"
      ],
      "text/plain": [
       "                                             Category  Page Rank\n",
       "2                                      American_films   0.065654\n",
       "10                              Year_of_death_missing   0.054445\n",
       "14                              Year_of_birth_missing   0.054445\n",
       "1              Place_of_birth_missing_(living_people)   0.054445\n",
       "3                          American_television_actors   0.054445\n",
       "6                                American_film_actors   0.054445\n",
       "5   Members_of_the_United_Kingdom_Parliament_for_E...   0.052646\n",
       "4                              English-language_films   0.052540\n",
       "13                      Association_football_forwards   0.052450\n",
       "7                           Harvard_University_alumni   0.051267\n",
       "0                                        Debut_albums   0.050226\n",
       "8                      Association_football_defenders   0.048593\n",
       "17                                English_footballers   0.048319\n",
       "12                   Association_football_midfielders   0.048033\n",
       "16                        The_Football_League_players   0.046172\n",
       "20                                  Rivers_of_Romania   0.044332\n",
       "11                              Black-and-white_films   0.042395\n",
       "18                     Major_League_Baseball_pitchers   0.037899\n",
       "19                                       Indian_films   0.035204\n",
       "9                                 Main_Belt_asteroids   0.029634\n",
       "15                         Asteroids_named_for_people   0.022413"
      ]
     },
     "execution_count": 52,
     "metadata": {},
     "output_type": "execute_result"
    }
   ],
   "source": [
    "\n",
    "\n",
    "PR_nx_tuples = nx.pagerank(G_cat,alpha = 0.85,max_iter= 100).items()\n",
    "\n",
    "PR_nx = pd.DataFrame(PR_nx_tuples,columns=['Category','Page Rank']).sort_values(['Page Rank','Category'],ascending = False)\n",
    "\n",
    "PR_nx \n"
   ]
  },
  {
   "cell_type": "code",
   "execution_count": 53,
   "metadata": {},
   "outputs": [
    {
     "name": "stderr",
     "output_type": "stream",
     "text": [
      "100%|██████████████████████████████████████████████████████████████████████████████| 100/100 [00:00<00:00, 2949.06it/s]\n"
     ]
    },
    {
     "data": {
      "text/html": [
       "<div>\n",
       "<style scoped>\n",
       "    .dataframe tbody tr th:only-of-type {\n",
       "        vertical-align: middle;\n",
       "    }\n",
       "\n",
       "    .dataframe tbody tr th {\n",
       "        vertical-align: top;\n",
       "    }\n",
       "\n",
       "    .dataframe thead th {\n",
       "        text-align: right;\n",
       "    }\n",
       "</style>\n",
       "<table border=\"1\" class=\"dataframe\">\n",
       "  <thead>\n",
       "    <tr style=\"text-align: right;\">\n",
       "      <th></th>\n",
       "      <th>Category</th>\n",
       "      <th>Page Rank</th>\n",
       "    </tr>\n",
       "  </thead>\n",
       "  <tbody>\n",
       "    <tr>\n",
       "      <th>2</th>\n",
       "      <td>American_films</td>\n",
       "      <td>0.065651</td>\n",
       "    </tr>\n",
       "    <tr>\n",
       "      <th>10</th>\n",
       "      <td>Year_of_death_missing</td>\n",
       "      <td>0.054445</td>\n",
       "    </tr>\n",
       "    <tr>\n",
       "      <th>14</th>\n",
       "      <td>Year_of_birth_missing</td>\n",
       "      <td>0.054445</td>\n",
       "    </tr>\n",
       "    <tr>\n",
       "      <th>1</th>\n",
       "      <td>Place_of_birth_missing_(living_people)</td>\n",
       "      <td>0.054445</td>\n",
       "    </tr>\n",
       "    <tr>\n",
       "      <th>3</th>\n",
       "      <td>American_television_actors</td>\n",
       "      <td>0.054445</td>\n",
       "    </tr>\n",
       "    <tr>\n",
       "      <th>6</th>\n",
       "      <td>American_film_actors</td>\n",
       "      <td>0.054445</td>\n",
       "    </tr>\n",
       "    <tr>\n",
       "      <th>5</th>\n",
       "      <td>Members_of_the_United_Kingdom_Parliament_for_E...</td>\n",
       "      <td>0.052646</td>\n",
       "    </tr>\n",
       "    <tr>\n",
       "      <th>4</th>\n",
       "      <td>English-language_films</td>\n",
       "      <td>0.052540</td>\n",
       "    </tr>\n",
       "    <tr>\n",
       "      <th>13</th>\n",
       "      <td>Association_football_forwards</td>\n",
       "      <td>0.052450</td>\n",
       "    </tr>\n",
       "    <tr>\n",
       "      <th>7</th>\n",
       "      <td>Harvard_University_alumni</td>\n",
       "      <td>0.051268</td>\n",
       "    </tr>\n",
       "    <tr>\n",
       "      <th>0</th>\n",
       "      <td>Debut_albums</td>\n",
       "      <td>0.050226</td>\n",
       "    </tr>\n",
       "    <tr>\n",
       "      <th>8</th>\n",
       "      <td>Association_football_defenders</td>\n",
       "      <td>0.048593</td>\n",
       "    </tr>\n",
       "    <tr>\n",
       "      <th>17</th>\n",
       "      <td>English_footballers</td>\n",
       "      <td>0.048320</td>\n",
       "    </tr>\n",
       "    <tr>\n",
       "      <th>12</th>\n",
       "      <td>Association_football_midfielders</td>\n",
       "      <td>0.048034</td>\n",
       "    </tr>\n",
       "    <tr>\n",
       "      <th>16</th>\n",
       "      <td>The_Football_League_players</td>\n",
       "      <td>0.046172</td>\n",
       "    </tr>\n",
       "    <tr>\n",
       "      <th>20</th>\n",
       "      <td>Rivers_of_Romania</td>\n",
       "      <td>0.044329</td>\n",
       "    </tr>\n",
       "    <tr>\n",
       "      <th>11</th>\n",
       "      <td>Black-and-white_films</td>\n",
       "      <td>0.042395</td>\n",
       "    </tr>\n",
       "    <tr>\n",
       "      <th>18</th>\n",
       "      <td>Major_League_Baseball_pitchers</td>\n",
       "      <td>0.037899</td>\n",
       "    </tr>\n",
       "    <tr>\n",
       "      <th>19</th>\n",
       "      <td>Indian_films</td>\n",
       "      <td>0.035204</td>\n",
       "    </tr>\n",
       "    <tr>\n",
       "      <th>9</th>\n",
       "      <td>Main_Belt_asteroids</td>\n",
       "      <td>0.029634</td>\n",
       "    </tr>\n",
       "    <tr>\n",
       "      <th>15</th>\n",
       "      <td>Asteroids_named_for_people</td>\n",
       "      <td>0.022414</td>\n",
       "    </tr>\n",
       "  </tbody>\n",
       "</table>\n",
       "</div>"
      ],
      "text/plain": [
       "                                             Category  Page Rank\n",
       "2                                      American_films   0.065651\n",
       "10                              Year_of_death_missing   0.054445\n",
       "14                              Year_of_birth_missing   0.054445\n",
       "1              Place_of_birth_missing_(living_people)   0.054445\n",
       "3                          American_television_actors   0.054445\n",
       "6                                American_film_actors   0.054445\n",
       "5   Members_of_the_United_Kingdom_Parliament_for_E...   0.052646\n",
       "4                              English-language_films   0.052540\n",
       "13                      Association_football_forwards   0.052450\n",
       "7                           Harvard_University_alumni   0.051268\n",
       "0                                        Debut_albums   0.050226\n",
       "8                      Association_football_defenders   0.048593\n",
       "17                                English_footballers   0.048320\n",
       "12                   Association_football_midfielders   0.048034\n",
       "16                        The_Football_League_players   0.046172\n",
       "20                                  Rivers_of_Romania   0.044329\n",
       "11                              Black-and-white_films   0.042395\n",
       "18                     Major_League_Baseball_pitchers   0.037899\n",
       "19                                       Indian_films   0.035204\n",
       "9                                 Main_Belt_asteroids   0.029634\n",
       "15                         Asteroids_named_for_people   0.022414"
      ]
     },
     "execution_count": 53,
     "metadata": {},
     "output_type": "execute_result"
    }
   ],
   "source": [
    "PR_tuples = PageRank(G_cat,epsilon = False).items()\n",
    "\n",
    "PR = pd.DataFrame(PR_tuples,columns=['Category','Page Rank']).sort_values(['Page Rank','Category'],ascending = False)\n",
    "\n",
    "PR "
   ]
  }
 ],
 "metadata": {
  "kernelspec": {
   "display_name": "Python 3",
   "language": "python",
   "name": "python3"
  },
  "language_info": {
   "codemirror_mode": {
    "name": "ipython",
    "version": 3
   },
   "file_extension": ".py",
   "mimetype": "text/x-python",
   "name": "python",
   "nbconvert_exporter": "python",
   "pygments_lexer": "ipython3",
   "version": "3.8.5"
  }
 },
 "nbformat": 4,
 "nbformat_minor": 4
}
