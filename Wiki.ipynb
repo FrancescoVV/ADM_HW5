{
 "cells": [
  {
   "cell_type": "markdown",
   "metadata": {},
   "source": [
    "# Data and Setting"
   ]
  },
  {
   "cell_type": "code",
   "execution_count": 1,
   "metadata": {},
   "outputs": [],
   "source": [
    "import pandas as pd\n",
    "from collections import defaultdict\n",
    "import numpy as np\n",
    "import random\n",
    "import networkx as nx\n",
    "import numpy as np\n",
    "import pandas as pd\n",
    "import seaborn as sns\n",
    "import matplotlib as mpl\n",
    "import matplotlib.pyplot as plt\n",
    "from tqdm import tqdm\n",
    "from collections import deque"
   ]
  },
  {
   "cell_type": "markdown",
   "metadata": {},
   "source": [
    "### Network"
   ]
  },
  {
   "cell_type": "markdown",
   "metadata": {},
   "source": [
    "In this first part we load the dataset. We'll use the `nx.convert_matrix.from_pandas_edgelist` function to build the graph later."
   ]
  },
  {
   "cell_type": "code",
   "execution_count": 2,
   "metadata": {},
   "outputs": [],
   "source": [
    "#dataframe for the network \n",
    "\n",
    "#names of columns\n",
    "cols = ['edge_ID','source','target']\n",
    "\n",
    "#loading Dataframe\n",
    "df_edges = pd.read_csv('wikigraph_reduced.csv', delimiter = '\\t',names = cols).drop(index = 0)\n",
    "\n",
    "#making edge_ID as int\n",
    "df_edges['edge_ID'] = list(map(int, df_edges['edge_ID']))\n",
    "\n",
    "#set of all the nodes in the graph\n",
    "nodes=set(df_edges[\"source\"]).union(set(df_edges[\"target\"]))"
   ]
  },
  {
   "cell_type": "code",
   "execution_count": 3,
   "metadata": {},
   "outputs": [
    {
     "data": {
      "text/html": [
       "<div>\n",
       "<style scoped>\n",
       "    .dataframe tbody tr th:only-of-type {\n",
       "        vertical-align: middle;\n",
       "    }\n",
       "\n",
       "    .dataframe tbody tr th {\n",
       "        vertical-align: top;\n",
       "    }\n",
       "\n",
       "    .dataframe thead th {\n",
       "        text-align: right;\n",
       "    }\n",
       "</style>\n",
       "<table border=\"1\" class=\"dataframe\">\n",
       "  <thead>\n",
       "    <tr style=\"text-align: right;\">\n",
       "      <th></th>\n",
       "      <th>edge_ID</th>\n",
       "      <th>source</th>\n",
       "      <th>target</th>\n",
       "    </tr>\n",
       "  </thead>\n",
       "  <tbody>\n",
       "    <tr>\n",
       "      <th>1</th>\n",
       "      <td>796</td>\n",
       "      <td>95</td>\n",
       "      <td>1185516</td>\n",
       "    </tr>\n",
       "    <tr>\n",
       "      <th>2</th>\n",
       "      <td>909</td>\n",
       "      <td>108</td>\n",
       "      <td>1059989</td>\n",
       "    </tr>\n",
       "    <tr>\n",
       "      <th>3</th>\n",
       "      <td>910</td>\n",
       "      <td>108</td>\n",
       "      <td>1062426</td>\n",
       "    </tr>\n",
       "    <tr>\n",
       "      <th>4</th>\n",
       "      <td>911</td>\n",
       "      <td>108</td>\n",
       "      <td>1161925</td>\n",
       "    </tr>\n",
       "    <tr>\n",
       "      <th>5</th>\n",
       "      <td>1141</td>\n",
       "      <td>134</td>\n",
       "      <td>541222</td>\n",
       "    </tr>\n",
       "    <tr>\n",
       "      <th>...</th>\n",
       "      <td>...</td>\n",
       "      <td>...</td>\n",
       "      <td>...</td>\n",
       "    </tr>\n",
       "    <tr>\n",
       "      <th>483090</th>\n",
       "      <td>28511768</td>\n",
       "      <td>1791481</td>\n",
       "      <td>1060990</td>\n",
       "    </tr>\n",
       "    <tr>\n",
       "      <th>483091</th>\n",
       "      <td>28511769</td>\n",
       "      <td>1791481</td>\n",
       "      <td>1061382</td>\n",
       "    </tr>\n",
       "    <tr>\n",
       "      <th>483092</th>\n",
       "      <td>28511771</td>\n",
       "      <td>1791481</td>\n",
       "      <td>1110380</td>\n",
       "    </tr>\n",
       "    <tr>\n",
       "      <th>483093</th>\n",
       "      <td>28511772</td>\n",
       "      <td>1791482</td>\n",
       "      <td>80740</td>\n",
       "    </tr>\n",
       "    <tr>\n",
       "      <th>483094</th>\n",
       "      <td>28511785</td>\n",
       "      <td>1791484</td>\n",
       "      <td>235100</td>\n",
       "    </tr>\n",
       "  </tbody>\n",
       "</table>\n",
       "<p>483094 rows × 3 columns</p>\n",
       "</div>"
      ],
      "text/plain": [
       "         edge_ID   source   target\n",
       "1            796       95  1185516\n",
       "2            909      108  1059989\n",
       "3            910      108  1062426\n",
       "4            911      108  1161925\n",
       "5           1141      134   541222\n",
       "...          ...      ...      ...\n",
       "483090  28511768  1791481  1060990\n",
       "483091  28511769  1791481  1061382\n",
       "483092  28511771  1791481  1110380\n",
       "483093  28511772  1791482    80740\n",
       "483094  28511785  1791484   235100\n",
       "\n",
       "[483094 rows x 3 columns]"
      ]
     },
     "execution_count": 3,
     "metadata": {},
     "output_type": "execute_result"
    }
   ],
   "source": [
    "df_edges"
   ]
  },
  {
   "cell_type": "markdown",
   "metadata": {},
   "source": [
    "### Page Names"
   ]
  },
  {
   "cell_type": "markdown",
   "metadata": {},
   "source": [
    "In this subsection we load the dataset containing the names of the nodes.\n",
    "\n",
    "Since there is not a unique delimiter that separates the node number from the name and using the *\\\" \"* character doesn't work because it would also separates some names (e.g: *\\\"0 Chiasmal syndrome\"* would be split into three parts) we loaded everything into a simple column and then separated the node number from the rest."
   ]
  },
  {
   "cell_type": "code",
   "execution_count": 4,
   "metadata": {},
   "outputs": [],
   "source": [
    "df_names = pd.read_csv('wiki-topcats-page-names.txt.gz',names =['node name'])"
   ]
  },
  {
   "cell_type": "code",
   "execution_count": 5,
   "metadata": {},
   "outputs": [
    {
     "data": {
      "text/html": [
       "<div>\n",
       "<style scoped>\n",
       "    .dataframe tbody tr th:only-of-type {\n",
       "        vertical-align: middle;\n",
       "    }\n",
       "\n",
       "    .dataframe tbody tr th {\n",
       "        vertical-align: top;\n",
       "    }\n",
       "\n",
       "    .dataframe thead th {\n",
       "        text-align: right;\n",
       "    }\n",
       "</style>\n",
       "<table border=\"1\" class=\"dataframe\">\n",
       "  <thead>\n",
       "    <tr style=\"text-align: right;\">\n",
       "      <th></th>\n",
       "      <th>node name</th>\n",
       "    </tr>\n",
       "  </thead>\n",
       "  <tbody>\n",
       "    <tr>\n",
       "      <th>0</th>\n",
       "      <td>0 Chiasmal syndrome</td>\n",
       "    </tr>\n",
       "    <tr>\n",
       "      <th>1</th>\n",
       "      <td>1 Kleroterion</td>\n",
       "    </tr>\n",
       "    <tr>\n",
       "      <th>2</th>\n",
       "      <td>2 Pinakion</td>\n",
       "    </tr>\n",
       "  </tbody>\n",
       "</table>\n",
       "</div>"
      ],
      "text/plain": [
       "             node name\n",
       "0  0 Chiasmal syndrome\n",
       "1        1 Kleroterion\n",
       "2           2 Pinakion"
      ]
     },
     "execution_count": 5,
     "metadata": {},
     "output_type": "execute_result"
    }
   ],
   "source": [
    "df_names.head(3)"
   ]
  },
  {
   "cell_type": "code",
   "execution_count": 6,
   "metadata": {},
   "outputs": [],
   "source": [
    "df_names['node'] = [s.split()[0] for s in list(df_names['node name']) ]\n",
    "df_names['name'] = [' '.join(s.split()[1:]) for s in list(df_names['node name'])]\n",
    "df_names = df_names.drop('node name',axis = 1)"
   ]
  },
  {
   "cell_type": "markdown",
   "metadata": {},
   "source": [
    "### Categories"
   ]
  },
  {
   "cell_type": "markdown",
   "metadata": {},
   "source": [
    "In this subsection we load the dataset containing the categories of the nodes. We removed the prefix: *\\\"Category:\"* from each category name and grouped all the pages belonging to a certain category in a list."
   ]
  },
  {
   "cell_type": "code",
   "execution_count": 7,
   "metadata": {},
   "outputs": [
    {
     "data": {
      "text/html": [
       "<div>\n",
       "<style scoped>\n",
       "    .dataframe tbody tr th:only-of-type {\n",
       "        vertical-align: middle;\n",
       "    }\n",
       "\n",
       "    .dataframe tbody tr th {\n",
       "        vertical-align: top;\n",
       "    }\n",
       "\n",
       "    .dataframe thead th {\n",
       "        text-align: right;\n",
       "    }\n",
       "</style>\n",
       "<table border=\"1\" class=\"dataframe\">\n",
       "  <thead>\n",
       "    <tr style=\"text-align: right;\">\n",
       "      <th></th>\n",
       "      <th>cat_name</th>\n",
       "      <th>pages</th>\n",
       "    </tr>\n",
       "  </thead>\n",
       "  <tbody>\n",
       "    <tr>\n",
       "      <th>0</th>\n",
       "      <td>Buprestoidea</td>\n",
       "      <td>[301, 302, 303, 304, 305, 306, 307, 308, 309, ...</td>\n",
       "    </tr>\n",
       "    <tr>\n",
       "      <th>1</th>\n",
       "      <td>People_from_Worcester</td>\n",
       "      <td>[1056, 1057, 1058, 1059, 1060, 60971, 76515, 7...</td>\n",
       "    </tr>\n",
       "    <tr>\n",
       "      <th>2</th>\n",
       "      <td>Skin_conditions_resulting_from_physical_factors</td>\n",
       "      <td>[971, 973, 1166, 1167, 1168, 1169, 1170, 1171,...</td>\n",
       "    </tr>\n",
       "    <tr>\n",
       "      <th>3</th>\n",
       "      <td>Visual_kei_bands</td>\n",
       "      <td>[1297, 1300, 1311, 1312, 1313, 1314, 1315, 131...</td>\n",
       "    </tr>\n",
       "    <tr>\n",
       "      <th>4</th>\n",
       "      <td>Japanese_rock_music_groups</td>\n",
       "      <td>[1297, 1300, 1313, 1314, 1315, 1316, 1319, 132...</td>\n",
       "    </tr>\n",
       "    <tr>\n",
       "      <th>...</th>\n",
       "      <td>...</td>\n",
       "      <td>...</td>\n",
       "    </tr>\n",
       "    <tr>\n",
       "      <th>17359</th>\n",
       "      <td>British_science_fiction_novels</td>\n",
       "      <td>[16110, 24545, 39814, 67923, 108629, 108630, 1...</td>\n",
       "    </tr>\n",
       "    <tr>\n",
       "      <th>17360</th>\n",
       "      <td>Television_soundtracks</td>\n",
       "      <td>[1117, 110192, 110376, 110377, 110380, 110395,...</td>\n",
       "    </tr>\n",
       "    <tr>\n",
       "      <th>17361</th>\n",
       "      <td>Diptera_of_North_America</td>\n",
       "      <td>[279, 280, 283, 31110, 31129, 31133, 31138, 31...</td>\n",
       "    </tr>\n",
       "    <tr>\n",
       "      <th>17362</th>\n",
       "      <td>Diptera_of_Asia</td>\n",
       "      <td>[279, 31129, 31133, 31134, 31135, 31136, 31137...</td>\n",
       "    </tr>\n",
       "    <tr>\n",
       "      <th>17363</th>\n",
       "      <td>Tachinidae</td>\n",
       "      <td>[429765, 429776, 860398, 1427707, 1427710, 142...</td>\n",
       "    </tr>\n",
       "  </tbody>\n",
       "</table>\n",
       "<p>17364 rows × 2 columns</p>\n",
       "</div>"
      ],
      "text/plain": [
       "                                              cat_name  \\\n",
       "0                                         Buprestoidea   \n",
       "1                                People_from_Worcester   \n",
       "2      Skin_conditions_resulting_from_physical_factors   \n",
       "3                                     Visual_kei_bands   \n",
       "4                           Japanese_rock_music_groups   \n",
       "...                                                ...   \n",
       "17359                   British_science_fiction_novels   \n",
       "17360                           Television_soundtracks   \n",
       "17361                         Diptera_of_North_America   \n",
       "17362                                  Diptera_of_Asia   \n",
       "17363                                       Tachinidae   \n",
       "\n",
       "                                                   pages  \n",
       "0      [301, 302, 303, 304, 305, 306, 307, 308, 309, ...  \n",
       "1      [1056, 1057, 1058, 1059, 1060, 60971, 76515, 7...  \n",
       "2      [971, 973, 1166, 1167, 1168, 1169, 1170, 1171,...  \n",
       "3      [1297, 1300, 1311, 1312, 1313, 1314, 1315, 131...  \n",
       "4      [1297, 1300, 1313, 1314, 1315, 1316, 1319, 132...  \n",
       "...                                                  ...  \n",
       "17359  [16110, 24545, 39814, 67923, 108629, 108630, 1...  \n",
       "17360  [1117, 110192, 110376, 110377, 110380, 110395,...  \n",
       "17361  [279, 280, 283, 31110, 31129, 31133, 31138, 31...  \n",
       "17362  [279, 31129, 31133, 31134, 31135, 31136, 31137...  \n",
       "17363  [429765, 429776, 860398, 1427707, 1427710, 142...  \n",
       "\n",
       "[17364 rows x 2 columns]"
      ]
     },
     "execution_count": 7,
     "metadata": {},
     "output_type": "execute_result"
    }
   ],
   "source": [
    "names = ['cat_name','pages']\n",
    "df_cat = pd.read_csv('wiki-topcats-categories.txt.gz',sep = ';',names = names)\n",
    "\n",
    "df_cat['cat_name'] = df_cat.apply(lambda x: x['cat_name'][9:],axis = 1)\n",
    "\n",
    "df_cat['pages'] = df_cat.apply(lambda x: list(map(int,x['pages'].split())),axis = 1)\n",
    "\n",
    "df_cat"
   ]
  },
  {
   "cell_type": "code",
   "execution_count": 8,
   "metadata": {},
   "outputs": [],
   "source": [
    "#in order to remove the pages belonging to multiple categories, we made an inverted index key: Page, values: Categories in which the pages appears.\n",
    "#than I randomly sampled the values in uniform way and built the dataframe again\n",
    "\n",
    "categories = list(df_cat['cat_name'])\n",
    "pages_for_cat =list(df_cat['pages'])\n",
    "\n",
    "\n",
    "d_page_cat = defaultdict(list)\n",
    "for i,cat in enumerate(categories):\n",
    "    for pag in pages_for_cat[i]:\n",
    "        d_page_cat[pag].append(cat)\n",
    "    \n",
    "\n"
   ]
  },
  {
   "cell_type": "markdown",
   "metadata": {},
   "source": [
    "In order to remove the pages belonging to multiple categories we first created an inverted index with <code>key:Page</code>, <code>value:Categories in which the page appears</code>.\n",
    "\n",
    "Then, for each page we randomly sampled among the values in uniform way to only consider one category. Then we built the dataframe again. "
   ]
  },
  {
   "cell_type": "code",
   "execution_count": 9,
   "metadata": {},
   "outputs": [
    {
     "data": {
      "text/html": [
       "<div>\n",
       "<style scoped>\n",
       "    .dataframe tbody tr th:only-of-type {\n",
       "        vertical-align: middle;\n",
       "    }\n",
       "\n",
       "    .dataframe tbody tr th {\n",
       "        vertical-align: top;\n",
       "    }\n",
       "\n",
       "    .dataframe thead th {\n",
       "        text-align: right;\n",
       "    }\n",
       "</style>\n",
       "<table border=\"1\" class=\"dataframe\">\n",
       "  <thead>\n",
       "    <tr style=\"text-align: right;\">\n",
       "      <th></th>\n",
       "      <th>cat_name</th>\n",
       "      <th>pages</th>\n",
       "    </tr>\n",
       "  </thead>\n",
       "  <tbody>\n",
       "    <tr>\n",
       "      <th>0</th>\n",
       "      <td>Yeovil_Town_F.C._players</td>\n",
       "      <td>[76871, 727951, 81350, 883249, 79334, 84633, 7...</td>\n",
       "    </tr>\n",
       "    <tr>\n",
       "      <th>1</th>\n",
       "      <td>Bury_F.C._players</td>\n",
       "      <td>[79069, 77194, 78345, 85518, 79885, 84294, 843...</td>\n",
       "    </tr>\n",
       "    <tr>\n",
       "      <th>2</th>\n",
       "      <td>Association_football_midfielders</td>\n",
       "      <td>[79139, 79143, 1005199, 27668, 28044, 27200, 2...</td>\n",
       "    </tr>\n",
       "    <tr>\n",
       "      <th>3</th>\n",
       "      <td>England_under-21_international_footballers</td>\n",
       "      <td>[80237, 82935, 79372, 82720, 81248, 79640, 803...</td>\n",
       "    </tr>\n",
       "    <tr>\n",
       "      <th>4</th>\n",
       "      <td>Chesterfield_F.C._players</td>\n",
       "      <td>[84108, 82758, 77765, 79654, 81228, 79633, 840...</td>\n",
       "    </tr>\n",
       "    <tr>\n",
       "      <th>...</th>\n",
       "      <td>...</td>\n",
       "      <td>...</td>\n",
       "    </tr>\n",
       "    <tr>\n",
       "      <th>5210</th>\n",
       "      <td>Executed_American_people</td>\n",
       "      <td>[1510043]</td>\n",
       "    </tr>\n",
       "    <tr>\n",
       "      <th>5211</th>\n",
       "      <td>Nahuatl_words_and_phrases</td>\n",
       "      <td>[1678297]</td>\n",
       "    </tr>\n",
       "    <tr>\n",
       "      <th>5212</th>\n",
       "      <td>People_of_the_Chechen_wars</td>\n",
       "      <td>[1706096, 1706098]</td>\n",
       "    </tr>\n",
       "    <tr>\n",
       "      <th>5213</th>\n",
       "      <td>20th-century_Anglican_bishops</td>\n",
       "      <td>[1780989]</td>\n",
       "    </tr>\n",
       "    <tr>\n",
       "      <th>5214</th>\n",
       "      <td>Sri_Lankan_Hindus</td>\n",
       "      <td>[1787565, 1787570]</td>\n",
       "    </tr>\n",
       "  </tbody>\n",
       "</table>\n",
       "<p>5215 rows × 2 columns</p>\n",
       "</div>"
      ],
      "text/plain": [
       "                                        cat_name  \\\n",
       "0                       Yeovil_Town_F.C._players   \n",
       "1                              Bury_F.C._players   \n",
       "2               Association_football_midfielders   \n",
       "3     England_under-21_international_footballers   \n",
       "4                      Chesterfield_F.C._players   \n",
       "...                                          ...   \n",
       "5210                    Executed_American_people   \n",
       "5211                   Nahuatl_words_and_phrases   \n",
       "5212                  People_of_the_Chechen_wars   \n",
       "5213               20th-century_Anglican_bishops   \n",
       "5214                           Sri_Lankan_Hindus   \n",
       "\n",
       "                                                  pages  \n",
       "0     [76871, 727951, 81350, 883249, 79334, 84633, 7...  \n",
       "1     [79069, 77194, 78345, 85518, 79885, 84294, 843...  \n",
       "2     [79139, 79143, 1005199, 27668, 28044, 27200, 2...  \n",
       "3     [80237, 82935, 79372, 82720, 81248, 79640, 803...  \n",
       "4     [84108, 82758, 77765, 79654, 81228, 79633, 840...  \n",
       "...                                                 ...  \n",
       "5210                                          [1510043]  \n",
       "5211                                          [1678297]  \n",
       "5212                                 [1706096, 1706098]  \n",
       "5213                                          [1780989]  \n",
       "5214                                 [1787565, 1787570]  \n",
       "\n",
       "[5215 rows x 2 columns]"
      ]
     },
     "execution_count": 9,
     "metadata": {},
     "output_type": "execute_result"
    }
   ],
   "source": [
    "random.seed(1234)\n",
    "\n",
    "categories = list(df_cat['cat_name'])\n",
    "pages_for_cat =list(df_cat['pages'])\n",
    "\n",
    "\n",
    "d_page_cat = defaultdict(list)\n",
    "for i,cat in enumerate(categories):\n",
    "    for pag in pages_for_cat[i]:\n",
    "        d_page_cat[pag].append(cat)\n",
    "    \n",
    "\n",
    "\n",
    "d_random_cat_page = defaultdict(list)\n",
    "\n",
    "for page in d_page_cat.keys():\n",
    "    if page in nodes:\n",
    "        cat_of_page = random.sample(set(d_page_cat[page]),1)\n",
    "        d_random_cat_page[cat_of_page[0]].append(page)\n",
    "\n",
    "#some categories have been removed, since there are no pages belonging to them or all their\n",
    "#pages were sampled into other categories\n",
    "\n",
    "new_df_cat = pd.DataFrame()\n",
    "new_df_cat['cat_name'] = d_random_cat_page.keys()\n",
    "new_df_cat['pages'] = list(d_random_cat_page.values())\n",
    "new_df_cat"
   ]
  },
  {
   "cell_type": "markdown",
   "metadata": {},
   "source": [
    "Finally, we built an inverted dictionary with <code>key: node_i</code>,<code>value: category of node_i</code>."
   ]
  },
  {
   "cell_type": "code",
   "execution_count": 10,
   "metadata": {},
   "outputs": [],
   "source": [
    "inverted_dictionary={}\n",
    "for i,row in new_df_cat.iterrows():\n",
    "    for node in row[\"pages\"]:\n",
    "        inverted_dictionary[node]=row[\"cat_name\"]\n",
    "        "
   ]
  },
  {
   "cell_type": "markdown",
   "metadata": {},
   "source": [
    "# Create Graph"
   ]
  },
  {
   "cell_type": "markdown",
   "metadata": {},
   "source": [
    "# RQ1\n",
    "Build the graph $G=(V, E)$, where $V$ is the set of articles and E the hyperlinks among them. Then, provide its basic information:\n",
    "\n",
    "Is the graph directed?\n",
    "How many articles are we considering?\n",
    "How many hyperlinks between pages exist?\n",
    "Compute the average number of links in an arbitrary page. What is the graph density? Do you believe that the graph is dense or sparse? Is the graph dense?\n",
    "Visualize the nodes' degree distribution"
   ]
  },
  {
   "cell_type": "markdown",
   "metadata": {},
   "source": [
    "Build the graph $G=(V, E)$, where $V$ is the set of articles and $E$ the hyperlinks among them."
   ]
  },
  {
   "cell_type": "code",
   "execution_count": 11,
   "metadata": {},
   "outputs": [],
   "source": [
    "G=nx.convert_matrix.from_pandas_edgelist(df_edges, 'source', 'target', ['edge_ID'],create_using=nx.DiGraph())\n"
   ]
  },
  {
   "cell_type": "markdown",
   "metadata": {},
   "source": [
    "### 1. Is the graph directed?\n",
    "\n",
    "Due the structure of the \"headers\" in the dataset (source-target) we must assume that the graph is directed. Indeed the object we are trying to model is the hyperlink network of the wikipedia pages and every link is one-sided."
   ]
  },
  {
   "cell_type": "code",
   "execution_count": 12,
   "metadata": {},
   "outputs": [
    {
     "data": {
      "text/plain": [
       "True"
      ]
     },
     "execution_count": 12,
     "metadata": {},
     "output_type": "execute_result"
    }
   ],
   "source": [
    "#With this function we can double-check if the function we used effectively created a directed graph.\n",
    "G.is_directed()"
   ]
  },
  {
   "cell_type": "markdown",
   "metadata": {},
   "source": [
    "### How many articles are we considering?"
   ]
  },
  {
   "cell_type": "markdown",
   "metadata": {},
   "source": [
    "In our network $G$ the articles are represented by the nodes. Therefore the amount of articles we're considering corresponds to the cardinality of the set of nodes in $G$."
   ]
  },
  {
   "cell_type": "code",
   "execution_count": 13,
   "metadata": {},
   "outputs": [
    {
     "data": {
      "text/plain": [
       "98343"
      ]
     },
     "execution_count": 13,
     "metadata": {},
     "output_type": "execute_result"
    }
   ],
   "source": [
    "len(G.nodes)"
   ]
  },
  {
   "cell_type": "markdown",
   "metadata": {},
   "source": [
    "### How many Hyperlinks ?"
   ]
  },
  {
   "cell_type": "markdown",
   "metadata": {},
   "source": [
    "In $G$ the hyperlinks are represented by the edges. Therefore the amount of Hyperlinks corresponds to the cardinality of the set of edges."
   ]
  },
  {
   "cell_type": "code",
   "execution_count": 14,
   "metadata": {},
   "outputs": [
    {
     "data": {
      "text/plain": [
       "483094"
      ]
     },
     "execution_count": 14,
     "metadata": {},
     "output_type": "execute_result"
    }
   ],
   "source": [
    "len(G.edges)"
   ]
  },
  {
   "cell_type": "markdown",
   "metadata": {},
   "source": [
    "### Average Degree"
   ]
  },
  {
   "cell_type": "markdown",
   "metadata": {},
   "source": [
    "We now calculate the average degree of the nodes. Since our graph is directed, we can interpret the question as both asking for the indegree or the outdegree of every node. "
   ]
  },
  {
   "cell_type": "code",
   "execution_count": 15,
   "metadata": {},
   "outputs": [
    {
     "name": "stdout",
     "output_type": "stream",
     "text": [
      "Mean of indegree: 4.912337431235573\n"
     ]
    }
   ],
   "source": [
    "dict_in_degree = dict(G.in_degree())\n",
    "list_degree_in = list(dict_in_degree.values())\n",
    "avg_degree_in = np.mean(np.array(list_degree_in))\n",
    "med_degree_in = np.median(np.array(list_degree_in))\n",
    "print(\"Mean of indegree:\", avg_degree_in)\n",
    "\n"
   ]
  },
  {
   "cell_type": "code",
   "execution_count": 16,
   "metadata": {},
   "outputs": [
    {
     "name": "stdout",
     "output_type": "stream",
     "text": [
      "Mean of outdegree: 4.912337431235573\n"
     ]
    }
   ],
   "source": [
    "dict_out_degree = dict(G.out_degree())\n",
    "list_degree_out = list(dict_out_degree.values())\n",
    "avg_degree_out = np.mean(np.array(list_degree_out))\n",
    "med_degree_out = np.median(np.array(list_degree_out))\n",
    "print(\"Mean of outdegree:\", avg_degree_out)\n",
    "\n"
   ]
  },
  {
   "cell_type": "markdown",
   "metadata": {},
   "source": [
    "The fact that these numbers are the same is not surprising: every edge has a target and a source. Since the sum over the nodes of their indegree is equal to the number of edges of the graph and the same as well as for the sum of the outdegree. Hence the average indegree and outdegree have the same value equal to the ratio between the cardinality of the edges and the nodes that we computed above."
   ]
  },
  {
   "cell_type": "code",
   "execution_count": 17,
   "metadata": {},
   "outputs": [
    {
     "data": {
      "text/plain": [
       "4.912337431235573"
      ]
     },
     "execution_count": 17,
     "metadata": {},
     "output_type": "execute_result"
    }
   ],
   "source": [
    "len(G.edges)/len(G.nodes)"
   ]
  },
  {
   "cell_type": "markdown",
   "metadata": {},
   "source": [
    "It is important to remark that the distribution of the indegrees and outdegrees are usually different."
   ]
  },
  {
   "cell_type": "code",
   "execution_count": 18,
   "metadata": {},
   "outputs": [
    {
     "data": {
      "image/png": "[encoded data removed]",
      "text/plain": [
       "<Figure size 1440x576 with 1 Axes>"
      ]
     },
     "metadata": {
      "needs_background": "light"
     },
     "output_type": "display_data"
    }
   ],
   "source": [
    "plt.figure(figsize=(20,8))\n",
    "plt.hist(list_degree_in,log=\"xy\",bins=100);"
   ]
  },
  {
   "cell_type": "code",
   "execution_count": 19,
   "metadata": {},
   "outputs": [
    {
     "data": {
      "image/png": "[encoded data removed]",
      "text/plain": [
       "<Figure size 1440x576 with 1 Axes>"
      ]
     },
     "metadata": {
      "needs_background": "light"
     },
     "output_type": "display_data"
    }
   ],
   "source": [
    "plt.figure(figsize=(20,8))\n",
    "plt.hist(list_degree_out,log=\"xy\",bins=100);"
   ]
  },
  {
   "cell_type": "markdown",
   "metadata": {},
   "source": [
    "# RQ2"
   ]
  },
  {
   "cell_type": "markdown",
   "metadata": {},
   "source": [
    "Define a function that takes in input a page $v$ and a number of clicks $d$ and returns the set of all pages that a user can reach within $d$ clicks."
   ]
  },
  {
   "cell_type": "code",
   "execution_count": 20,
   "metadata": {},
   "outputs": [],
   "source": [
    "#We use a standard iterative BFS with a queue to avoid having too many recursive calls\n",
    "\n",
    "def BFS_distances(G,v,n_clicks=float(\"inf\")):\n",
    "\n",
    "    \"\"\"G: graph\n",
    "    v: starting node\n",
    "    n_clicks: optional parameter. Returns all pages with distance less or equal han n_clicks. Base value is 'float(\"Inf\"):\n",
    "    it returns every page reached by the BFS.\"\"\"\n",
    "    \n",
    "    \n",
    "    \n",
    "    \n",
    "    \n",
    "    q = deque() # initialize empty queue\n",
    "    discovered={} # dictionary with already discovered nodes. The structure is key:Node, value=distance from source\n",
    "    \n",
    "    \n",
    "    discovered[v] = 0 # distance of the source from the source is 0 \n",
    "    q.append(v)   # put starting vertex in the queue\n",
    "    \n",
    "    edges_with_distances=[] #list of tuples (node,distance from source) that will be returned.\n",
    "    \n",
    "    while q: #While the queue is not empty, do an iteration of BFS\n",
    "        v = q.popleft()     #remove first item in the queue\n",
    "        if discovered[v]>n_clicks:\n",
    "            break\n",
    "        edges_with_distances.append((v,discovered[v]))\n",
    "        \n",
    "        \n",
    " \n",
    "        for u in G.neighbors(v):\n",
    "        # for each neighbor u of v. we check if u has already been discovered. If not, we know that its distance of u from the\n",
    "        # source is one more than the distance v has. \n",
    "            \n",
    "            if u not in discovered: \n",
    "                # mark it as discovered and push it into queue\n",
    "                discovered[u] = discovered[v]+1\n",
    "                q.append(u)\n",
    "                \n",
    "    return edges_with_distances\n",
    "    "
   ]
  },
  {
   "cell_type": "code",
   "execution_count": 22,
   "metadata": {},
   "outputs": [
    {
     "data": {
      "text/plain": [
       "[(67030, 0),\n",
       " (67006, 1),\n",
       " (67125, 1),\n",
       " (1420116, 1),\n",
       " (1571125, 2),\n",
       " (64825, 2),\n",
       " (954116, 2),\n",
       " (597743, 3),\n",
       " (597737, 4)]"
      ]
     },
     "execution_count": 22,
     "metadata": {},
     "output_type": "execute_result"
    }
   ],
   "source": [
    "BFS_distances(G,67030,4)"
   ]
  },
  {
   "cell_type": "markdown",
   "metadata": {},
   "source": [
    "# RQ3"
   ]
  },
  {
   "cell_type": "markdown",
   "metadata": {},
   "source": [
    "Define a function that takes in input: a category $C$ and aset of pages in $C$, $p = {p_1, ..., p_n}$\n",
    "and returns the minimum number of clicks required to reach all pages in $p$, starting from the page $v$, corresponding to the most central article, according to the in-degree centrality, in $C$."
   ]
  },
  {
   "cell_type": "markdown",
   "metadata": {},
   "source": [
    "We first add the \"Category\" as an attribute to every node."
   ]
  },
  {
   "cell_type": "code",
   "execution_count": 24,
   "metadata": {},
   "outputs": [],
   "source": [
    "nx.set_node_attributes(G, inverted_dictionary, name=\"Category\")"
   ]
  },
  {
   "cell_type": "markdown",
   "metadata": {},
   "source": [
    "We chose a simple metric for the in_degree centrality: the in_degree."
   ]
  },
  {
   "cell_type": "code",
   "execution_count": 27,
   "metadata": {},
   "outputs": [],
   "source": [
    "def most_central_article(G,category):\n",
    "    nodes = list(map(int, d_random_cat_page[category] ))\n",
    "    assert len(nodes)>0, \"Empty/non-existent category!\"\n",
    "    max_in_degree = list(G.in_degree(nodes))\n",
    "    return max( max_in_degree, key=lambda x:x[1])"
   ]
  },
  {
   "cell_type": "code",
   "execution_count": 28,
   "metadata": {},
   "outputs": [
    {
     "data": {
      "text/plain": [
       "(1227839, 13)"
      ]
     },
     "execution_count": 28,
     "metadata": {},
     "output_type": "execute_result"
    }
   ],
   "source": [
    "most_central_article(G,'Debut_albums')"
   ]
  },
  {
   "cell_type": "code",
   "execution_count": 29,
   "metadata": {},
   "outputs": [],
   "source": [
    "p=[1184017,903941,1056184]\n",
    "C='Association_football_goalkeepers'"
   ]
  },
  {
   "cell_type": "markdown",
   "metadata": {},
   "source": [
    "### This algorithm requires an explaination"
   ]
  },
  {
   "cell_type": "code",
   "execution_count": 28,
   "metadata": {},
   "outputs": [],
   "source": [
    "def graph_exploration(G,p,C):\n",
    "    most_central=most_central_article(G,C)[0]\n",
    "    if most_central not in p:\n",
    "        p.append(most_central)\n",
    "    \n",
    "    new_graph=nx.empty_graph(create_using=nx.DiGraph())\n",
    "    \n",
    "    for node1 in p:\n",
    "        for node2 in p:\n",
    "            if node1!=node2:\n",
    "                distances=dict(BFS_distances(G,node1))\n",
    "                if node2 in distances:\n",
    "                    new_graph.add_edge(node1,node2,weight=distances[node2])\n",
    "    new_graph.add_nodes_from(p)\n",
    "    return new_graph"
   ]
  },
  {
   "cell_type": "code",
   "execution_count": 29,
   "metadata": {},
   "outputs": [],
   "source": [
    "new_graph=graph_exploration(G,p,C)"
   ]
  },
  {
   "cell_type": "code",
   "execution_count": 30,
   "metadata": {},
   "outputs": [
    {
     "data": {
      "text/plain": [
       "[(1184017, 903941, {'weight': 1}),\n",
       " (1184017, 1056184, {'weight': 1}),\n",
       " (1184017, 81896, {'weight': 5})]"
      ]
     },
     "execution_count": 30,
     "metadata": {},
     "output_type": "execute_result"
    }
   ],
   "source": [
    "sorted(new_graph.out_edges(1184017,data=True),key=lambda x:x[2][\"weight\"])"
   ]
  },
  {
   "cell_type": "code",
   "execution_count": 31,
   "metadata": {},
   "outputs": [
    {
     "name": "stdout",
     "output_type": "stream",
     "text": [
      "1\n",
      "1\n",
      "5\n",
      "3\n",
      "4\n",
      "5\n",
      "4\n",
      "4\n",
      "6\n",
      "5\n",
      "6\n",
      "6\n"
     ]
    }
   ],
   "source": [
    "for node1, node2, data in new_graph.edges(data=True):\n",
    "    print(data['weight'])"
   ]
  },
  {
   "cell_type": "code",
   "execution_count": 32,
   "metadata": {},
   "outputs": [
    {
     "data": {
      "text/plain": [
       "{(1184017, 903941): 1,\n",
       " (1184017, 1056184): 1,\n",
       " (1184017, 81896): 5,\n",
       " (903941, 1184017): 3,\n",
       " (903941, 1056184): 4,\n",
       " (903941, 81896): 5,\n",
       " (1056184, 1184017): 4,\n",
       " (1056184, 903941): 4,\n",
       " (1056184, 81896): 6,\n",
       " (81896, 1184017): 5,\n",
       " (81896, 903941): 6,\n",
       " (81896, 1056184): 6}"
      ]
     },
     "execution_count": 32,
     "metadata": {},
     "output_type": "execute_result"
    }
   ],
   "source": [
    "nx.get_edge_attributes(new_graph,\"weight\")"
   ]
  },
  {
   "cell_type": "code",
   "execution_count": 33,
   "metadata": {},
   "outputs": [
    {
     "data": {
      "text/plain": [
       "OutEdgeDataView([(1184017, 903941, {'weight': 1}), (1184017, 1056184, {'weight': 1}), (1184017, 81896, {'weight': 5}), (903941, 1184017, {'weight': 3}), (903941, 1056184, {'weight': 4}), (903941, 81896, {'weight': 5}), (1056184, 1184017, {'weight': 4}), (1056184, 903941, {'weight': 4}), (1056184, 81896, {'weight': 6}), (81896, 1184017, {'weight': 5}), (81896, 903941, {'weight': 6}), (81896, 1056184, {'weight': 6})])"
      ]
     },
     "execution_count": 33,
     "metadata": {},
     "output_type": "execute_result"
    }
   ],
   "source": [
    "new_graph.edges(data=True)"
   ]
  },
  {
   "cell_type": "code",
   "execution_count": 34,
   "metadata": {},
   "outputs": [],
   "source": [
    "#This is a slightly modified version of the greedy nearest neighbor algorithm.\n",
    "\n",
    "def TSP(new_graph,start_node=most_central_article(G,C)[0]):\n",
    "    \n",
    "    remaining_nodes=set(new_graph.nodes())\n",
    "    path=[start_node]\n",
    "    remaining_nodes.remove(start_node)\n",
    "    \n",
    "    current_node=start_node\n",
    "    while (current_node!=None):\n",
    "        successors=sorted(new_graph.out_edges(current_node,data=True),key=lambda x:x[2][\"weight\"])\n",
    "        current_node=None\n",
    "        for element in successors:\n",
    "            node=element[1]\n",
    "            if remaining_nodes.difference(set(new_graph.successors(node)))==set([node]):\n",
    "                current_node=node\n",
    "                path.append(node)\n",
    "                remaining_nodes.remove(node)\n",
    "                break\n",
    "    if remaining_nodes:\n",
    "        print(\"non riuscito\")\n",
    "        return None\n",
    "    edges_of_path=[(path[i],path[i+1]) for i in range(len(path)-1)]\n",
    "    weights=sum(nx.get_edge_attributes(new_graph,\"weight\")[edge] for edge in edges_of_path)\n",
    "    print(weights)\n",
    "    print(edges_of_path)       \n",
    "        \n",
    "        \n",
    "    \n",
    "    \n",
    "    "
   ]
  },
  {
   "cell_type": "code",
   "execution_count": 35,
   "metadata": {},
   "outputs": [
    {
     "name": "stdout",
     "output_type": "stream",
     "text": [
      "10\n",
      "[(81896, 1184017), (1184017, 903941), (903941, 1056184)]\n"
     ]
    }
   ],
   "source": [
    "TSP(new_graph)"
   ]
  },
  {
   "cell_type": "markdown",
   "metadata": {},
   "source": [
    "## RQ4"
   ]
  },
  {
   "cell_type": "code",
   "execution_count": null,
   "metadata": {},
   "outputs": [],
   "source": [
    "def mincut(G, S, T):\n",
    "    \n",
    "    #This is a simpler variant of the maxflow problem.\n",
    "    #We initialize the max_flow to 0 and assume a path exists\n",
    "    \n",
    "    max_flow=0\n",
    "    a_path_exists=True\n",
    "    already_used_edges=set()\n",
    "        \n",
    "    while a_path_exists: #While a path exists, a BFS starts\n",
    "        predecessor={}\n",
    "        predecessor[S] = S\n",
    "        discovered=predecessor.keys()\n",
    "        # we need to do a BFS from S looking for T. We cannot use edges already used in previus searches.\n",
    "        \n",
    "        q = deque()\n",
    "        \n",
    "        q.append(S) #We push S into the queue to start the BFS\n",
    "        while q: #While the queue is not empty\n",
    "            v = q.popleft()\n",
    "            for u in G.neighbors(v):\n",
    "                if (u not in discovered) and ((v,u) not in already_used_edges):\n",
    "                    # mark it discovered and push it into queue\n",
    "                    predecessor[u] = v #warning: this also modifies the discovered array!\n",
    "                    q.append(u)\n",
    "                    if (T in discovered):\n",
    "                        max_flow+=1\n",
    "                        node=T\n",
    "                        while predecessor[node]!=node:\n",
    "                            already_used_edges.add((predecessor[node],node))\n",
    "                            node=predecessor[node]\n",
    "                        q=[]\n",
    "                        break\n",
    "                        \n",
    "        if (T not in discovered):\n",
    "            a_path_exists=False\n",
    "    return (max_flow)"
   ]
  },
  {
   "cell_type": "code",
   "execution_count": null,
   "metadata": {},
   "outputs": [],
   "source": [
    "a={1:2}\n",
    "b=a.keys() \n",
    "a[3]=4\n",
    "print(b)"
   ]
  },
  {
   "cell_type": "code",
   "execution_count": null,
   "metadata": {},
   "outputs": [],
   "source": [
    "mincut(G,1059989 ,1161925)"
   ]
  },
  {
   "cell_type": "code",
   "execution_count": null,
   "metadata": {},
   "outputs": [],
   "source": [
    "print(*G.neighbors(108))"
   ]
  },
  {
   "cell_type": "code",
   "execution_count": null,
   "metadata": {},
   "outputs": [],
   "source": [
    "a=set([3])"
   ]
  },
  {
   "cell_type": "markdown",
   "metadata": {},
   "source": [
    "# RQ5"
   ]
  },
  {
   "cell_type": "code",
   "execution_count": null,
   "metadata": {},
   "outputs": [],
   "source": [
    "def BFS_distances(G,v,inf_distances=True,p=None):\n",
    "    \"we use a standard iterative BFS with a queue to avoid having too many recursive calls\"\n",
    "    inf=float(\"inf\")\n",
    "    \n",
    "    q = deque()\n",
    "    discovered={}\n",
    "    discovered[v] = 0\n",
    "    # put starting vertex in the queue\n",
    "    q.append(v)\n",
    "    edges_with_distances=[]\n",
    "    vertices=G.nodes\n",
    "    while q:\n",
    "        v = q.popleft()\n",
    "        \n",
    "        edges_with_distances.append((v,discovered[v]))\n",
    " \n",
    "        for u in G.neighbors(v):\n",
    "            if u not in discovered:\n",
    "                # mark it discovered and push it into queue\n",
    "                discovered[u] = discovered[v]+1\n",
    "                q.append(u)\n",
    "    return edges_with_distances\n",
    "    "
   ]
  },
  {
   "cell_type": "code",
   "execution_count": null,
   "metadata": {},
   "outputs": [],
   "source": [
    "Category1='Association_football_goalkeepers'\n",
    "Category2='American_television_actors'\n",
    "Category_test='Association_football_goalkeepers'"
   ]
  },
  {
   "cell_type": "code",
   "execution_count": null,
   "metadata": {},
   "outputs": [],
   "source": [
    "nodes=list(map(int,d_random_cat_page[Category1]))\n",
    "all_distances={}\n",
    "for v in tqdm(nodes):\n",
    "    distances=BFS_distances(G,v)\n",
    "    all_distances[v]=dict(distances)"
   ]
  },
  {
   "cell_type": "code",
   "execution_count": null,
   "metadata": {},
   "outputs": [],
   "source": [
    "counter=0\n",
    "medians=[]\n",
    "\n",
    "for i in tqdm(d_random_cat_page):\n",
    "    counter+=1\n",
    "    temp_nodes=list(map(int,d_random_cat_page[i]))\n",
    "    distances=[]\n",
    "    \n",
    "    \n",
    "    for c_0 in nodes:\n",
    "        for c_i in temp_nodes:\n",
    "            try:\n",
    "                distances.append(all_distances[c_0][c_i])\n",
    "            except KeyError:\n",
    "                distances.append(float(\"inf\"))\n",
    "    \n",
    "    medians.append((i,np.median(np.array(distances))))\n",
    "    #print(\"The distance between\", Category1, \"and\", i,\"is\", np.median(np.array(distances)),\"    Counter= \",counter,\"/\",len(d_random_cat_page))\n"
   ]
  },
  {
   "cell_type": "code",
   "execution_count": null,
   "metadata": {},
   "outputs": [],
   "source": [
    "medians=sorted(medians,key=lambda x:x[1])"
   ]
  },
  {
   "cell_type": "code",
   "execution_count": null,
   "metadata": {},
   "outputs": [],
   "source": [
    "medians[:10]"
   ]
  },
  {
   "cell_type": "markdown",
   "metadata": {},
   "source": [
    "## RQ 6\n",
    "\n",
    "Write a function that sorts the categories in the graph according to their PageRank (PR). For this task you need to model the network of categories such that you can apply the PR algorithm.\n",
    "\n"
   ]
  },
  {
   "cell_type": "markdown",
   "metadata": {},
   "source": [
    "L'algoritmo completo per il calcolo del PageRank fa ricorso all'uso della teoria dei processi Markov ed è classificato nella vera categoria degli algoritmi di Link Analysis Ranking. Dalla formula inizialmente sviluppata dai fondatori di Google, Sergey Brin e Larry Page, è possibile comprendere come il PageRank viene distribuito tra le pagine:\n",
    "\n",
    "$PR[A]={\\frac  {1-d}{N}}+d\\left(\\sum _{{k=1}}^{n}{\\frac  {PR[P_{k}]}{C[P_{k}]}}\\right)$\n",
    "\n",
    "Dove:\n",
    "\n",
    "* PR[A] è il valore di PageRank della pagina A che vogliamo calcolare.\n",
    "* N è il numero totale di pagine note.\n",
    "* n è il numero di pagine che contengono almeno un link verso A. Pk rappresenta ognuna di tali pagine.\n",
    "* PR[Pk] sono i valori di PageRank di ogni pagina Pk.\n",
    "* C[Pk] sono il numero complessivo di link contenuti nella pagina che offre il link.\n",
    "* d (damping factor) è un fattore deciso da Google e che nella documentazione originale assume valore 0,85. Può essere aggiustato da Google per decidere la percentuale di PageRank che deve transitare da una pagina all'altra e il valore di PageRank minimo attribuito ad ogni pagina in archivio.\n",
    "Dalla formula si nota quindi che all'aumentare del numero di link complessivi dei siti che puntano ad A il PageRank aumenta."
   ]
  },
  {
   "cell_type": "code",
   "execution_count": null,
   "metadata": {},
   "outputs": [],
   "source": [
    "cat_of_page = {}\n",
    "\n",
    "for cat in d_random_cat_page:\n",
    "    for page in d_random_cat_page[cat]:\n",
    "        cat_of_page[page] = cat "
   ]
  },
  {
   "cell_type": "code",
   "execution_count": null,
   "metadata": {},
   "outputs": [],
   "source": [
    "df_edges\n",
    "\n",
    "df_edges_cat = pd.DataFrame()"
   ]
  },
  {
   "cell_type": "code",
   "execution_count": null,
   "metadata": {},
   "outputs": [],
   "source": [
    "df_edges_cat['source'] = [cat_of_page[page] for page in df_edges['source']]\n",
    "df_edges_cat['target'] = [cat_of_page[page] for page in df_edges['target']]\n"
   ]
  },
  {
   "cell_type": "code",
   "execution_count": null,
   "metadata": {},
   "outputs": [],
   "source": [
    "df_edges_cat"
   ]
  },
  {
   "cell_type": "code",
   "execution_count": null,
   "metadata": {},
   "outputs": [],
   "source": [
    "G_cat=nx.convert_matrix.from_pandas_edgelist(df_edges_cat, 'source', 'target',create_using=nx.DiGraph())"
   ]
  },
  {
   "cell_type": "code",
   "execution_count": null,
   "metadata": {},
   "outputs": [],
   "source": [
    "PR_nx=sorted(list(nx.pagerank(G_cat,alpha = 0.85).items()),key = lambda x: -x[1])\n"
   ]
  },
  {
   "cell_type": "code",
   "execution_count": null,
   "metadata": {},
   "outputs": [],
   "source": [
    "def PageRank(G,alpha=0.85,max_iter=99):\n",
    "    \n",
    "    PR_last = defaultdict(lambda : 1/len(G.nodes()))\n",
    "    PR={}\n",
    "    print(len(G.edges()))\n",
    "    for i in tqdm(range(max_iter)):\n",
    "        for page in G.nodes():\n",
    "            PR[page] = ((1-alpha)/len(G.nodes())) + (alpha)*(sum(PR_last[pointer]/len(list(G.successors(pointer))) for pointer in G.predecessors(page)))\n",
    "        PR_last=copy.deepcopy(PR)\n",
    "    return PR"
   ]
  },
  {
   "cell_type": "code",
   "execution_count": null,
   "metadata": {},
   "outputs": [],
   "source": [
    "import copy\n",
    "\n",
    "def PageRank(G,alpha=0.85,max_iter=100,epsilon=1e-6):\n",
    "    d_node = {node: i for i,node in enumerate(list(G.nodes()))}\n",
    "    \n",
    "    n = len(G.nodes())\n",
    "    \n",
    "    uniform_p = np.full((n,n),1/n)\n",
    "    outlink_p = np.zeros((n,n))\n",
    "\n",
    "    for node in G.nodes():\n",
    "        i = d_node[node]\n",
    "        for neigh in G.successors(node):\n",
    "            j = d_node[neigh]\n",
    "            outlink_p[i][j] = 1/len(list(G.successors(node)))\n",
    "            \n",
    "    for i in range(n):\n",
    "        if np.sum(outlink_p[i])==0:\n",
    "            outlink_p[i] = np.full((1, n), 1/n)\n",
    "    \n",
    "    p = (1-alpha)*uniform_p+(alpha)*outlink_p\n",
    "    \n",
    "    q = np.zeros((1,n))\n",
    "    q[0][0] = 1\n",
    "    \n",
    "    def distance(A,B):\n",
    "        C = np.abs(A-B)\n",
    "        return np.sum(C)\n",
    "    \n",
    "    for i in tqdm(range(max_iter)):\n",
    "        q_new = np.dot(q,p)\n",
    "        if epsilon:\n",
    "            if distance(q,q_new) < epsilon:\n",
    "                break\n",
    "        q = q_new\n",
    "\n",
    "    d = {node: q[0][d_node[node]] for node in G.nodes()}\n",
    "    \n",
    "    return d\n"
   ]
  },
  {
   "cell_type": "code",
   "execution_count": null,
   "metadata": {},
   "outputs": [],
   "source": [
    "%%time\n",
    "PR_nx=sorted(list(nx.pagerank(G_cat,alpha = 0.85,max_iter= 100).items()),key = lambda x: -x[1])"
   ]
  },
  {
   "cell_type": "code",
   "execution_count": null,
   "metadata": {},
   "outputs": [],
   "source": [
    "PR_nx"
   ]
  },
  {
   "cell_type": "code",
   "execution_count": null,
   "metadata": {},
   "outputs": [],
   "source": [
    "%%time\n",
    "PR=sorted(PageRank(G_cat,epsilon = None).items(),key = lambda x: -x[1])"
   ]
  },
  {
   "cell_type": "code",
   "execution_count": null,
   "metadata": {},
   "outputs": [],
   "source": [
    "PR"
   ]
  },
  {
   "cell_type": "code",
   "execution_count": null,
   "metadata": {},
   "outputs": [],
   "source": [
    "err = 0 \n",
    "for i in range(len(PR)):\n",
    "    if PR[i][0] != PR_nx[i][0]:\n",
    "        err+=1"
   ]
  },
  {
   "cell_type": "code",
   "execution_count": null,
   "metadata": {},
   "outputs": [],
   "source": [
    "err"
   ]
  },
  {
   "cell_type": "code",
   "execution_count": null,
   "metadata": {},
   "outputs": [],
   "source": [
    "len(PR)"
   ]
  },
  {
   "cell_type": "code",
   "execution_count": null,
   "metadata": {},
   "outputs": [],
   "source": [
    "G\n"
   ]
  },
  {
   "cell_type": "code",
   "execution_count": null,
   "metadata": {},
   "outputs": [],
   "source": [
    "nx.number_strongly_connected_components(G)"
   ]
  },
  {
   "cell_type": "code",
   "execution_count": null,
   "metadata": {},
   "outputs": [],
   "source": [
    "len(G)"
   ]
  },
  {
   "cell_type": "code",
   "execution_count": null,
   "metadata": {},
   "outputs": [],
   "source": [
    "A=nx.condensation(G, scc=None)"
   ]
  },
  {
   "cell_type": "code",
   "execution_count": null,
   "metadata": {},
   "outputs": [],
   "source": [
    "len(A.edges)"
   ]
  },
  {
   "cell_type": "code",
   "execution_count": null,
   "metadata": {},
   "outputs": [],
   "source": [
    "H=nx.empty_graph(create_using=nx.DiGraph())"
   ]
  },
  {
   "cell_type": "code",
   "execution_count": null,
   "metadata": {},
   "outputs": [],
   "source": [
    "H.add_edges_from([(1,2),(2,3),(2,4),(2,5),(2,6)])\n",
    "for i in range(200):\n",
    "    H.add_edges_from([(i+1,i)])"
   ]
  },
  {
   "cell_type": "code",
   "execution_count": null,
   "metadata": {},
   "outputs": [],
   "source": [
    "%%time\n",
    "plt.figure(figsize=(80,80))\n",
    "nx.draw(nx.condensation(H, scc=None))"
   ]
  },
  {
   "cell_type": "code",
   "execution_count": null,
   "metadata": {},
   "outputs": [],
   "source": [
    "H=A"
   ]
  },
  {
   "cell_type": "code",
   "execution_count": null,
   "metadata": {},
   "outputs": [],
   "source": []
  },
  {
   "cell_type": "code",
   "execution_count": null,
   "metadata": {},
   "outputs": [],
   "source": []
  }
 ],
 "metadata": {
  "kernelspec": {
   "display_name": "Python 3",
   "language": "python",
   "name": "python3"
  },
  "language_info": {
   "codemirror_mode": {
    "name": "ipython",
    "version": 3
   },
   "file_extension": ".py",
   "mimetype": "text/x-python",
   "name": "python",
   "nbconvert_exporter": "python",
   "pygments_lexer": "ipython3",
   "version": "3.8.5"
  }
 },
 "nbformat": 4,
 "nbformat_minor": 4
}
