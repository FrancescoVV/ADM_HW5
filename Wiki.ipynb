{
 "cells": [
  {
   "cell_type": "markdown",
   "metadata": {},
   "source": [
    "# Data and Setting"
   ]
  },
  {
   "cell_type": "code",
   "execution_count": 1,
   "metadata": {},
   "outputs": [],
   "source": [
    "import pandas as pd\n",
    "from collections import defaultdict\n",
    "import numpy as np\n",
    "import random\n",
    "import networkx as nx\n",
    "from networkx.algorithms import bipartite\n",
    "import numpy as np\n",
    "import pandas as pd\n",
    "import seaborn as sns\n",
    "import matplotlib as mpl\n",
    "import matplotlib.pyplot as plt\n",
    "from tqdm import tqdm"
   ]
  },
  {
   "cell_type": "markdown",
   "metadata": {},
   "source": [
    "### Network"
   ]
  },
  {
   "cell_type": "code",
   "execution_count": 2,
   "metadata": {},
   "outputs": [],
   "source": [
    "#dataframe for the network \n",
    "\n",
    "#names of columns\n",
    "cols = ['edge_ID','source','target']\n",
    "\n",
    "#loading Dataframe\n",
    "df_edges = pd.read_csv('wikigraph_reduced.csv', delimiter = '\\t',names = cols).drop(index = 0)\n",
    "\n",
    "#making edge_ID as int\n",
    "df_edges['edge_ID'] = list(map(int, df_edges['edge_ID']))\n",
    "\n",
    "df_edges\n",
    "\n",
    "nodes=set(df_edges[\"source\"]).union(set(df_edges[\"target\"]))"
   ]
  },
  {
   "cell_type": "code",
   "execution_count": 3,
   "metadata": {},
   "outputs": [
    {
     "data": {
      "text/html": [
       "<div>\n",
       "<style scoped>\n",
       "    .dataframe tbody tr th:only-of-type {\n",
       "        vertical-align: middle;\n",
       "    }\n",
       "\n",
       "    .dataframe tbody tr th {\n",
       "        vertical-align: top;\n",
       "    }\n",
       "\n",
       "    .dataframe thead th {\n",
       "        text-align: right;\n",
       "    }\n",
       "</style>\n",
       "<table border=\"1\" class=\"dataframe\">\n",
       "  <thead>\n",
       "    <tr style=\"text-align: right;\">\n",
       "      <th></th>\n",
       "      <th>edge_ID</th>\n",
       "      <th>source</th>\n",
       "      <th>target</th>\n",
       "    </tr>\n",
       "  </thead>\n",
       "  <tbody>\n",
       "    <tr>\n",
       "      <th>1</th>\n",
       "      <td>796</td>\n",
       "      <td>95</td>\n",
       "      <td>1185516</td>\n",
       "    </tr>\n",
       "    <tr>\n",
       "      <th>2</th>\n",
       "      <td>909</td>\n",
       "      <td>108</td>\n",
       "      <td>1059989</td>\n",
       "    </tr>\n",
       "    <tr>\n",
       "      <th>3</th>\n",
       "      <td>910</td>\n",
       "      <td>108</td>\n",
       "      <td>1062426</td>\n",
       "    </tr>\n",
       "    <tr>\n",
       "      <th>4</th>\n",
       "      <td>911</td>\n",
       "      <td>108</td>\n",
       "      <td>1161925</td>\n",
       "    </tr>\n",
       "    <tr>\n",
       "      <th>5</th>\n",
       "      <td>1141</td>\n",
       "      <td>134</td>\n",
       "      <td>541222</td>\n",
       "    </tr>\n",
       "    <tr>\n",
       "      <th>...</th>\n",
       "      <td>...</td>\n",
       "      <td>...</td>\n",
       "      <td>...</td>\n",
       "    </tr>\n",
       "    <tr>\n",
       "      <th>483090</th>\n",
       "      <td>28511768</td>\n",
       "      <td>1791481</td>\n",
       "      <td>1060990</td>\n",
       "    </tr>\n",
       "    <tr>\n",
       "      <th>483091</th>\n",
       "      <td>28511769</td>\n",
       "      <td>1791481</td>\n",
       "      <td>1061382</td>\n",
       "    </tr>\n",
       "    <tr>\n",
       "      <th>483092</th>\n",
       "      <td>28511771</td>\n",
       "      <td>1791481</td>\n",
       "      <td>1110380</td>\n",
       "    </tr>\n",
       "    <tr>\n",
       "      <th>483093</th>\n",
       "      <td>28511772</td>\n",
       "      <td>1791482</td>\n",
       "      <td>80740</td>\n",
       "    </tr>\n",
       "    <tr>\n",
       "      <th>483094</th>\n",
       "      <td>28511785</td>\n",
       "      <td>1791484</td>\n",
       "      <td>235100</td>\n",
       "    </tr>\n",
       "  </tbody>\n",
       "</table>\n",
       "<p>483094 rows × 3 columns</p>\n",
       "</div>"
      ],
      "text/plain": [
       "         edge_ID   source   target\n",
       "1            796       95  1185516\n",
       "2            909      108  1059989\n",
       "3            910      108  1062426\n",
       "4            911      108  1161925\n",
       "5           1141      134   541222\n",
       "...          ...      ...      ...\n",
       "483090  28511768  1791481  1060990\n",
       "483091  28511769  1791481  1061382\n",
       "483092  28511771  1791481  1110380\n",
       "483093  28511772  1791482    80740\n",
       "483094  28511785  1791484   235100\n",
       "\n",
       "[483094 rows x 3 columns]"
      ]
     },
     "execution_count": 3,
     "metadata": {},
     "output_type": "execute_result"
    }
   ],
   "source": [
    "df_edges"
   ]
  },
  {
   "cell_type": "code",
   "execution_count": 4,
   "metadata": {},
   "outputs": [
    {
     "data": {
      "text/plain": [
       "edge_ID    6.401394\n",
       "source     6.401394\n",
       "dtype: float64"
      ]
     },
     "execution_count": 4,
     "metadata": {},
     "output_type": "execute_result"
    }
   ],
   "source": [
    "#tryng to calculate in-degree from the DataFrame\n",
    "df_edges.groupby('target').count().mean()"
   ]
  },
  {
   "cell_type": "markdown",
   "metadata": {},
   "source": [
    "### Page Names"
   ]
  },
  {
   "cell_type": "code",
   "execution_count": 5,
   "metadata": {},
   "outputs": [],
   "source": [
    "df_names = pd.read_csv('wiki-topcats-page-names.txt.gz',delimiter = '\\t',names =['node name'])"
   ]
  },
  {
   "cell_type": "code",
   "execution_count": 6,
   "metadata": {},
   "outputs": [],
   "source": [
    "df_names['node'] = [s.split()[0] for s in list(df_names['node name']) ]\n",
    "df_names['name'] = [' '.join(s.split()[1:]) for s in list(df_names['node name'])]\n",
    "df_names = df_names.drop('node name',axis = 1)"
   ]
  },
  {
   "cell_type": "code",
   "execution_count": 7,
   "metadata": {},
   "outputs": [],
   "source": [
    "pages = df_names['node']"
   ]
  },
  {
   "cell_type": "code",
   "execution_count": 8,
   "metadata": {},
   "outputs": [
    {
     "data": {
      "text/html": [
       "<div>\n",
       "<style scoped>\n",
       "    .dataframe tbody tr th:only-of-type {\n",
       "        vertical-align: middle;\n",
       "    }\n",
       "\n",
       "    .dataframe tbody tr th {\n",
       "        vertical-align: top;\n",
       "    }\n",
       "\n",
       "    .dataframe thead th {\n",
       "        text-align: right;\n",
       "    }\n",
       "</style>\n",
       "<table border=\"1\" class=\"dataframe\">\n",
       "  <thead>\n",
       "    <tr style=\"text-align: right;\">\n",
       "      <th></th>\n",
       "      <th>node</th>\n",
       "      <th>name</th>\n",
       "    </tr>\n",
       "  </thead>\n",
       "  <tbody>\n",
       "    <tr>\n",
       "      <th>0</th>\n",
       "      <td>0</td>\n",
       "      <td>Chiasmal syndrome</td>\n",
       "    </tr>\n",
       "    <tr>\n",
       "      <th>1</th>\n",
       "      <td>1</td>\n",
       "      <td>Kleroterion</td>\n",
       "    </tr>\n",
       "    <tr>\n",
       "      <th>2</th>\n",
       "      <td>2</td>\n",
       "      <td>Pinakion</td>\n",
       "    </tr>\n",
       "    <tr>\n",
       "      <th>3</th>\n",
       "      <td>3</td>\n",
       "      <td>LyndonHochschildSerre spectral sequence</td>\n",
       "    </tr>\n",
       "    <tr>\n",
       "      <th>4</th>\n",
       "      <td>4</td>\n",
       "      <td>Zariski's main theorem</td>\n",
       "    </tr>\n",
       "    <tr>\n",
       "      <th>...</th>\n",
       "      <td>...</td>\n",
       "      <td>...</td>\n",
       "    </tr>\n",
       "    <tr>\n",
       "      <th>1791484</th>\n",
       "      <td>1791484</td>\n",
       "      <td>Noadiah Russell (Yale founder)</td>\n",
       "    </tr>\n",
       "    <tr>\n",
       "      <th>1791485</th>\n",
       "      <td>1791485</td>\n",
       "      <td>Cornus officinalis</td>\n",
       "    </tr>\n",
       "    <tr>\n",
       "      <th>1791486</th>\n",
       "      <td>1791486</td>\n",
       "      <td>Peter Grummitt</td>\n",
       "    </tr>\n",
       "    <tr>\n",
       "      <th>1791487</th>\n",
       "      <td>1791487</td>\n",
       "      <td>Baron Estcourt</td>\n",
       "    </tr>\n",
       "    <tr>\n",
       "      <th>1791488</th>\n",
       "      <td>1791488</td>\n",
       "      <td>Catherine Dubosc</td>\n",
       "    </tr>\n",
       "  </tbody>\n",
       "</table>\n",
       "<p>1791489 rows × 2 columns</p>\n",
       "</div>"
      ],
      "text/plain": [
       "            node                                     name\n",
       "0              0                        Chiasmal syndrome\n",
       "1              1                              Kleroterion\n",
       "2              2                                 Pinakion\n",
       "3              3  LyndonHochschildSerre spectral sequence\n",
       "4              4                   Zariski's main theorem\n",
       "...          ...                                      ...\n",
       "1791484  1791484           Noadiah Russell (Yale founder)\n",
       "1791485  1791485                       Cornus officinalis\n",
       "1791486  1791486                           Peter Grummitt\n",
       "1791487  1791487                           Baron Estcourt\n",
       "1791488  1791488                         Catherine Dubosc\n",
       "\n",
       "[1791489 rows x 2 columns]"
      ]
     },
     "execution_count": 8,
     "metadata": {},
     "output_type": "execute_result"
    }
   ],
   "source": [
    "df_names"
   ]
  },
  {
   "cell_type": "markdown",
   "metadata": {},
   "source": [
    "### Categories"
   ]
  },
  {
   "cell_type": "code",
   "execution_count": 9,
   "metadata": {},
   "outputs": [
    {
     "data": {
      "text/html": [
       "<div>\n",
       "<style scoped>\n",
       "    .dataframe tbody tr th:only-of-type {\n",
       "        vertical-align: middle;\n",
       "    }\n",
       "\n",
       "    .dataframe tbody tr th {\n",
       "        vertical-align: top;\n",
       "    }\n",
       "\n",
       "    .dataframe thead th {\n",
       "        text-align: right;\n",
       "    }\n",
       "</style>\n",
       "<table border=\"1\" class=\"dataframe\">\n",
       "  <thead>\n",
       "    <tr style=\"text-align: right;\">\n",
       "      <th></th>\n",
       "      <th>cat_name</th>\n",
       "      <th>pages</th>\n",
       "    </tr>\n",
       "  </thead>\n",
       "  <tbody>\n",
       "    <tr>\n",
       "      <th>0</th>\n",
       "      <td>Buprestoidea</td>\n",
       "      <td>[301, 302, 303, 304, 305, 306, 307, 308, 309, ...</td>\n",
       "    </tr>\n",
       "    <tr>\n",
       "      <th>1</th>\n",
       "      <td>People_from_Worcester</td>\n",
       "      <td>[1056, 1057, 1058, 1059, 1060, 60971, 76515, 7...</td>\n",
       "    </tr>\n",
       "    <tr>\n",
       "      <th>2</th>\n",
       "      <td>Skin_conditions_resulting_from_physical_factors</td>\n",
       "      <td>[971, 973, 1166, 1167, 1168, 1169, 1170, 1171,...</td>\n",
       "    </tr>\n",
       "    <tr>\n",
       "      <th>3</th>\n",
       "      <td>Visual_kei_bands</td>\n",
       "      <td>[1297, 1300, 1311, 1312, 1313, 1314, 1315, 131...</td>\n",
       "    </tr>\n",
       "    <tr>\n",
       "      <th>4</th>\n",
       "      <td>Japanese_rock_music_groups</td>\n",
       "      <td>[1297, 1300, 1313, 1314, 1315, 1316, 1319, 132...</td>\n",
       "    </tr>\n",
       "    <tr>\n",
       "      <th>...</th>\n",
       "      <td>...</td>\n",
       "      <td>...</td>\n",
       "    </tr>\n",
       "    <tr>\n",
       "      <th>17359</th>\n",
       "      <td>British_science_fiction_novels</td>\n",
       "      <td>[16110, 24545, 39814, 67923, 108629, 108630, 1...</td>\n",
       "    </tr>\n",
       "    <tr>\n",
       "      <th>17360</th>\n",
       "      <td>Television_soundtracks</td>\n",
       "      <td>[1117, 110192, 110376, 110377, 110380, 110395,...</td>\n",
       "    </tr>\n",
       "    <tr>\n",
       "      <th>17361</th>\n",
       "      <td>Diptera_of_North_America</td>\n",
       "      <td>[279, 280, 283, 31110, 31129, 31133, 31138, 31...</td>\n",
       "    </tr>\n",
       "    <tr>\n",
       "      <th>17362</th>\n",
       "      <td>Diptera_of_Asia</td>\n",
       "      <td>[279, 31129, 31133, 31134, 31135, 31136, 31137...</td>\n",
       "    </tr>\n",
       "    <tr>\n",
       "      <th>17363</th>\n",
       "      <td>Tachinidae</td>\n",
       "      <td>[429765, 429776, 860398, 1427707, 1427710, 142...</td>\n",
       "    </tr>\n",
       "  </tbody>\n",
       "</table>\n",
       "<p>17364 rows × 2 columns</p>\n",
       "</div>"
      ],
      "text/plain": [
       "                                              cat_name  \\\n",
       "0                                         Buprestoidea   \n",
       "1                                People_from_Worcester   \n",
       "2      Skin_conditions_resulting_from_physical_factors   \n",
       "3                                     Visual_kei_bands   \n",
       "4                           Japanese_rock_music_groups   \n",
       "...                                                ...   \n",
       "17359                   British_science_fiction_novels   \n",
       "17360                           Television_soundtracks   \n",
       "17361                         Diptera_of_North_America   \n",
       "17362                                  Diptera_of_Asia   \n",
       "17363                                       Tachinidae   \n",
       "\n",
       "                                                   pages  \n",
       "0      [301, 302, 303, 304, 305, 306, 307, 308, 309, ...  \n",
       "1      [1056, 1057, 1058, 1059, 1060, 60971, 76515, 7...  \n",
       "2      [971, 973, 1166, 1167, 1168, 1169, 1170, 1171,...  \n",
       "3      [1297, 1300, 1311, 1312, 1313, 1314, 1315, 131...  \n",
       "4      [1297, 1300, 1313, 1314, 1315, 1316, 1319, 132...  \n",
       "...                                                  ...  \n",
       "17359  [16110, 24545, 39814, 67923, 108629, 108630, 1...  \n",
       "17360  [1117, 110192, 110376, 110377, 110380, 110395,...  \n",
       "17361  [279, 280, 283, 31110, 31129, 31133, 31138, 31...  \n",
       "17362  [279, 31129, 31133, 31134, 31135, 31136, 31137...  \n",
       "17363  [429765, 429776, 860398, 1427707, 1427710, 142...  \n",
       "\n",
       "[17364 rows x 2 columns]"
      ]
     },
     "execution_count": 9,
     "metadata": {},
     "output_type": "execute_result"
    }
   ],
   "source": [
    "names = ['cat_name','pages']\n",
    "df_cat = pd.read_csv('wiki-topcats-categories.txt.gz',sep = ';',names = names)\n",
    "\n",
    "df_cat['cat_name'] = df_cat.apply(lambda x: x['cat_name'][9:],axis = 1)\n",
    "\n",
    "df_cat['pages'] = df_cat.apply(lambda x: list(map(int,x['pages'].split())),axis = 1)\n",
    "\n",
    "df_cat"
   ]
  },
  {
   "cell_type": "code",
   "execution_count": 10,
   "metadata": {},
   "outputs": [
    {
     "data": {
      "text/plain": [
       "17364"
      ]
     },
     "execution_count": 10,
     "metadata": {},
     "output_type": "execute_result"
    }
   ],
   "source": [
    "len(df_cat['cat_name'])"
   ]
  },
  {
   "cell_type": "code",
   "execution_count": null,
   "metadata": {},
   "outputs": [],
   "source": []
  },
  {
   "cell_type": "code",
   "execution_count": 11,
   "metadata": {},
   "outputs": [],
   "source": [
    "#in order to remove the pages belonging to multiple categories, I made an inverted index key: Page, values: Categories in which the pages appears.\n",
    "#than I randomly sampled the values in uniform way and built the dataframe again\n",
    "\n",
    "categories = list(df_cat['cat_name'])\n",
    "pages_for_cat =list(df_cat['pages'])\n",
    "\n",
    "\n",
    "d_page_cat = defaultdict(list)\n",
    "for i,cat in enumerate(categories):\n",
    "    for pag in pages_for_cat[i]:\n",
    "        d_page_cat[pag].append(cat)\n",
    "    \n",
    "\n"
   ]
  },
  {
   "cell_type": "code",
   "execution_count": 12,
   "metadata": {},
   "outputs": [
    {
     "data": {
      "text/plain": [
       "[301, 302, 303, 304, 305, 306, 307, 308, 309, 310]"
      ]
     },
     "execution_count": 12,
     "metadata": {},
     "output_type": "execute_result"
    }
   ],
   "source": [
    "list(d_page_cat.keys())[:10]"
   ]
  },
  {
   "cell_type": "code",
   "execution_count": 13,
   "metadata": {},
   "outputs": [],
   "source": [
    "d_random_cat_page = defaultdict(list)\n",
    "\n",
    "for page in d_page_cat.keys():\n",
    "    if page in nodes:\n",
    "        cat_of_page = random.sample(set(d_page_cat[page]),1)\n",
    "        d_random_cat_page[cat_of_page[0]].append(page)"
   ]
  },
  {
   "cell_type": "code",
   "execution_count": 14,
   "metadata": {},
   "outputs": [
    {
     "name": "stderr",
     "output_type": "stream",
     "text": [
      "D:\\Anaconda\\lib\\site-packages\\numpy\\core\\_asarray.py:83: VisibleDeprecationWarning: Creating an ndarray from ragged nested sequences (which is a list-or-tuple of lists-or-tuples-or ndarrays with different lengths or shapes) is deprecated. If you meant to do this, you must specify 'dtype=object' when creating the ndarray\n",
      "  return array(a, dtype, copy=False, order=order)\n"
     ]
    },
    {
     "data": {
      "text/html": [
       "<div>\n",
       "<style scoped>\n",
       "    .dataframe tbody tr th:only-of-type {\n",
       "        vertical-align: middle;\n",
       "    }\n",
       "\n",
       "    .dataframe tbody tr th {\n",
       "        vertical-align: top;\n",
       "    }\n",
       "\n",
       "    .dataframe thead th {\n",
       "        text-align: right;\n",
       "    }\n",
       "</style>\n",
       "<table border=\"1\" class=\"dataframe\">\n",
       "  <thead>\n",
       "    <tr style=\"text-align: right;\">\n",
       "      <th></th>\n",
       "      <th>cat_name</th>\n",
       "      <th>pages</th>\n",
       "    </tr>\n",
       "  </thead>\n",
       "  <tbody>\n",
       "    <tr>\n",
       "      <th>0</th>\n",
       "      <td>English_football_managers</td>\n",
       "      <td>[76871, 74816, 78592, 90100, 78064, 80198, 732...</td>\n",
       "    </tr>\n",
       "    <tr>\n",
       "      <th>1</th>\n",
       "      <td>Rushden_&amp;_Diamonds_F.C._players</td>\n",
       "      <td>[79069, 85059, 84285, 76731, 79929, 80835, 854...</td>\n",
       "    </tr>\n",
       "    <tr>\n",
       "      <th>2</th>\n",
       "      <td>Association_football_forwards</td>\n",
       "      <td>[79139, 27103, 27450, 27650, 27249, 27469, 278...</td>\n",
       "    </tr>\n",
       "    <tr>\n",
       "      <th>3</th>\n",
       "      <td>Kidderminster_Harriers_F.C._players</td>\n",
       "      <td>[79143, 79607, 1712509, 80052, 79059, 80617, 7...</td>\n",
       "    </tr>\n",
       "    <tr>\n",
       "      <th>4</th>\n",
       "      <td>England_under-21_international_footballers</td>\n",
       "      <td>[80237, 83800, 85644, 82790, 81046, 81613, 823...</td>\n",
       "    </tr>\n",
       "    <tr>\n",
       "      <th>...</th>\n",
       "      <td>...</td>\n",
       "      <td>...</td>\n",
       "    </tr>\n",
       "    <tr>\n",
       "      <th>5253</th>\n",
       "      <td>Members_of_the_Argentine_Senate</td>\n",
       "      <td>[1643410]</td>\n",
       "    </tr>\n",
       "    <tr>\n",
       "      <th>5254</th>\n",
       "      <td>Nahuatl_words_and_phrases</td>\n",
       "      <td>[1678297]</td>\n",
       "    </tr>\n",
       "    <tr>\n",
       "      <th>5255</th>\n",
       "      <td>Archbishops_of_York</td>\n",
       "      <td>[1779987]</td>\n",
       "    </tr>\n",
       "    <tr>\n",
       "      <th>5256</th>\n",
       "      <td>20th-century_Anglican_bishops</td>\n",
       "      <td>[1780989]</td>\n",
       "    </tr>\n",
       "    <tr>\n",
       "      <th>5257</th>\n",
       "      <td>Sri_Lankan_Hindus</td>\n",
       "      <td>[1787565, 1787570]</td>\n",
       "    </tr>\n",
       "  </tbody>\n",
       "</table>\n",
       "<p>5258 rows × 2 columns</p>\n",
       "</div>"
      ],
      "text/plain": [
       "                                        cat_name  \\\n",
       "0                      English_football_managers   \n",
       "1                Rushden_&_Diamonds_F.C._players   \n",
       "2                  Association_football_forwards   \n",
       "3            Kidderminster_Harriers_F.C._players   \n",
       "4     England_under-21_international_footballers   \n",
       "...                                          ...   \n",
       "5253             Members_of_the_Argentine_Senate   \n",
       "5254                   Nahuatl_words_and_phrases   \n",
       "5255                         Archbishops_of_York   \n",
       "5256               20th-century_Anglican_bishops   \n",
       "5257                           Sri_Lankan_Hindus   \n",
       "\n",
       "                                                  pages  \n",
       "0     [76871, 74816, 78592, 90100, 78064, 80198, 732...  \n",
       "1     [79069, 85059, 84285, 76731, 79929, 80835, 854...  \n",
       "2     [79139, 27103, 27450, 27650, 27249, 27469, 278...  \n",
       "3     [79143, 79607, 1712509, 80052, 79059, 80617, 7...  \n",
       "4     [80237, 83800, 85644, 82790, 81046, 81613, 823...  \n",
       "...                                                 ...  \n",
       "5253                                          [1643410]  \n",
       "5254                                          [1678297]  \n",
       "5255                                          [1779987]  \n",
       "5256                                          [1780989]  \n",
       "5257                                 [1787565, 1787570]  \n",
       "\n",
       "[5258 rows x 2 columns]"
      ]
     },
     "execution_count": 14,
     "metadata": {},
     "output_type": "execute_result"
    }
   ],
   "source": [
    "#some categories has been removed, since there is no pages in it or all the pages are other categories\n",
    "new_df_cat = pd.DataFrame()\n",
    "new_df_cat['cat_name'] = d_random_cat_page.keys()\n",
    "new_df_cat['pages'] = d_random_cat_page.values()\n",
    "new_df_cat"
   ]
  },
  {
   "cell_type": "code",
   "execution_count": null,
   "metadata": {},
   "outputs": [],
   "source": [
    "s1 = set(new_df_cat['cat_name'])\n",
    "s2 = set(df_cat['cat_name'])\n",
    "#s2.difference(s1)"
   ]
  },
  {
   "cell_type": "code",
   "execution_count": 16,
   "metadata": {},
   "outputs": [
    {
     "data": {
      "text/plain": [
       "1791489"
      ]
     },
     "execution_count": 16,
     "metadata": {},
     "output_type": "execute_result"
    }
   ],
   "source": [
    "len(d_page_cat.values())"
   ]
  },
  {
   "cell_type": "code",
   "execution_count": 17,
   "metadata": {},
   "outputs": [],
   "source": [
    "inverted_dictionary={}\n",
    "for i,row in new_df_cat.iterrows():\n",
    "    for node in row[\"pages\"]:\n",
    "        inverted_dictionary[node]=row[\"cat_name\"]"
   ]
  },
  {
   "cell_type": "markdown",
   "metadata": {},
   "source": [
    "# Create Graph"
   ]
  },
  {
   "cell_type": "markdown",
   "metadata": {},
   "source": [
    "# RQ 1"
   ]
  },
  {
   "cell_type": "code",
   "execution_count": 18,
   "metadata": {},
   "outputs": [],
   "source": [
    "G=nx.convert_matrix.from_pandas_edgelist(df_edges, 'source', 'target', ['edge_ID'],create_using=nx.DiGraph())\n"
   ]
  },
  {
   "cell_type": "code",
   "execution_count": 19,
   "metadata": {},
   "outputs": [
    {
     "data": {
      "text/plain": [
       "<bound method DiGraph.add_nodes_from of <networkx.classes.digraph.DiGraph object at 0x00000229C22ED0A0>>"
      ]
     },
     "execution_count": 19,
     "metadata": {},
     "output_type": "execute_result"
    }
   ],
   "source": [
    "G.add_nodes_from"
   ]
  },
  {
   "cell_type": "code",
   "execution_count": 20,
   "metadata": {},
   "outputs": [
    {
     "data": {
      "text/plain": [
       "True"
      ]
     },
     "execution_count": 20,
     "metadata": {},
     "output_type": "execute_result"
    }
   ],
   "source": [
    "nx.is_directed(G)\n",
    "\n"
   ]
  },
  {
   "cell_type": "markdown",
   "metadata": {},
   "source": [
    "### 1. Is the graph directed?"
   ]
  },
  {
   "cell_type": "markdown",
   "metadata": {},
   "source": [
    "### How many articles are we considering"
   ]
  },
  {
   "cell_type": "code",
   "execution_count": 21,
   "metadata": {},
   "outputs": [
    {
     "data": {
      "text/plain": [
       "98343"
      ]
     },
     "execution_count": 21,
     "metadata": {},
     "output_type": "execute_result"
    }
   ],
   "source": [
    "len(G.nodes)\n",
    "\n",
    "\n"
   ]
  },
  {
   "cell_type": "markdown",
   "metadata": {},
   "source": [
    "### How many Hyperlinks "
   ]
  },
  {
   "cell_type": "code",
   "execution_count": 22,
   "metadata": {},
   "outputs": [
    {
     "data": {
      "text/plain": [
       "483094"
      ]
     },
     "execution_count": 22,
     "metadata": {},
     "output_type": "execute_result"
    }
   ],
   "source": [
    "len(G.edges)\n"
   ]
  },
  {
   "cell_type": "code",
   "execution_count": 23,
   "metadata": {},
   "outputs": [
    {
     "data": {
      "text/plain": [
       "4.912337431235573"
      ]
     },
     "execution_count": 23,
     "metadata": {},
     "output_type": "execute_result"
    }
   ],
   "source": [
    "483094/98343"
   ]
  },
  {
   "cell_type": "markdown",
   "metadata": {},
   "source": [
    "### Avarage Degree"
   ]
  },
  {
   "cell_type": "code",
   "execution_count": 24,
   "metadata": {},
   "outputs": [
    {
     "data": {
      "text/plain": [
       "4.912337431235573"
      ]
     },
     "execution_count": 24,
     "metadata": {},
     "output_type": "execute_result"
    }
   ],
   "source": [
    "dict_in_degree = dict(G.in_degree())\n",
    "list_degree_in = list(dict_in_degree.values())\n",
    "avg_degree_in = np.mean(np.array(list_degree_in))\n",
    "avg_degree_in\n",
    "\n"
   ]
  },
  {
   "cell_type": "code",
   "execution_count": 25,
   "metadata": {},
   "outputs": [
    {
     "data": {
      "text/plain": [
       "4.912337431235573"
      ]
     },
     "execution_count": 25,
     "metadata": {},
     "output_type": "execute_result"
    }
   ],
   "source": [
    "dict_out_degree = dict(G.out_degree())\n",
    "list_degree_out = list(dict_out_degree.values())\n",
    "avg_degree_out = np.mean(np.array(list_degree_out))\n",
    "avg_degree_out"
   ]
  },
  {
   "cell_type": "code",
   "execution_count": 26,
   "metadata": {},
   "outputs": [
    {
     "data": {
      "image/png": "[encoded data removed]",
      "text/plain": [
       "<Figure size 1440x576 with 1 Axes>"
      ]
     },
     "metadata": {
      "needs_background": "light"
     },
     "output_type": "display_data"
    }
   ],
   "source": [
    "plt.figure(figsize=(20,8))\n",
    "plt.hist(list_degree_in,log=\"xy\",bins=100);"
   ]
  },
  {
   "cell_type": "code",
   "execution_count": 27,
   "metadata": {},
   "outputs": [
    {
     "data": {
      "image/png": "[encoded data removed]",
      "text/plain": [
       "<Figure size 1440x576 with 1 Axes>"
      ]
     },
     "metadata": {
      "needs_background": "light"
     },
     "output_type": "display_data"
    }
   ],
   "source": [
    "plt.figure(figsize=(20,8))\n",
    "plt.hist(list_degree_out,log=\"xy\",bins=100);"
   ]
  },
  {
   "cell_type": "code",
   "execution_count": 28,
   "metadata": {},
   "outputs": [],
   "source": [
    "from collections import deque\n",
    "def BFS_distances(G,v,inf_distances=True,p=None):\n",
    "    \"we use a standard iterative BFS with a queue to avoid having too many recursive calls\"\n",
    "    inf=float(\"inf\")\n",
    "    \n",
    "    q = deque()\n",
    "    discovered={}\n",
    "    discovered[v] = 0\n",
    "    # put starting vertex in the queue\n",
    "    q.append(v)\n",
    "    edges_with_distances=[]\n",
    "    while q:\n",
    "        v = q.popleft()\n",
    "        \n",
    "        edges_with_distances.append((v,discovered[v]))\n",
    " \n",
    "        for u in G.neighbors(v):\n",
    "            if u not in discovered:\n",
    "                # mark it discovered and push it into queue\n",
    "                discovered[u] = discovered[v]+1\n",
    "                q.append(u)\n",
    "    return edges_with_distances\n",
    "    "
   ]
  },
  {
   "cell_type": "markdown",
   "metadata": {},
   "source": [
    "# RQ2 (DA FINIRE)"
   ]
  },
  {
   "cell_type": "code",
   "execution_count": 133,
   "metadata": {},
   "outputs": [
    {
     "data": {
      "text/plain": [
       "[(95, 0),\n",
       " (1185516, 1),\n",
       " (150451, 2),\n",
       " (1062563, 2),\n",
       " (1178930, 2),\n",
       " (1184017, 2),\n",
       " (1184695, 2),\n",
       " (1761109, 2),\n",
       " (1177884, 3),\n",
       " (110209, 3)]"
      ]
     },
     "execution_count": 133,
     "metadata": {},
     "output_type": "execute_result"
    }
   ],
   "source": [
    "BFS_distances(G,95)[:10]"
   ]
  },
  {
   "cell_type": "markdown",
   "metadata": {},
   "source": [
    "# RQ3"
   ]
  },
  {
   "cell_type": "code",
   "execution_count": 30,
   "metadata": {},
   "outputs": [],
   "source": [
    "nx.set_node_attributes(G, inverted_dictionary, name=\"Category\")"
   ]
  },
  {
   "cell_type": "code",
   "execution_count": 31,
   "metadata": {},
   "outputs": [],
   "source": [
    "def most_central_article(G,category):\n",
    "    nodes=list(map(int,d_random_cat_page[category]))\n",
    "    assert len(nodes)>0,\"Empty/non-existent category!\"\n",
    "    max_in_degree=list(G.in_degree(nodes))\n",
    "    return max(max_in_degree,key=lambda x:x[1])"
   ]
  },
  {
   "cell_type": "code",
   "execution_count": 32,
   "metadata": {},
   "outputs": [
    {
     "data": {
      "text/plain": [
       "(1227839, 13)"
      ]
     },
     "execution_count": 32,
     "metadata": {},
     "output_type": "execute_result"
    }
   ],
   "source": [
    "most_central_article(G,'Debut_albums')"
   ]
  },
  {
   "cell_type": "code",
   "execution_count": 33,
   "metadata": {},
   "outputs": [],
   "source": [
    "p=[95,108]\n",
    "C=\"Debut_albums\""
   ]
  },
  {
   "cell_type": "markdown",
   "metadata": {},
   "source": [
    "### This algorithm requires an explaination"
   ]
  },
  {
   "cell_type": "code",
   "execution_count": 34,
   "metadata": {},
   "outputs": [],
   "source": [
    "def graph_exploration(G,p,C):\n",
    "    most_central=most_central_article(G,C)[0]\n",
    "    if most_central not in p:\n",
    "        p.append(most_central)\n",
    "    \n",
    "    new_graph=nx.empty_graph(create_using=nx.DiGraph())\n",
    "    \n",
    "    for node1 in p:\n",
    "        for node2 in p:\n",
    "            if node1!=node2:\n",
    "                distances=dict(BFS_distances(G,node1))\n",
    "                if node2 in distances:\n",
    "                    new_graph.add_edge(node1,node2,weight=distances[node2])\n",
    "    return new_graph"
   ]
  },
  {
   "cell_type": "code",
   "execution_count": 35,
   "metadata": {},
   "outputs": [],
   "source": [
    "new_graph=graph_exploration(G,p,C)"
   ]
  },
  {
   "cell_type": "code",
   "execution_count": 36,
   "metadata": {},
   "outputs": [
    {
     "data": {
      "text/plain": [
       "OutEdgeView([(95, 1227839), (108, 1227839)])"
      ]
     },
     "execution_count": 36,
     "metadata": {},
     "output_type": "execute_result"
    }
   ],
   "source": [
    "new_graph.edges"
   ]
  },
  {
   "cell_type": "code",
   "execution_count": 37,
   "metadata": {},
   "outputs": [
    {
     "data": {
      "text/plain": [
       "{(95, 1227839): 9, (108, 1227839): 9}"
      ]
     },
     "execution_count": 37,
     "metadata": {},
     "output_type": "execute_result"
    }
   ],
   "source": [
    "nx.get_edge_attributes(new_graph,\"weight\")"
   ]
  },
  {
   "cell_type": "markdown",
   "metadata": {},
   "source": [
    "# RQ5"
   ]
  },
  {
   "cell_type": "code",
   "execution_count": 38,
   "metadata": {},
   "outputs": [],
   "source": [
    "def BFS_distances(G,v,inf_distances=True,p=None):\n",
    "    \"we use a standard iterative BFS with a queue to avoid having too many recursive calls\"\n",
    "    inf=float(\"inf\")\n",
    "    \n",
    "    q = deque()\n",
    "    discovered={}\n",
    "    discovered[v] = 0\n",
    "    # put starting vertex in the queue\n",
    "    q.append(v)\n",
    "    edges_with_distances=[]\n",
    "    vertices=G.nodes\n",
    "    while q:\n",
    "        v = q.popleft()\n",
    "        \n",
    "        edges_with_distances.append((v,discovered[v]))\n",
    " \n",
    "        for u in G.neighbors(v):\n",
    "            if u not in discovered:\n",
    "                # mark it discovered and push it into queue\n",
    "                discovered[u] = discovered[v]+1\n",
    "                q.append(u)\n",
    "    return edges_with_distances\n",
    "    "
   ]
  },
  {
   "cell_type": "code",
   "execution_count": 41,
   "metadata": {},
   "outputs": [],
   "source": [
    "Category1='Association_football_goalkeepers'\n",
    "Category2='American_television_actors'\n",
    "Category_test='Association_football_goalkeepers'"
   ]
  },
  {
   "cell_type": "code",
   "execution_count": 42,
   "metadata": {},
   "outputs": [
    {
     "name": "stderr",
     "output_type": "stream",
     "text": [
      "100%|██████████████████████████████████████████████████████████████████████████████████| 83/83 [00:10<00:00,  7.80it/s]\n"
     ]
    }
   ],
   "source": [
    "nodes=list(map(int,d_random_cat_page[Category1]))\n",
    "all_distances={}\n",
    "for v in tqdm(nodes):\n",
    "    distances=BFS_distances(G,v)\n",
    "    all_distances[v]=dict(distances)"
   ]
  },
  {
   "cell_type": "code",
   "execution_count": 43,
   "metadata": {},
   "outputs": [
    {
     "name": "stderr",
     "output_type": "stream",
     "text": [
      "100%|█████████████████████████████████████████████████████████████████████████████| 5258/5258 [00:06<00:00, 788.65it/s]\n"
     ]
    }
   ],
   "source": [
    "counter=0\n",
    "medians=[]\n",
    "\n",
    "for i in tqdm(d_random_cat_page):\n",
    "    counter+=1\n",
    "    temp_nodes=list(map(int,d_random_cat_page[i]))\n",
    "    distances=[]\n",
    "    \n",
    "    \n",
    "    for c_0 in nodes:\n",
    "        for c_i in temp_nodes:\n",
    "            try:\n",
    "                distances.append(all_distances[c_0][c_i])\n",
    "            except KeyError:\n",
    "                distances.append(float(\"inf\"))\n",
    "    \n",
    "    medians.append((i,np.median(np.array(distances))))\n",
    "    #print(\"The distance between\", Category1, \"and\", i,\"is\", np.median(np.array(distances)),\"    Counter= \",counter,\"/\",len(d_random_cat_page))\n"
   ]
  },
  {
   "cell_type": "code",
   "execution_count": 44,
   "metadata": {},
   "outputs": [],
   "source": [
    "medians=sorted(medians,key=lambda x:x[1])"
   ]
  },
  {
   "cell_type": "code",
   "execution_count": 132,
   "metadata": {},
   "outputs": [
    {
     "data": {
      "text/plain": [
       "[('Jewish_refugees', 4.0),\n",
       " ('English_Football_Hall_of_Fame_inductees', 4.0),\n",
       " ('British_association_football_commentators', 4.0),\n",
       " ('2001_FIFA_Confederations_Cup_players', 4.0),\n",
       " ('Disease-related_deaths_in_England', 4.0),\n",
       " ('Ukraine_international_footballers', 4.0),\n",
       " ('EA_Guingamp_players', 4.0),\n",
       " ('Danish_football_managers', 4.0),\n",
       " ('Uruguay_international_footballers', 4.0),\n",
       " ('Major_League_Baseball_executives', 4.0)]"
      ]
     },
     "execution_count": 132,
     "metadata": {},
     "output_type": "execute_result"
    }
   ],
   "source": [
    "medians[:10]"
   ]
  },
  {
   "cell_type": "markdown",
   "metadata": {},
   "source": [
    "## RQ 6\n",
    "\n",
    "Write a function that sorts the categories in the graph according to their PageRank (PR). For this task you need to model the network of categories such that you can apply the PR algorithm.\n",
    "\n"
   ]
  },
  {
   "cell_type": "markdown",
   "metadata": {},
   "source": [
    "L'algoritmo completo per il calcolo del PageRank fa ricorso all'uso della teoria dei processi Markov ed è classificato nella vera categoria degli algoritmi di Link Analysis Ranking. Dalla formula inizialmente sviluppata dai fondatori di Google, Sergey Brin e Larry Page, è possibile comprendere come il PageRank viene distribuito tra le pagine:\n",
    "\n",
    "$PR[A]={\\frac  {1-d}{N}}+d\\left(\\sum _{{k=1}}^{n}{\\frac  {PR[P_{k}]}{C[P_{k}]}}\\right)$\n",
    "\n",
    "Dove:\n",
    "\n",
    "* PR[A] è il valore di PageRank della pagina A che vogliamo calcolare.\n",
    "* N è il numero totale di pagine note.\n",
    "* n è il numero di pagine che contengono almeno un link verso A. Pk rappresenta ognuna di tali pagine.\n",
    "* PR[Pk] sono i valori di PageRank di ogni pagina Pk.\n",
    "* C[Pk] sono il numero complessivo di link contenuti nella pagina che offre il link.\n",
    "* d (damping factor) è un fattore deciso da Google e che nella documentazione originale assume valore 0,85. Può essere aggiustato da Google per decidere la percentuale di PageRank che deve transitare da una pagina all'altra e il valore di PageRank minimo attribuito ad ogni pagina in archivio.\n",
    "Dalla formula si nota quindi che all'aumentare del numero di link complessivi dei siti che puntano ad A il PageRank aumenta."
   ]
  },
  {
   "cell_type": "code",
   "execution_count": 46,
   "metadata": {},
   "outputs": [],
   "source": [
    "cat_of_page = {}\n",
    "\n",
    "for cat in d_random_cat_page:\n",
    "    for page in d_random_cat_page[cat]:\n",
    "        cat_of_page[page] = cat "
   ]
  },
  {
   "cell_type": "code",
   "execution_count": 47,
   "metadata": {},
   "outputs": [],
   "source": [
    "df_edges\n",
    "\n",
    "df_edges_cat = pd.DataFrame()"
   ]
  },
  {
   "cell_type": "code",
   "execution_count": 48,
   "metadata": {},
   "outputs": [],
   "source": [
    "df_edges_cat['source'] = [cat_of_page[page] for page in df_edges['source']]\n",
    "df_edges_cat['target'] = [cat_of_page[page] for page in df_edges['target']]\n"
   ]
  },
  {
   "cell_type": "code",
   "execution_count": 49,
   "metadata": {},
   "outputs": [
    {
     "data": {
      "text/html": [
       "<div>\n",
       "<style scoped>\n",
       "    .dataframe tbody tr th:only-of-type {\n",
       "        vertical-align: middle;\n",
       "    }\n",
       "\n",
       "    .dataframe tbody tr th {\n",
       "        vertical-align: top;\n",
       "    }\n",
       "\n",
       "    .dataframe thead th {\n",
       "        text-align: right;\n",
       "    }\n",
       "</style>\n",
       "<table border=\"1\" class=\"dataframe\">\n",
       "  <thead>\n",
       "    <tr style=\"text-align: right;\">\n",
       "      <th></th>\n",
       "      <th>source</th>\n",
       "      <th>target</th>\n",
       "    </tr>\n",
       "  </thead>\n",
       "  <tbody>\n",
       "    <tr>\n",
       "      <th>0</th>\n",
       "      <td>Debut_albums</td>\n",
       "      <td>Living_people</td>\n",
       "    </tr>\n",
       "    <tr>\n",
       "      <th>1</th>\n",
       "      <td>Debut_albums</td>\n",
       "      <td>Films_about_actors</td>\n",
       "    </tr>\n",
       "    <tr>\n",
       "      <th>2</th>\n",
       "      <td>Debut_albums</td>\n",
       "      <td>Actors_from_Connecticut</td>\n",
       "    </tr>\n",
       "    <tr>\n",
       "      <th>3</th>\n",
       "      <td>Debut_albums</td>\n",
       "      <td>American_conductors_(music)</td>\n",
       "    </tr>\n",
       "    <tr>\n",
       "      <th>4</th>\n",
       "      <td>American_films</td>\n",
       "      <td>Members_of_the_London_County_Council</td>\n",
       "    </tr>\n",
       "    <tr>\n",
       "      <th>...</th>\n",
       "      <td>...</td>\n",
       "      <td>...</td>\n",
       "    </tr>\n",
       "    <tr>\n",
       "      <th>483089</th>\n",
       "      <td>American_television_films</td>\n",
       "      <td>American_people_of_Russian_descent</td>\n",
       "    </tr>\n",
       "    <tr>\n",
       "      <th>483090</th>\n",
       "      <td>American_television_films</td>\n",
       "      <td>Actors_from_New_York</td>\n",
       "    </tr>\n",
       "    <tr>\n",
       "      <th>483091</th>\n",
       "      <td>American_television_films</td>\n",
       "      <td>Place_of_birth_missing_(living_people)</td>\n",
       "    </tr>\n",
       "    <tr>\n",
       "      <th>483092</th>\n",
       "      <td>The_Football_League_players</td>\n",
       "      <td>Newcastle_United_F.C._players</td>\n",
       "    </tr>\n",
       "    <tr>\n",
       "      <th>483093</th>\n",
       "      <td>Yale_University</td>\n",
       "      <td>American_colonial_people</td>\n",
       "    </tr>\n",
       "  </tbody>\n",
       "</table>\n",
       "<p>483094 rows × 2 columns</p>\n",
       "</div>"
      ],
      "text/plain": [
       "                             source                                  target\n",
       "0                      Debut_albums                           Living_people\n",
       "1                      Debut_albums                      Films_about_actors\n",
       "2                      Debut_albums                 Actors_from_Connecticut\n",
       "3                      Debut_albums             American_conductors_(music)\n",
       "4                    American_films    Members_of_the_London_County_Council\n",
       "...                             ...                                     ...\n",
       "483089    American_television_films      American_people_of_Russian_descent\n",
       "483090    American_television_films                    Actors_from_New_York\n",
       "483091    American_television_films  Place_of_birth_missing_(living_people)\n",
       "483092  The_Football_League_players           Newcastle_United_F.C._players\n",
       "483093              Yale_University                American_colonial_people\n",
       "\n",
       "[483094 rows x 2 columns]"
      ]
     },
     "execution_count": 49,
     "metadata": {},
     "output_type": "execute_result"
    }
   ],
   "source": [
    "df_edges_cat"
   ]
  },
  {
   "cell_type": "code",
   "execution_count": 50,
   "metadata": {},
   "outputs": [],
   "source": [
    "G_cat=nx.convert_matrix.from_pandas_edgelist(df_edges_cat, 'source', 'target',create_using=nx.DiGraph())"
   ]
  },
  {
   "cell_type": "code",
   "execution_count": 126,
   "metadata": {},
   "outputs": [],
   "source": [
    "PR_nx=sorted(list(nx.pagerank(G_cat,alpha = 0.85).items()),key = lambda x: -x[1])\n"
   ]
  },
  {
   "cell_type": "code",
   "execution_count": 275,
   "metadata": {},
   "outputs": [],
   "source": [
    "import copy\n",
    "def PageRank(G,alpha=0.85,max_iter=100,epsilon=1e-6):\n",
    "    def distance(PR1,PR2):\n",
    "        return sum(abs(PR1[i]-PR2[i]) for i in G.nodes())\n",
    "      \n",
    "    \n",
    "    \n",
    "    PR = {}\n",
    "    PR_last=defaultdict(lambda : 1/len(G.nodes()))\n",
    "    for i in tqdm(range(max_iter)):\n",
    "        #print(sum(PR_last[node] for node in G.nodes()))\n",
    "        for page in G.nodes():\n",
    "            PR[page]= ((1-alpha)/len(G.nodes()))\n",
    "            \n",
    "            for pointer in G.predecessors(page):\n",
    "                PR[page] += (alpha)*(PR_last[pointer]/len(list(G.successors(pointer))))\n",
    "                print(pointer,*G.successors(pointer))\n",
    "        \"\"\"magnitude=sum(PR[page] for page in G.nodes())\n",
    "        for page in G.nodes():\n",
    "            PR[page]=PR[page]/magnitude\n",
    "        \"\"\"\n",
    "        if distance(PR_last,PR)<epsilon:\n",
    "             return PR\n",
    "        PR_last=copy.deepcopy(PR)\n",
    "    return PR"
   ]
  },
  {
   "cell_type": "markdown",
   "metadata": {},
   "source": [
    "<code>def PageRank(G,alpha=0.85,max_iter=100):\n",
    "    PR = defaultdict(lambda : 1/len(G.nodes()))\n",
    "    for i in range(max_iter):\n",
    "        for page in G.nodes():\n",
    "            PR[page] = ((1-alpha)/len(G.nodes())) + (alpha)*(sum(PR[pointer]/len(list(G.successors(pointer))) for pointer in G.predecessors(page)))\n",
    "    return P"
   ]
  },
  {
   "cell_type": "code",
   "execution_count": 459,
   "metadata": {},
   "outputs": [],
   "source": [
    "def PageRank(G,alpha=0.85,max_iter=100):\n",
    "    G=copy.deepcopy(G)\n",
    "    edges_to_add=[]\n",
    "    for node in tqdm(G.nodes()):\n",
    "        if G.out_degree(node)==0:\n",
    "            edges_to_add+=[(node,node_i) for node_i in G.nodes()]\n",
    "    G.add_edges_from(edges_to_add)\n",
    "    \n",
    "    PR_last = defaultdict(lambda : 1/len(G.nodes()))\n",
    "    PR={}\n",
    "    print(len(G.edges()))\n",
    "    for i in tqdm(range(max_iter)):\n",
    "        for page in G.nodes():\n",
    "            PR[page] = ((1-alpha)/len(G.nodes())) + (alpha)*(sum(PR_last[pointer]/len(list(G.successors(pointer))) for pointer in G.predecessors(page)))\n",
    "        PR_last=copy.deepcopy(PR)\n",
    "    return PR"
   ]
  },
  {
   "cell_type": "code",
   "execution_count": 460,
   "metadata": {},
   "outputs": [],
   "source": [
    "test=nx.empty_graph(create_using=nx.DiGraph())"
   ]
  },
  {
   "cell_type": "code",
   "execution_count": 461,
   "metadata": {},
   "outputs": [],
   "source": [
    "a=a+3"
   ]
  },
  {
   "cell_type": "code",
   "execution_count": 462,
   "metadata": {},
   "outputs": [],
   "source": [
    "test.add_edges_from([(1,2),(2,3),(3,5),(4,5),(5,11)])"
   ]
  },
  {
   "cell_type": "code",
   "execution_count": 463,
   "metadata": {},
   "outputs": [
    {
     "data": {
      "text/plain": [
       "OutEdgeView([(1, 2), (2, 3), (3, 5), (5, 11), (4, 5)])"
      ]
     },
     "execution_count": 463,
     "metadata": {},
     "output_type": "execute_result"
    }
   ],
   "source": [
    "test.edges"
   ]
  },
  {
   "cell_type": "code",
   "execution_count": 464,
   "metadata": {},
   "outputs": [],
   "source": [
    "PR_nx=sorted(list(nx.pagerank(G_cat,alpha = 0.85).items()),key = lambda x: -x[1])"
   ]
  },
  {
   "cell_type": "code",
   "execution_count": null,
   "metadata": {},
   "outputs": [
    {
     "name": "stderr",
     "output_type": "stream",
     "text": [
      "100%|███████████████████████████████████████████████████████████████████████████| 5258/5258 [00:00<00:00, 20496.49it/s]\n",
      "  0%|                                                                                          | 0/100 [00:00<?, ?it/s]"
     ]
    },
    {
     "name": "stdout",
     "output_type": "stream",
     "text": [
      "1623847\n"
     ]
    },
    {
     "name": "stderr",
     "output_type": "stream",
     "text": [
      "  4%|███▏                                                                            | 4/100 [06:11<2:29:03, 93.17s/it]"
     ]
    }
   ],
   "source": [
    "PR=sorted(list(PageRank(G_cat,alpha = 0.85).items()),key = lambda x: -x[1])"
   ]
  },
  {
   "cell_type": "code",
   "execution_count": null,
   "metadata": {},
   "outputs": [],
   "source": [
    "PR"
   ]
  },
  {
   "cell_type": "code",
   "execution_count": 385,
   "metadata": {},
   "outputs": [],
   "source": [
    "asd=test"
   ]
  },
  {
   "cell_type": "code",
   "execution_count": 387,
   "metadata": {},
   "outputs": [
    {
     "data": {
      "text/plain": [
       "OutEdgeView([(1, 2), (1, 44), (2, 2), (2, 1)])"
      ]
     },
     "execution_count": 387,
     "metadata": {},
     "output_type": "execute_result"
    }
   ],
   "source": [
    "asd.edges"
   ]
  },
  {
   "cell_type": "code",
   "execution_count": 404,
   "metadata": {},
   "outputs": [],
   "source": [
    "def prova(G):\n",
    "    G.add_edges_from([(5555,11112211)])\n",
    "    del G"
   ]
  },
  {
   "cell_type": "code",
   "execution_count": 405,
   "metadata": {},
   "outputs": [
    {
     "data": {
      "text/plain": [
       "OutEdgeView([(1, 2), (1, 44), (2, 2), (2, 1), (1111, 2222), (5555, 111111)])"
      ]
     },
     "execution_count": 405,
     "metadata": {},
     "output_type": "execute_result"
    }
   ],
   "source": [
    "test.edges"
   ]
  },
  {
   "cell_type": "code",
   "execution_count": 406,
   "metadata": {},
   "outputs": [],
   "source": [
    "prova(test)"
   ]
  },
  {
   "cell_type": "code",
   "execution_count": 407,
   "metadata": {},
   "outputs": [
    {
     "data": {
      "text/plain": [
       "OutEdgeView([(1, 2), (1, 44), (2, 2), (2, 1), (1111, 2222), (5555, 111111), (5555, 11112211)])"
      ]
     },
     "execution_count": 407,
     "metadata": {},
     "output_type": "execute_result"
    }
   ],
   "source": [
    "test.edges"
   ]
  },
  {
   "cell_type": "code",
   "execution_count": 429,
   "metadata": {},
   "outputs": [
    {
     "data": {
      "text/plain": [
       "<networkx.classes.digraph.DiGraph at 0x229c22ed0a0>"
      ]
     },
     "execution_count": 429,
     "metadata": {},
     "output_type": "execute_result"
    }
   ],
   "source": [
    "G"
   ]
  },
  {
   "cell_type": "code",
   "execution_count": 435,
   "metadata": {},
   "outputs": [
    {
     "data": {
      "text/plain": [
       "167381"
      ]
     },
     "execution_count": 435,
     "metadata": {},
     "output_type": "execute_result"
    }
   ],
   "source": [
    "len(G_cat.edges)"
   ]
  },
  {
   "cell_type": "code",
   "execution_count": null,
   "metadata": {},
   "outputs": [],
   "source": []
  }
 ],
 "metadata": {
  "kernelspec": {
   "display_name": "Python 3",
   "language": "python",
   "name": "python3"
  },
  "language_info": {
   "codemirror_mode": {
    "name": "ipython",
    "version": 3
   },
   "file_extension": ".py",
   "mimetype": "text/x-python",
   "name": "python",
   "nbconvert_exporter": "python",
   "pygments_lexer": "ipython3",
   "version": "3.8.5"
  }
 },
 "nbformat": 4,
 "nbformat_minor": 4
}
