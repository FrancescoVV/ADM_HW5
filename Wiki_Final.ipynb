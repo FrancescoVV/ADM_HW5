{
 "cells": [
  {
   "cell_type": "markdown",
   "metadata": {},
   "source": [
    "# Data and Setting"
   ]
  },
  {
   "cell_type": "code",
<<<<<<< HEAD
   "execution_count": 3,
=======
   "execution_count": 26,
>>>>>>> 9ebfbb9c48970e453c3f7c8e194d98c7610b79d9
   "metadata": {},
   "outputs": [],
   "source": [
    "import pandas as pd\n",
    "from collections import defaultdict\n",
    "import numpy as np\n",
    "import random\n",
    "import networkx as nx\n",
    "import numpy as np\n",
    "import pandas as pd\n",
    "import seaborn as sns\n",
    "import matplotlib as mpl\n",
    "import matplotlib.pyplot as plt\n",
    "from tqdm import tqdm\n",
    "from collections import deque\n",
    "from collections import Counter\n",
    "sns.set_theme(style=\"whitegrid\",font_scale = 2)\n",
    "sns.set_palette('rocket')\n",
    "random.seed(0)"
   ]
  },
  {
   "cell_type": "markdown",
   "metadata": {},
   "source": [
    "### Network"
   ]
  },
  {
   "cell_type": "markdown",
   "metadata": {},
   "source": [
    "In this first part we load the dataset. We'll use the `nx.convert_matrix.from_pandas_edgelist` function to build the graph later."
   ]
  },
  {
   "cell_type": "code",
   "execution_count": 4,
   "metadata": {},
   "outputs": [],
   "source": [
    "#dataframe for the network \n",
    "\n",
    "#names of columns\n",
    "cols = ['edge_ID','source','target']\n",
    "\n",
    "#loading Dataframe\n",
    "df_edges = pd.read_csv('wikigraph_reduced.csv', delimiter = '\\t',names = cols).drop(index = 0)\n",
    "\n",
    "#making edge_ID as int\n",
    "df_edges['edge_ID'] = list(map(int, df_edges['edge_ID']))\n",
    "\n",
    "#set of all the nodes in the graph\n",
    "nodes=set(df_edges[\"source\"]).union(set(df_edges[\"target\"]))"
   ]
  },
  {
   "cell_type": "code",
   "execution_count": 5,
   "metadata": {},
   "outputs": [
    {
     "data": {
      "text/html": [
       "<div>\n",
       "<style scoped>\n",
       "    .dataframe tbody tr th:only-of-type {\n",
       "        vertical-align: middle;\n",
       "    }\n",
       "\n",
       "    .dataframe tbody tr th {\n",
       "        vertical-align: top;\n",
       "    }\n",
       "\n",
       "    .dataframe thead th {\n",
       "        text-align: right;\n",
       "    }\n",
       "</style>\n",
       "<table border=\"1\" class=\"dataframe\">\n",
       "  <thead>\n",
       "    <tr style=\"text-align: right;\">\n",
       "      <th></th>\n",
       "      <th>edge_ID</th>\n",
       "      <th>source</th>\n",
       "      <th>target</th>\n",
       "    </tr>\n",
       "  </thead>\n",
       "  <tbody>\n",
       "    <tr>\n",
       "      <th>1</th>\n",
       "      <td>796</td>\n",
       "      <td>95</td>\n",
       "      <td>1185516</td>\n",
       "    </tr>\n",
       "    <tr>\n",
       "      <th>2</th>\n",
       "      <td>909</td>\n",
       "      <td>108</td>\n",
       "      <td>1059989</td>\n",
       "    </tr>\n",
       "    <tr>\n",
       "      <th>3</th>\n",
       "      <td>910</td>\n",
       "      <td>108</td>\n",
       "      <td>1062426</td>\n",
       "    </tr>\n",
       "    <tr>\n",
       "      <th>4</th>\n",
       "      <td>911</td>\n",
       "      <td>108</td>\n",
       "      <td>1161925</td>\n",
       "    </tr>\n",
       "    <tr>\n",
       "      <th>5</th>\n",
       "      <td>1141</td>\n",
       "      <td>134</td>\n",
       "      <td>541222</td>\n",
       "    </tr>\n",
       "    <tr>\n",
       "      <th>...</th>\n",
       "      <td>...</td>\n",
       "      <td>...</td>\n",
       "      <td>...</td>\n",
       "    </tr>\n",
       "    <tr>\n",
       "      <th>483090</th>\n",
       "      <td>28511768</td>\n",
       "      <td>1791481</td>\n",
       "      <td>1060990</td>\n",
       "    </tr>\n",
       "    <tr>\n",
       "      <th>483091</th>\n",
       "      <td>28511769</td>\n",
       "      <td>1791481</td>\n",
       "      <td>1061382</td>\n",
       "    </tr>\n",
       "    <tr>\n",
       "      <th>483092</th>\n",
       "      <td>28511771</td>\n",
       "      <td>1791481</td>\n",
       "      <td>1110380</td>\n",
       "    </tr>\n",
       "    <tr>\n",
       "      <th>483093</th>\n",
       "      <td>28511772</td>\n",
       "      <td>1791482</td>\n",
       "      <td>80740</td>\n",
       "    </tr>\n",
       "    <tr>\n",
       "      <th>483094</th>\n",
       "      <td>28511785</td>\n",
       "      <td>1791484</td>\n",
       "      <td>235100</td>\n",
       "    </tr>\n",
       "  </tbody>\n",
       "</table>\n",
       "<p>483094 rows × 3 columns</p>\n",
       "</div>"
      ],
      "text/plain": [
       "         edge_ID   source   target\n",
       "1            796       95  1185516\n",
       "2            909      108  1059989\n",
       "3            910      108  1062426\n",
       "4            911      108  1161925\n",
       "5           1141      134   541222\n",
       "...          ...      ...      ...\n",
       "483090  28511768  1791481  1060990\n",
       "483091  28511769  1791481  1061382\n",
       "483092  28511771  1791481  1110380\n",
       "483093  28511772  1791482    80740\n",
       "483094  28511785  1791484   235100\n",
       "\n",
       "[483094 rows x 3 columns]"
      ]
     },
     "execution_count": 5,
     "metadata": {},
     "output_type": "execute_result"
    }
   ],
   "source": [
    "df_edges"
   ]
  },
  {
   "cell_type": "markdown",
   "metadata": {},
   "source": [
    "### Page Names"
   ]
  },
  {
   "cell_type": "markdown",
   "metadata": {},
   "source": [
    "In this subsection we load the dataset containing the names of the nodes.\n",
    "\n",
    "Since there is not a unique delimiter that separates the node number from the name and using the *\\\" \"* character doesn't work because it would also separates some names (e.g: *\\\"0 Chiasmal syndrome\"* would be split into three parts) we loaded everything into a simple column and then separated the node number from the rest."
   ]
  },
  {
   "cell_type": "code",
   "execution_count": 6,
   "metadata": {},
   "outputs": [],
   "source": [
    "df_names = pd.read_csv('wiki-topcats-page-names.txt.gz',names =['node name'])"
   ]
  },
  {
   "cell_type": "code",
   "execution_count": 7,
   "metadata": {},
   "outputs": [
    {
     "data": {
      "text/html": [
       "<div>\n",
       "<style scoped>\n",
       "    .dataframe tbody tr th:only-of-type {\n",
       "        vertical-align: middle;\n",
       "    }\n",
       "\n",
       "    .dataframe tbody tr th {\n",
       "        vertical-align: top;\n",
       "    }\n",
       "\n",
       "    .dataframe thead th {\n",
       "        text-align: right;\n",
       "    }\n",
       "</style>\n",
       "<table border=\"1\" class=\"dataframe\">\n",
       "  <thead>\n",
       "    <tr style=\"text-align: right;\">\n",
       "      <th></th>\n",
       "      <th>node name</th>\n",
       "    </tr>\n",
       "  </thead>\n",
       "  <tbody>\n",
       "    <tr>\n",
       "      <th>0</th>\n",
       "      <td>0 Chiasmal syndrome</td>\n",
       "    </tr>\n",
       "    <tr>\n",
       "      <th>1</th>\n",
       "      <td>1 Kleroterion</td>\n",
       "    </tr>\n",
       "    <tr>\n",
       "      <th>2</th>\n",
       "      <td>2 Pinakion</td>\n",
       "    </tr>\n",
       "  </tbody>\n",
       "</table>\n",
       "</div>"
      ],
      "text/plain": [
       "             node name\n",
       "0  0 Chiasmal syndrome\n",
       "1        1 Kleroterion\n",
       "2           2 Pinakion"
      ]
     },
     "execution_count": 7,
     "metadata": {},
     "output_type": "execute_result"
    }
   ],
   "source": [
    "df_names.head(3)"
   ]
  },
  {
   "cell_type": "code",
   "execution_count": 8,
   "metadata": {},
   "outputs": [],
   "source": [
    "df_names['node'] = [s.split()[0] for s in list(df_names['node name']) ]\n",
    "df_names['name'] = [' '.join(s.split()[1:]) for s in list(df_names['node name'])]\n",
    "df_names = df_names.drop('node name',axis = 1)"
   ]
  },
  {
   "cell_type": "markdown",
   "metadata": {},
   "source": [
    "### Categories"
   ]
  },
  {
   "cell_type": "markdown",
   "metadata": {},
   "source": [
    "In this subsection we load the dataset containing the categories of the nodes. We removed the prefix: *\\\"Category:\"* from each category name and grouped all the pages belonging to a certain category in a list."
   ]
  },
  {
   "cell_type": "code",
   "execution_count": 9,
   "metadata": {},
   "outputs": [
    {
     "data": {
      "text/html": [
       "<div>\n",
       "<style scoped>\n",
       "    .dataframe tbody tr th:only-of-type {\n",
       "        vertical-align: middle;\n",
       "    }\n",
       "\n",
       "    .dataframe tbody tr th {\n",
       "        vertical-align: top;\n",
       "    }\n",
       "\n",
       "    .dataframe thead th {\n",
       "        text-align: right;\n",
       "    }\n",
       "</style>\n",
       "<table border=\"1\" class=\"dataframe\">\n",
       "  <thead>\n",
       "    <tr style=\"text-align: right;\">\n",
       "      <th></th>\n",
       "      <th>cat_name</th>\n",
       "      <th>pages</th>\n",
       "      <th>lens</th>\n",
       "    </tr>\n",
       "  </thead>\n",
       "  <tbody>\n",
       "    <tr>\n",
       "      <th>868</th>\n",
       "      <td>English_footballers</td>\n",
       "      <td>[22860, 28411, 28961, 28979, 29264, 29573, 295...</td>\n",
       "      <td>9237</td>\n",
       "    </tr>\n",
       "    <tr>\n",
       "      <th>869</th>\n",
       "      <td>The_Football_League_players</td>\n",
       "      <td>[14003, 23536, 27109, 27348, 27459, 27989, 280...</td>\n",
       "      <td>9467</td>\n",
       "    </tr>\n",
       "    <tr>\n",
       "      <th>876</th>\n",
       "      <td>Association_football_forwards</td>\n",
       "      <td>[26876, 26877, 26879, 26887, 26892, 26904, 269...</td>\n",
       "      <td>6959</td>\n",
       "    </tr>\n",
       "    <tr>\n",
       "      <th>900</th>\n",
       "      <td>Association_football_midfielders</td>\n",
       "      <td>[14003, 15291, 23536, 26880, 26882, 26885, 268...</td>\n",
       "      <td>8270</td>\n",
       "    </tr>\n",
       "    <tr>\n",
       "      <th>949</th>\n",
       "      <td>Association_football_defenders</td>\n",
       "      <td>[15217, 22860, 26873, 26878, 26881, 26898, 269...</td>\n",
       "      <td>6668</td>\n",
       "    </tr>\n",
       "    <tr>\n",
       "      <th>2791</th>\n",
       "      <td>Harvard_University_alumni</td>\n",
       "      <td>[77, 1013, 1271, 1663, 1779, 1843, 2212, 3193,...</td>\n",
       "      <td>6154</td>\n",
       "    </tr>\n",
       "    <tr>\n",
       "      <th>4160</th>\n",
       "      <td>Major_League_Baseball_pitchers</td>\n",
       "      <td>[79, 24213, 33054, 37167, 53973, 63107, 69823,...</td>\n",
       "      <td>6580</td>\n",
       "    </tr>\n",
       "    <tr>\n",
       "      <th>5619</th>\n",
       "      <td>Members_of_the_United_Kingdom_Parliament_for_E...</td>\n",
       "      <td>[29098, 29493, 29585, 30255, 30389, 30505, 306...</td>\n",
       "      <td>6546</td>\n",
       "    </tr>\n",
       "    <tr>\n",
       "      <th>6067</th>\n",
       "      <td>Indian_films</td>\n",
       "      <td>[1308, 29286, 53565, 70274, 70275, 70797, 1233...</td>\n",
       "      <td>5913</td>\n",
       "    </tr>\n",
       "    <tr>\n",
       "      <th>6795</th>\n",
       "      <td>Year_of_death_missing</td>\n",
       "      <td>[98, 126, 227, 1823, 2170, 2223, 13215, 14003,...</td>\n",
       "      <td>7851</td>\n",
       "    </tr>\n",
       "    <tr>\n",
       "      <th>7889</th>\n",
       "      <td>Rivers_of_Romania</td>\n",
       "      <td>[72111, 72112, 72113, 72114, 72115, 72116, 721...</td>\n",
       "      <td>7729</td>\n",
       "    </tr>\n",
       "    <tr>\n",
       "      <th>8732</th>\n",
       "      <td>Main_Belt_asteroids</td>\n",
       "      <td>[13184, 13992, 22277, 23539, 29163, 33254, 334...</td>\n",
       "      <td>13704</td>\n",
       "    </tr>\n",
       "    <tr>\n",
       "      <th>8733</th>\n",
       "      <td>Asteroids_named_for_people</td>\n",
       "      <td>[13184, 13992, 23539, 33990, 33991, 37535, 375...</td>\n",
       "      <td>5701</td>\n",
       "    </tr>\n",
       "    <tr>\n",
       "      <th>10555</th>\n",
       "      <td>English-language_films</td>\n",
       "      <td>[55, 134, 153, 214, 1083, 1084, 1087, 1089, 11...</td>\n",
       "      <td>22699</td>\n",
       "    </tr>\n",
       "    <tr>\n",
       "      <th>10564</th>\n",
       "      <td>American_films</td>\n",
       "      <td>[134, 153, 173, 1083, 1087, 1089, 1131, 1152, ...</td>\n",
       "      <td>15302</td>\n",
       "    </tr>\n",
       "    <tr>\n",
       "      <th>11648</th>\n",
       "      <td>American_television_actors</td>\n",
       "      <td>[174, 938, 980, 1086, 1088, 1099, 1106, 1109, ...</td>\n",
       "      <td>11661</td>\n",
       "    </tr>\n",
       "    <tr>\n",
       "      <th>11649</th>\n",
       "      <td>American_film_actors</td>\n",
       "      <td>[174, 980, 1088, 1099, 1106, 1109, 1121, 1122,...</td>\n",
       "      <td>13938</td>\n",
       "    </tr>\n",
       "    <tr>\n",
       "      <th>11992</th>\n",
       "      <td>Debut_albums</td>\n",
       "      <td>[95, 108, 112, 113, 190, 254, 1413, 1451, 1452...</td>\n",
       "      <td>8401</td>\n",
       "    </tr>\n",
       "    <tr>\n",
       "      <th>12631</th>\n",
       "      <td>Black-and-white_films</td>\n",
       "      <td>[134, 16130, 19763, 26846, 31864, 35833, 38917...</td>\n",
       "      <td>12174</td>\n",
       "    </tr>\n",
       "    <tr>\n",
       "      <th>12941</th>\n",
       "      <td>Year_of_birth_missing</td>\n",
       "      <td>[147, 171, 1056, 1656, 13215, 14003, 15293, 22...</td>\n",
       "      <td>7237</td>\n",
       "    </tr>\n",
       "    <tr>\n",
       "      <th>12966</th>\n",
       "      <td>Place_of_birth_missing_(living_people)</td>\n",
       "      <td>[167, 1100, 1104, 1118, 1119, 1139, 1140, 1144...</td>\n",
       "      <td>6767</td>\n",
       "    </tr>\n",
       "  </tbody>\n",
       "</table>\n",
       "</div>"
      ],
      "text/plain": [
       "                                                cat_name  \\\n",
       "868                                  English_footballers   \n",
       "869                          The_Football_League_players   \n",
       "876                        Association_football_forwards   \n",
       "900                     Association_football_midfielders   \n",
       "949                       Association_football_defenders   \n",
       "2791                           Harvard_University_alumni   \n",
       "4160                      Major_League_Baseball_pitchers   \n",
       "5619   Members_of_the_United_Kingdom_Parliament_for_E...   \n",
       "6067                                        Indian_films   \n",
       "6795                               Year_of_death_missing   \n",
       "7889                                   Rivers_of_Romania   \n",
       "8732                                 Main_Belt_asteroids   \n",
       "8733                          Asteroids_named_for_people   \n",
       "10555                             English-language_films   \n",
       "10564                                     American_films   \n",
       "11648                         American_television_actors   \n",
       "11649                               American_film_actors   \n",
       "11992                                       Debut_albums   \n",
       "12631                              Black-and-white_films   \n",
       "12941                              Year_of_birth_missing   \n",
       "12966             Place_of_birth_missing_(living_people)   \n",
       "\n",
       "                                                   pages   lens  \n",
       "868    [22860, 28411, 28961, 28979, 29264, 29573, 295...   9237  \n",
       "869    [14003, 23536, 27109, 27348, 27459, 27989, 280...   9467  \n",
       "876    [26876, 26877, 26879, 26887, 26892, 26904, 269...   6959  \n",
       "900    [14003, 15291, 23536, 26880, 26882, 26885, 268...   8270  \n",
       "949    [15217, 22860, 26873, 26878, 26881, 26898, 269...   6668  \n",
       "2791   [77, 1013, 1271, 1663, 1779, 1843, 2212, 3193,...   6154  \n",
       "4160   [79, 24213, 33054, 37167, 53973, 63107, 69823,...   6580  \n",
       "5619   [29098, 29493, 29585, 30255, 30389, 30505, 306...   6546  \n",
       "6067   [1308, 29286, 53565, 70274, 70275, 70797, 1233...   5913  \n",
       "6795   [98, 126, 227, 1823, 2170, 2223, 13215, 14003,...   7851  \n",
       "7889   [72111, 72112, 72113, 72114, 72115, 72116, 721...   7729  \n",
       "8732   [13184, 13992, 22277, 23539, 29163, 33254, 334...  13704  \n",
       "8733   [13184, 13992, 23539, 33990, 33991, 37535, 375...   5701  \n",
       "10555  [55, 134, 153, 214, 1083, 1084, 1087, 1089, 11...  22699  \n",
       "10564  [134, 153, 173, 1083, 1087, 1089, 1131, 1152, ...  15302  \n",
       "11648  [174, 938, 980, 1086, 1088, 1099, 1106, 1109, ...  11661  \n",
       "11649  [174, 980, 1088, 1099, 1106, 1109, 1121, 1122,...  13938  \n",
       "11992  [95, 108, 112, 113, 190, 254, 1413, 1451, 1452...   8401  \n",
       "12631  [134, 16130, 19763, 26846, 31864, 35833, 38917...  12174  \n",
       "12941  [147, 171, 1056, 1656, 13215, 14003, 15293, 22...   7237  \n",
       "12966  [167, 1100, 1104, 1118, 1119, 1139, 1140, 1144...   6767  "
      ]
     },
     "execution_count": 9,
     "metadata": {},
     "output_type": "execute_result"
    }
   ],
   "source": [
    "names = ['cat_name','pages']\n",
    "df_cat = pd.read_csv('wiki-topcats-categories.txt.gz',sep = ';',names = names)\n",
    "\n",
    "df_cat['cat_name'] = df_cat.apply(lambda x: x['cat_name'][9:],axis = 1)\n",
    "\n",
    "df_cat['pages'] = df_cat.apply(lambda x: list(map(int,x['pages'].split())),axis = 1)\n",
    "\n",
    "df_cat['lens'] = df_cat.apply(lambda x : len(x['pages']),axis = 1)\n",
    "\n",
    "df_cat = df_cat.loc[(df_cat['lens']>5000) & (df_cat['lens']<30000)] #removing all the categories whose #pages are not in range (5000,30000)\n",
    "\n",
    "df_cat"
   ]
  },
  {
   "cell_type": "code",
   "execution_count": 10,
   "metadata": {},
   "outputs": [
    {
     "data": {
      "text/plain": [
       "True"
      ]
     },
     "execution_count": 10,
     "metadata": {},
     "output_type": "execute_result"
    }
   ],
   "source": [
    "#set of all nodes in df_cat \n",
    "nodes_reduced_df_cat = set(df_cat['pages'].sum())\n",
    "\n",
    "#check if all the nodes in the original database are a subset of the reduced category one\n",
    "nodes.issubset(nodes_reduced_df_cat)\n"
   ]
  },
  {
   "cell_type": "code",
   "execution_count": 11,
   "metadata": {},
   "outputs": [],
   "source": [
    "#in order to remove the pages belonging to multiple categories, we made an inverted index key: Page, values: Categories in which the pages appears.\n",
    "#than I randomly sampled the values in uniform way and built the dataframe again\n",
    "\n",
    "categories = list(df_cat['cat_name'])\n",
    "pages_for_cat =list(df_cat['pages'])\n",
    "\n",
    "\n",
    "d_page_cat = defaultdict(list)\n",
    "for i,cat in enumerate(categories):\n",
    "    for pag in pages_for_cat[i]:\n",
    "        d_page_cat[pag].append(cat)\n",
    "    \n",
    "\n"
   ]
  },
  {
   "cell_type": "markdown",
   "metadata": {},
   "source": [
    "In order to remove the pages belonging to multiple categories we first created an inverted index with <code>key:Page</code>, <code>value:Categories in which the page appears</code>.\n",
    "\n",
    "Then, for each page we randomly sampled among the values in uniform way to only consider one category. Then we built the dataframe again. "
   ]
  },
  {
   "cell_type": "code",
   "execution_count": 12,
   "metadata": {},
   "outputs": [
    {
     "data": {
      "text/html": [
       "<div>\n",
       "<style scoped>\n",
       "    .dataframe tbody tr th:only-of-type {\n",
       "        vertical-align: middle;\n",
       "    }\n",
       "\n",
       "    .dataframe tbody tr th {\n",
       "        vertical-align: top;\n",
       "    }\n",
       "\n",
       "    .dataframe thead th {\n",
       "        text-align: right;\n",
       "    }\n",
       "</style>\n",
       "<table border=\"1\" class=\"dataframe\">\n",
       "  <thead>\n",
       "    <tr style=\"text-align: right;\">\n",
       "      <th></th>\n",
       "      <th>cat_name</th>\n",
       "      <th>pages</th>\n",
       "    </tr>\n",
       "  </thead>\n",
       "  <tbody>\n",
       "    <tr>\n",
       "      <th>0</th>\n",
       "      <td>English_footballers</td>\n",
<<<<<<< HEAD
       "      <td>[28961, 48718, 48730, 72482, 72496, 72532, 725...</td>\n",
       "    </tr>\n",
       "    <tr>\n",
       "      <th>1</th>\n",
       "      <td>Association_football_forwards</td>\n",
       "      <td>[33973, 72536, 72579, 72580, 72708, 72802, 729...</td>\n",
=======
       "      <td>[28961, 48718, 72482, 72496, 72545, 72546, 725...</td>\n",
       "    </tr>\n",
       "    <tr>\n",
       "      <th>1</th>\n",
       "      <td>The_Football_League_players</td>\n",
       "      <td>[33973, 48730, 72528, 72532, 72536, 72569, 725...</td>\n",
>>>>>>> 9ebfbb9c48970e453c3f7c8e194d98c7610b79d9
       "    </tr>\n",
       "    <tr>\n",
       "      <th>2</th>\n",
       "      <td>Association_football_defenders</td>\n",
<<<<<<< HEAD
       "      <td>[48583, 72747, 73070, 73148, 73163, 73293, 746...</td>\n",
=======
       "      <td>[48583, 72797, 72798, 72820, 72943, 74988, 751...</td>\n",
>>>>>>> 9ebfbb9c48970e453c3f7c8e194d98c7610b79d9
       "    </tr>\n",
       "    <tr>\n",
       "      <th>3</th>\n",
       "      <td>Association_football_midfielders</td>\n",
<<<<<<< HEAD
       "      <td>[72488, 72539, 72567, 72862, 73132, 74371, 745...</td>\n",
       "    </tr>\n",
       "    <tr>\n",
       "      <th>4</th>\n",
       "      <td>Year_of_death_missing</td>\n",
       "      <td>[72528, 72589, 72620, 72769, 72826, 72861, 730...</td>\n",
       "    </tr>\n",
       "    <tr>\n",
       "      <th>5</th>\n",
       "      <td>The_Football_League_players</td>\n",
       "      <td>[72545, 72546, 72555, 72563, 72591, 72605, 726...</td>\n",
       "    </tr>\n",
       "    <tr>\n",
       "      <th>6</th>\n",
       "      <td>Year_of_birth_missing</td>\n",
       "      <td>[73047, 75306, 75984, 77300, 92666, 343389, 11...</td>\n",
=======
       "      <td>[72488, 72539, 72567, 73132, 74371, 74507, 751...</td>\n",
       "    </tr>\n",
       "    <tr>\n",
       "      <th>4</th>\n",
       "      <td>Year_of_birth_missing</td>\n",
       "      <td>[72580, 72829, 74377, 76428, 92872, 93575, 936...</td>\n",
       "    </tr>\n",
       "    <tr>\n",
       "      <th>5</th>\n",
       "      <td>Year_of_death_missing</td>\n",
       "      <td>[72620, 72769, 72826, 72852, 72861, 73047, 731...</td>\n",
       "    </tr>\n",
       "    <tr>\n",
       "      <th>6</th>\n",
       "      <td>Association_football_forwards</td>\n",
       "      <td>[72708, 72802, 72914, 72945, 75360, 75370, 754...</td>\n",
>>>>>>> 9ebfbb9c48970e453c3f7c8e194d98c7610b79d9
       "    </tr>\n",
       "    <tr>\n",
       "      <th>7</th>\n",
       "      <td>Place_of_birth_missing_(living_people)</td>\n",
<<<<<<< HEAD
       "      <td>[79909, 84217, 459888, 75195, 460811, 737978, ...</td>\n",
=======
       "      <td>[84470, 93493, 75195, 83446, 86747, 1004070, 1...</td>\n",
>>>>>>> 9ebfbb9c48970e453c3f7c8e194d98c7610b79d9
       "    </tr>\n",
       "    <tr>\n",
       "      <th>8</th>\n",
       "      <td>Members_of_the_United_Kingdom_Parliament_for_E...</td>\n",
<<<<<<< HEAD
       "      <td>[535217, 536702, 543951, 670907, 536438, 53953...</td>\n",
=======
       "      <td>[535217, 536702, 543951, 670907, 536701, 53856...</td>\n",
>>>>>>> 9ebfbb9c48970e453c3f7c8e194d98c7610b79d9
       "    </tr>\n",
       "    <tr>\n",
       "      <th>9</th>\n",
       "      <td>Harvard_University_alumni</td>\n",
       "      <td>[1663, 1843, 3260, 3431, 11386, 11858, 12295, ...</td>\n",
       "    </tr>\n",
       "    <tr>\n",
       "      <th>10</th>\n",
       "      <td>American_television_actors</td>\n",
<<<<<<< HEAD
       "      <td>[154133, 400707, 602072, 633296, 634062, 74412...</td>\n",
=======
       "      <td>[143566, 327406, 343966, 419812, 469376, 63355...</td>\n",
>>>>>>> 9ebfbb9c48970e453c3f7c8e194d98c7610b79d9
       "    </tr>\n",
       "    <tr>\n",
       "      <th>11</th>\n",
       "      <td>American_film_actors</td>\n",
       "      <td>[244627, 301418, 351585, 423184, 1015493, 1054...</td>\n",
       "    </tr>\n",
       "    <tr>\n",
       "      <th>12</th>\n",
       "      <td>Major_League_Baseball_pitchers</td>\n",
       "      <td>[71163, 112694, 115217, 122453, 142660, 143175...</td>\n",
       "    </tr>\n",
       "    <tr>\n",
       "      <th>13</th>\n",
       "      <td>Indian_films</td>\n",
       "      <td>[53565, 70274, 70275, 136154, 136155, 136157, ...</td>\n",
       "    </tr>\n",
       "    <tr>\n",
       "      <th>14</th>\n",
       "      <td>English-language_films</td>\n",
       "      <td>[581089, 582475, 586565, 586567, 590294, 59035...</td>\n",
       "    </tr>\n",
       "    <tr>\n",
       "      <th>15</th>\n",
       "      <td>Black-and-white_films</td>\n",
<<<<<<< HEAD
       "      <td>[586698, 586715, 588536, 588609, 589188, 58923...</td>\n",
=======
       "      <td>[587697, 588219, 589066, 589097, 589113, 58916...</td>\n",
>>>>>>> 9ebfbb9c48970e453c3f7c8e194d98c7610b79d9
       "    </tr>\n",
       "    <tr>\n",
       "      <th>16</th>\n",
       "      <td>American_films</td>\n",
       "      <td>[590472, 134, 153, 1087, 1152, 1178, 2232, 187...</td>\n",
       "    </tr>\n",
       "    <tr>\n",
       "      <th>17</th>\n",
       "      <td>Rivers_of_Romania</td>\n",
       "      <td>[72111, 72112, 72113, 72114, 72115, 72116, 721...</td>\n",
       "    </tr>\n",
       "    <tr>\n",
       "      <th>18</th>\n",
       "      <td>Main_Belt_asteroids</td>\n",
       "      <td>[13184, 13992, 22277, 33254, 33401, 35939, 390...</td>\n",
       "    </tr>\n",
       "    <tr>\n",
       "      <th>19</th>\n",
       "      <td>Asteroids_named_for_people</td>\n",
       "      <td>[23539, 33991, 39039, 96567, 96568, 96570, 965...</td>\n",
       "    </tr>\n",
       "    <tr>\n",
       "      <th>20</th>\n",
       "      <td>Debut_albums</td>\n",
       "      <td>[95, 108, 31695, 31722, 31725, 31726, 31728, 4...</td>\n",
       "    </tr>\n",
       "  </tbody>\n",
       "</table>\n",
       "</div>"
      ],
      "text/plain": [
       "                                             cat_name  \\\n",
       "0                                 English_footballers   \n",
<<<<<<< HEAD
       "1                       Association_football_forwards   \n",
       "2                      Association_football_defenders   \n",
       "3                    Association_football_midfielders   \n",
       "4                               Year_of_death_missing   \n",
       "5                         The_Football_League_players   \n",
       "6                               Year_of_birth_missing   \n",
=======
       "1                         The_Football_League_players   \n",
       "2                      Association_football_defenders   \n",
       "3                    Association_football_midfielders   \n",
       "4                               Year_of_birth_missing   \n",
       "5                               Year_of_death_missing   \n",
       "6                       Association_football_forwards   \n",
>>>>>>> 9ebfbb9c48970e453c3f7c8e194d98c7610b79d9
       "7              Place_of_birth_missing_(living_people)   \n",
       "8   Members_of_the_United_Kingdom_Parliament_for_E...   \n",
       "9                           Harvard_University_alumni   \n",
       "10                         American_television_actors   \n",
       "11                               American_film_actors   \n",
       "12                     Major_League_Baseball_pitchers   \n",
       "13                                       Indian_films   \n",
       "14                             English-language_films   \n",
       "15                              Black-and-white_films   \n",
       "16                                     American_films   \n",
       "17                                  Rivers_of_Romania   \n",
       "18                                Main_Belt_asteroids   \n",
       "19                         Asteroids_named_for_people   \n",
       "20                                       Debut_albums   \n",
       "\n",
       "                                                pages  \n",
<<<<<<< HEAD
       "0   [28961, 48718, 48730, 72482, 72496, 72532, 725...  \n",
       "1   [33973, 72536, 72579, 72580, 72708, 72802, 729...  \n",
       "2   [48583, 72747, 73070, 73148, 73163, 73293, 746...  \n",
       "3   [72488, 72539, 72567, 72862, 73132, 74371, 745...  \n",
       "4   [72528, 72589, 72620, 72769, 72826, 72861, 730...  \n",
       "5   [72545, 72546, 72555, 72563, 72591, 72605, 726...  \n",
       "6   [73047, 75306, 75984, 77300, 92666, 343389, 11...  \n",
       "7   [79909, 84217, 459888, 75195, 460811, 737978, ...  \n",
       "8   [535217, 536702, 543951, 670907, 536438, 53953...  \n",
       "9   [1663, 1843, 3260, 3431, 11386, 11858, 12295, ...  \n",
       "10  [154133, 400707, 602072, 633296, 634062, 74412...  \n",
       "11  [244627, 301418, 351585, 423184, 1015493, 1054...  \n",
       "12  [71163, 112694, 115217, 122453, 142660, 143175...  \n",
       "13  [53565, 70274, 70275, 136154, 136155, 136157, ...  \n",
       "14  [581089, 582475, 586565, 586567, 590294, 59035...  \n",
       "15  [586698, 586715, 588536, 588609, 589188, 58923...  \n",
=======
       "0   [28961, 48718, 72482, 72496, 72545, 72546, 725...  \n",
       "1   [33973, 48730, 72528, 72532, 72536, 72569, 725...  \n",
       "2   [48583, 72797, 72798, 72820, 72943, 74988, 751...  \n",
       "3   [72488, 72539, 72567, 73132, 74371, 74507, 751...  \n",
       "4   [72580, 72829, 74377, 76428, 92872, 93575, 936...  \n",
       "5   [72620, 72769, 72826, 72852, 72861, 73047, 731...  \n",
       "6   [72708, 72802, 72914, 72945, 75360, 75370, 754...  \n",
       "7   [84470, 93493, 75195, 83446, 86747, 1004070, 1...  \n",
       "8   [535217, 536702, 543951, 670907, 536701, 53856...  \n",
       "9   [1663, 1843, 3260, 3431, 11386, 11858, 12295, ...  \n",
       "10  [143566, 327406, 343966, 419812, 469376, 63355...  \n",
       "11  [244627, 301418, 351585, 423184, 1015493, 1054...  \n",
       "12  [71163, 112694, 115217, 122453, 142660, 143175...  \n",
       "13  [53565, 70274, 70275, 136154, 136157, 192021, ...  \n",
       "14  [136155, 581028, 581149, 581584, 581926, 58206...  \n",
       "15  [587697, 588219, 589066, 589097, 589113, 58916...  \n",
>>>>>>> 9ebfbb9c48970e453c3f7c8e194d98c7610b79d9
       "16  [590472, 134, 153, 1087, 1152, 1178, 2232, 187...  \n",
       "17  [72111, 72112, 72113, 72114, 72115, 72116, 721...  \n",
       "18  [13184, 13992, 22277, 33254, 33401, 35939, 390...  \n",
       "19  [23539, 33991, 39039, 96567, 96568, 96570, 965...  \n",
       "20  [95, 108, 31695, 31722, 31725, 31726, 31728, 4...  "
      ]
     },
     "execution_count": 12,
     "metadata": {},
     "output_type": "execute_result"
    }
   ],
   "source": [
    "random.seed(1234)\n",
    "\n",
    "categories = list(df_cat['cat_name'])\n",
    "pages_for_cat =list(df_cat['pages'])\n",
    "\n",
    "\n",
    "d_page_cat = defaultdict(list)\n",
    "for i,cat in enumerate(categories):\n",
    "    for pag in pages_for_cat[i]:\n",
    "        d_page_cat[pag].append(cat)\n",
    "    \n",
    "d_random_cat_page = defaultdict(list)\n",
    "\n",
    "for page in d_page_cat.keys():\n",
    "    if page in nodes:\n",
    "        cat_of_page = random.sample(set(d_page_cat[page]),1)\n",
    "        d_random_cat_page[cat_of_page[0]].append(page)\n",
    "\n",
    "#some categories have been removed, since there are no pages belonging to them or all their\n",
    "#pages were sampled into other categories\n",
    "\n",
    "new_df_cat = pd.DataFrame()\n",
    "new_df_cat['cat_name'] = d_random_cat_page.keys()\n",
    "new_df_cat['pages'] = list(d_random_cat_page.values())\n",
    "new_df_cat"
   ]
  },
  {
   "cell_type": "markdown",
   "metadata": {},
   "source": [
    "Finally, we built an inverted dictionary with <code>key: node_i</code>,<code>value: category of node_i</code>."
   ]
  },
  {
   "cell_type": "code",
   "execution_count": 13,
   "metadata": {},
   "outputs": [],
   "source": [
    "inverted_dictionary={}\n",
    "for i,row in new_df_cat.iterrows():\n",
    "    for node in row[\"pages\"]:\n",
    "        inverted_dictionary[node]=row[\"cat_name\"]\n",
    "        "
   ]
  },
  {
   "cell_type": "markdown",
   "metadata": {},
   "source": [
    "# Create Graph"
   ]
  },
  {
   "cell_type": "markdown",
   "metadata": {},
   "source": [
    "# RQ1\n",
    "Build the graph $G=(V, E)$, where $V$ is the set of articles and E the hyperlinks among them. Then, provide its basic information:\n",
    "\n",
    "Is the graph directed?\n",
    "How many articles are we considering?\n",
    "How many hyperlinks between pages exist?\n",
    "Compute the average number of links in an arbitrary page. What is the graph density? Do you believe that the graph is dense or sparse? Is the graph dense?\n",
    "Visualize the nodes' degree distribution"
   ]
  },
  {
   "cell_type": "markdown",
   "metadata": {},
   "source": [
    "Build the graph $G=(V, E)$, where $V$ is the set of articles and $E$ the hyperlinks among them."
   ]
  },
  {
   "cell_type": "code",
   "execution_count": 14,
   "metadata": {},
   "outputs": [],
   "source": [
    "G=nx.convert_matrix.from_pandas_edgelist(df_edges, 'source', 'target', ['edge_ID'],create_using=nx.DiGraph())\n"
   ]
  },
  {
   "cell_type": "markdown",
   "metadata": {},
   "source": [
    "### 1. Is the graph directed?\n",
    "\n",
    "Due the structure of the \"headers\" in the dataset (source-target) we must assume that the graph is directed. Indeed the object we are trying to model is the hyperlink network of the wikipedia pages and every link is one-sided."
   ]
  },
  {
   "cell_type": "code",
   "execution_count": 15,
   "metadata": {},
   "outputs": [
    {
     "data": {
      "text/plain": [
       "True"
      ]
     },
     "execution_count": 15,
     "metadata": {},
     "output_type": "execute_result"
    }
   ],
   "source": [
    "#With this function we can double-check if the function we used effectively created a directed graph.\n",
    "G.is_directed()"
   ]
  },
  {
   "cell_type": "markdown",
   "metadata": {},
   "source": [
    "### How many articles are we considering?"
   ]
  },
  {
   "cell_type": "markdown",
   "metadata": {},
   "source": [
    "In our network $G$ the articles are represented by the nodes. Therefore the amount of articles we're considering corresponds to the cardinality of the set of nodes in $G$."
   ]
  },
  {
   "cell_type": "code",
   "execution_count": 16,
   "metadata": {},
   "outputs": [
    {
     "data": {
      "text/plain": [
       "98343"
      ]
     },
     "execution_count": 16,
     "metadata": {},
     "output_type": "execute_result"
    }
   ],
   "source": [
    "len(G.nodes)"
   ]
  },
  {
   "cell_type": "markdown",
   "metadata": {},
   "source": [
    "### How many Hyperlinks ?"
   ]
  },
  {
   "cell_type": "markdown",
   "metadata": {},
   "source": [
    "In $G$ the hyperlinks are represented by the edges. Therefore the amount of Hyperlinks corresponds to the cardinality of the set of edges."
   ]
  },
  {
   "cell_type": "code",
   "execution_count": 17,
   "metadata": {},
   "outputs": [
    {
     "data": {
      "text/plain": [
       "483094"
      ]
     },
     "execution_count": 17,
     "metadata": {},
     "output_type": "execute_result"
    }
   ],
   "source": [
    "len(G.edges)"
   ]
  },
  {
   "cell_type": "markdown",
   "metadata": {},
   "source": [
    "It is clear that the graph is really far from being a dense graph: a densely connected graph with 98343 nodes would have 9671247306 edges while this one only has 483094."
   ]
  },
  {
   "cell_type": "code",
   "execution_count": 18,
   "metadata": {},
   "outputs": [],
   "source": [
    "graph_density=len(G.edges)/(len(G.nodes)*(len(G.nodes)-1))"
   ]
  },
  {
   "cell_type": "code",
   "execution_count": 19,
   "metadata": {},
   "outputs": [
    {
     "data": {
      "text/plain": [
       "4.9951571365597335e-05"
      ]
     },
     "execution_count": 19,
     "metadata": {},
     "output_type": "execute_result"
    }
   ],
   "source": [
    "graph_density"
   ]
  },
  {
   "cell_type": "markdown",
   "metadata": {},
   "source": [
    "### Average Degree"
   ]
  },
  {
   "cell_type": "markdown",
   "metadata": {},
   "source": [
    "We now calculate the average degree of the nodes. Since our graph is directed, we can interpret the question as both asking for the indegree or the outdegree of every node. "
   ]
  },
  {
   "cell_type": "code",
   "execution_count": 20,
   "metadata": {},
   "outputs": [
    {
     "name": "stdout",
     "output_type": "stream",
     "text": [
      "Mean of indegree: 4.912337431235573\n"
     ]
    }
   ],
   "source": [
    "dict_in_degree = dict(G.in_degree())\n",
    "list_degree_in = list(dict_in_degree.values())\n",
    "avg_degree_in = np.mean(np.array(list_degree_in))\n",
    "med_degree_in = np.median(np.array(list_degree_in))\n",
    "print(\"Mean of indegree:\", avg_degree_in)\n",
    "\n"
   ]
  },
  {
   "cell_type": "code",
   "execution_count": 21,
   "metadata": {},
   "outputs": [
    {
     "name": "stdout",
     "output_type": "stream",
     "text": [
      "Mean of outdegree: 4.912337431235573\n"
     ]
    }
   ],
   "source": [
    "dict_out_degree = dict(G.out_degree())\n",
    "list_degree_out = list(dict_out_degree.values())\n",
    "avg_degree_out = np.mean(np.array(list_degree_out))\n",
    "med_degree_out = np.median(np.array(list_degree_out))\n",
    "print(\"Mean of outdegree:\", avg_degree_out)\n",
    "\n"
   ]
  },
  {
   "cell_type": "markdown",
   "metadata": {},
   "source": [
    "The fact that these numbers are the same is not surprising: every edge has a target and a source. Since the sum over the nodes of their indegree is equal to the number of edges of the graph and the same as well as for the sum of the outdegree. Hence the average indegree and outdegree have the same value equal to the ratio between the cardinality of the edges and the nodes that we computed above."
   ]
  },
  {
   "cell_type": "code",
   "execution_count": 22,
   "metadata": {},
   "outputs": [
    {
     "data": {
      "text/plain": [
       "4.912337431235573"
      ]
     },
     "execution_count": 22,
     "metadata": {},
     "output_type": "execute_result"
    }
   ],
   "source": [
    "len(G.edges)/len(G.nodes)"
   ]
  },
  {
   "cell_type": "markdown",
   "metadata": {},
   "source": [
    "It is important to remark that the distribution of the indegrees and outdegrees are usually different.\n",
    "\n",
    "As we can notice, the degree distribution is the typical one of *Scale Free Networks* in which we have few high-degree nodes and a lot of low-degee ones.\n",
    "Usually this phenomenun is a consequence of the \"preferential attachment\" property, for which new nodes added to the network are more likely to point to nodes that already have a lot of links."
   ]
  },
  {
   "cell_type": "code",
<<<<<<< HEAD
   "execution_count": 23,
=======
   "execution_count": 51,
>>>>>>> 9ebfbb9c48970e453c3f7c8e194d98c7610b79d9
   "metadata": {},
   "outputs": [
    {
     "data": {
      "text/plain": [
<<<<<<< HEAD
       "Text(10650, 4, 'Asteroid belt')"
=======
       "Text(10650, 4e-05, 'List of United States \\n comedy films')"
      ]
     },
     "execution_count": 51,
     "metadata": {},
     "output_type": "execute_result"
    },
    {
     "data": {
      "image/png": "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\n",
      "text/plain": [
       "<Figure size 1440x720 with 1 Axes>"
>>>>>>> 9ebfbb9c48970e453c3f7c8e194d98c7610b79d9
      ]
     },
     "execution_count": 23,
     "metadata": {},
     "output_type": "execute_result"
    },
    {
     "data": {
      "image/png": "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\n",
      "text/plain": [
       "<Figure size 1440x720 with 1 Axes>"
      ]
     },
     "metadata": {
      "needs_background": "light"
     },
     "output_type": "display_data"
    }
   ],
   "source": [
    "plt.figure(figsize=(20,10))\n",
    "\n",
    "g = sns.histplot(list_degree_in,bins = 100,stat = 'probability',color = '#96ded1')\n",
    "\n",
    "g.set_yscale('log')\n",
    "g.set_yscale('log')\n",
    "g.set_xlabel('Degree')\n",
    "g.set_ylabel('Frequency')\n",
    "g.set_title('In-degree distribution')\n",
    "\n",
    "g.annotate('List of United States \\n comedy films', xy=(10750.28, 0.00001), xytext=(10650, 0.00004),\n",
    "            arrowprops=dict(facecolor='black'))\n"
   ]
  },
  {
   "cell_type": "code",
<<<<<<< HEAD
   "execution_count": 24,
=======
   "execution_count": 50,
>>>>>>> 9ebfbb9c48970e453c3f7c8e194d98c7610b79d9
   "metadata": {},
   "outputs": [
    {
     "data": {
<<<<<<< HEAD
      "image/png": "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\n",
=======
      "text/plain": [
       "Text(10650, 4e-05, 'Asteroid belt')"
      ]
     },
     "execution_count": 50,
     "metadata": {},
     "output_type": "execute_result"
    },
    {
     "data": {
      "image/png": "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\n",
>>>>>>> 9ebfbb9c48970e453c3f7c8e194d98c7610b79d9
      "text/plain": [
       "<Figure size 1440x720 with 1 Axes>"
      ]
     },
     "metadata": {
      "needs_background": "light"
     },
     "output_type": "display_data"
    }
   ],
   "source": [
    "plt.figure(figsize=(20,10))\n",
    "\n",
    "g = sns.histplot(list_degree_in,bins = 100,stat = 'probability',color = '#a12655')\n",
    "\n",
    "g.set_yscale('log')\n",
    "g.set_yscale('log')\n",
    "g.set_xlabel('Degree')\n",
    "g.set_ylabel('Frequency')\n",
    "g.set_yscale('log')\n",
    "g.set_title('Out-degree distribution')\n",
    "\n",
    "\n",
    "g.annotate('Asteroid belt', xy=(10750.28, 0.00001), xytext=(10650, 0.00004),\n",
    "            arrowprops=dict(facecolor='black'))\n"
   ]
  },
  {
   "cell_type": "markdown",
   "metadata": {},
   "source": [
    "We found a Node whom out-degree is several order of magnitude higher than the others, and one node that has the same property for the in-degree. We discovered that those are two different nodes, associated to the pages <code>Asteroid belt</code> and <code>List of United States comedy films</code> respectively for the in-degree and the out-degree."
   ]
  },
  {
   "cell_type": "code",
   "execution_count": 39,
   "metadata": {},
   "outputs": [
    {
     "data": {
      "text/plain": [
       "1"
      ]
     },
     "execution_count": 39,
     "metadata": {},
     "output_type": "execute_result"
    }
   ],
   "source": [
    "max(Counter(list_degree_out).items(),key = lambda x: x[0])[1]"
   ]
  },
  {
   "cell_type": "code",
<<<<<<< HEAD
   "execution_count": 25,
=======
   "execution_count": 46,
>>>>>>> 9ebfbb9c48970e453c3f7c8e194d98c7610b79d9
   "metadata": {},
   "outputs": [
    {
     "data": {
      "text/html": [
       "<div>\n",
       "<style scoped>\n",
       "    .dataframe tbody tr th:only-of-type {\n",
       "        vertical-align: middle;\n",
       "    }\n",
       "\n",
       "    .dataframe tbody tr th {\n",
       "        vertical-align: top;\n",
       "    }\n",
       "\n",
       "    .dataframe thead th {\n",
       "        text-align: right;\n",
       "    }\n",
       "</style>\n",
       "<table border=\"1\" class=\"dataframe\">\n",
       "  <thead>\n",
       "    <tr style=\"text-align: right;\">\n",
       "      <th></th>\n",
       "      <th>node</th>\n",
       "      <th>name</th>\n",
       "    </tr>\n",
       "  </thead>\n",
       "  <tbody>\n",
       "    <tr>\n",
       "      <th>870589</th>\n",
       "      <td>870589</td>\n",
       "      <td>Asteroid belt</td>\n",
       "    </tr>\n",
       "  </tbody>\n",
       "</table>\n",
       "</div>"
      ],
      "text/plain": [
       "          node           name\n",
       "870589  870589  Asteroid belt"
      ]
     },
<<<<<<< HEAD
     "execution_count": 25,
=======
     "execution_count": 46,
>>>>>>> 9ebfbb9c48970e453c3f7c8e194d98c7610b79d9
     "metadata": {},
     "output_type": "execute_result"
    }
   ],
   "source": [
    "hub_in = max(dict_in_degree.items(),key = lambda x: x[1])[0]\n",
    "df_names.loc[df_names['node']== str(hub_in)]"
   ]
  },
  {
   "cell_type": "code",
<<<<<<< HEAD
   "execution_count": 26,
=======
   "execution_count": 47,
>>>>>>> 9ebfbb9c48970e453c3f7c8e194d98c7610b79d9
   "metadata": {},
   "outputs": [
    {
     "data": {
<<<<<<< HEAD
      "image/png": "iVBORw0KGgoAAAANSUhEUgAABIQAAAHSCAYAAACdPRB7AAAAOXRFWHRTb2Z0d2FyZQBNYXRwbG90bGliIHZlcnNpb24zLjMuMiwgaHR0cHM6Ly9tYXRwbG90bGliLm9yZy8vihELAAAACXBIWXMAAAsTAAALEwEAmpwYAAAcNUlEQVR4nO3dfYyl53nX8d+FF6dtop4ATnnxC+uyVugSgVpGTmglFNFC19pMXFW8eNVCWiyPUtWlIBDdUETFf4tAQKO6rYbGuIjIlmUC9dRb3CgQuUhpsJNSYtcYVq5bTx1qB8OhFIRxc/HHnKbDsmufmXNmn7Xvz0eKsuee83IlvuVdf33u56nuDgAAAADj+G1TDwAAAADAlSUIAQAAAAxGEAIAAAAYjCAEAAAAMBhBCAAAAGAwghAAAADAYI5NPUCSXHfddX38+PGpxwAAAAB40/jMZz7zhe5+x6V+dlUEoePHj+eJJ56YegwAAACAN42q+qXL/cyRMQAAAIDBCEIAAAAAgxGEAAAAAAYjCAEAAAAMRhACAAAAGIwgBAAAADAYQQgAAABgMIIQAAAAwGAEIQAAAIDBCEIAAAAAg1l7EKqq91bVz1TVj1bVe9f9/gAAAACsZqkgVFX3VtWLVfXkReunquqZqrpQVWcXy53kfyT5siS76x0XAAAAgFUt+w2h+5Kc2r9QVdckuSfJbUlOJjlTVSeT/Ex335bk+5L87fWNCgAAAMA6LBWEuvuxJC9ftHxrkgvd/Wx3v5LkgSS3d/cXFz//r0nesrZJAQAAAFiLYyu89vokz+97vJvk3VX1rUm+Ocnbk/zQ5V5cVVtJtpLkpptuWmEMAAAAAA5ilSBUl1jr7v5Yko+93ou7ezvJdpJsbGz0CnMAAAAAcACr3GVsN8mN+x7fkOSF1cYBAAAA4KitEoQeT3JLVd1cVdcmuSPJw+sZCwAAAICjstSRsaq6P8l7k1xXVbtJfqC7P1JVdyd5NMk1Se7t7qcO8uFVtZlk88SJEweb+ip2/OwjSz3vuXOnj3gSAAAAgEtbKgh195nLrJ9Pcv6wH97dO0l2NjY27jrsewAAAABwMKscGQMAAADgDUgQAgAAABjMpEGoqjarans+n085BgAAAMBQJg1C3b3T3Vuz2WzKMQAAAACG4sgYAAAAwGAEIQAAAIDBCEIAAAAAg3FRaQAAAIDBuKg0AAAAwGAcGQMAAAAYjCAEAAAAMBhBCAAAAGAwLioNAAAAMBgXlQYAAAAYjCNjAAAAAIMRhAAAAAAGIwgBAAAADEYQAgAAABiMu4wBAAAADMZdxgAAAAAG48gYAAAAwGAEIQAAAIDBCEIAAAAAgxGEAAAAAAYjCAEAAAAMRhACAAAAGMykQaiqNqtqez6fTzkGAAAAwFAmDULdvdPdW7PZbMoxAAAAAIbiyBgAAADAYAQhAAAAgMEIQgAAAACDEYQAAAAABiMIAQAAAAxGEAIAAAAYjCAEAAAAMBhBCAAAAGAwkwahqtqsqu35fD7lGAAAAABDmTQIdfdOd2/NZrMpxwAAAAAYiiNjAAAAAIMRhAAAAAAGIwgBAAAADEYQAgAAABiMIAQAAAAwGEEIAAAAYDCCEAAAAMBgBCEAAACAwQhCAAAAAIMRhAAAAAAGIwgBAAAADEYQAgAAABjMpEGoqjarans+n085BgAAAMBQJg1C3b3T3Vuz2WzKMQAAAACG4sgYAAAAwGAEIQAAAIDBCEIAAAAAgxGEAAAAAAYjCAEAAAAMRhACAAAAGIwgBAAAADAYQQgAAABgMIIQAAAAwGAEIQAAAIDBCEIAAAAAgxGEAAAAAAYjCAEAAAAMRhACAAAAGIwgBAAAADAYQQgAAABgMIIQAAAAwGAEIQAAAIDBHEkQqqq3VtVnqup9R/H+AAAAABzeUkGoqu6tqher6smL1k9V1TNVdaGqzu770fcleXCdgwIAAACwHst+Q+i+JKf2L1TVNUnuSXJbkpNJzlTVyar6piS/kORX1zgnAAAAAGtybJkndfdjVXX8ouVbk1zo7meTpKoeSHJ7krcleWv2ItH/qqrz3f3F9Y0MAAAAwCqWCkKXcX2S5/c93k3y7u6+O0mq6juSfOFyMaiqtpJsJclNN920whgAAAAAHMQqF5WuS6z1l37RfV93/+TlXtzd29290d0b73jHO1YYAwAAAICDWCUI7Sa5cd/jG5K8sNo4AAAAABy1VYLQ40luqaqbq+raJHckeXg9YwEAAABwVJa97fz9ST6V5J1VtVtVd3b3q0nuTvJokqeTPNjdTx3kw6tqs6q25/P5QecGAAAA4JCWvcvYmcusn09y/rAf3t07SXY2NjbuOux7AAAAAHAwqxwZAwAAAOANSBACAAAAGMykQcg1hAAAAACuvEmDUHfvdPfWbDabcgwAAACAoTgyBgAAADAYQQgAAABgMK4hBAAAADAY1xACAAAAGIwjYwAAAACDEYQAAAAABiMIAQAAAAxGEAIAAAAYjLuMAQAAAAzGXcYAAAAABnNs6gFGdfzsI0s977lzp494EgAAAGA0riEEAAAAMBhBCAAAAGAwghAAAADAYNxlDAAAAGAw7jIGAAAAMBhHxgAAAAAGIwgBAAAADEYQAgAAABiMIAQAAAAwGEEIAAAAYDCCEAAAAMBgJg1CVbVZVdvz+XzKMQAAAACGMmkQ6u6d7t6azWZTjgEAAAAwFEfGAAAAAAYjCAEAAAAMRhACAAAAGIwgBAAAADAYQQgAAABgMIIQAAAAwGAEIQAAAIDBCEIAAAAAg5k0CFXVZlVtz+fzKccAAAAAGMqkQai7d7p7azabTTkGAAAAwFAcGQMAAAAYjCAEAAAAMBhBCAAAAGAwghAAAADAYAQhAAAAgMEIQgAAAACDEYQAAAAABiMIAQAAAAxGEAIAAAAYjCAEAAAAMBhBCAAAAGAwghAAAADAYCYNQlW1WVXb8/l8yjEAAAAAhjJpEOrune7ems1mU44BAAAAMBRHxgAAAAAGIwgBAAAADEYQAgAAABiMIAQAAAAwGEEIAAAAYDCCEAAAAMBgBCEAAACAwQhCAAAAAIMRhAAAAAAGIwgBAAAADEYQAgAAABiMIAQAAAAwGEEIAAAAYDCCEAAAAMBgBCEAAACAwRybegBe2/Gzjyz1vOfOnT7iSQAAAIA3C98QAgAAABiMIAQAAAAwmLUHoar6mqr60ap6qKq+a93vDwAAAMBqlgpCVXVvVb1YVU9etH6qqp6pqgtVdTZJuvvp7v5gkj+bZGP9IwMAAACwimW/IXRfklP7F6rqmiT3JLktyckkZ6rq5OJn70/yb5J8Ym2TAgAAALAWSwWh7n4sycsXLd+a5EJ3P9vdryR5IMnti+c/3N1fn+Tb1jksAAAAAKtb5bbz1yd5ft/j3STvrqr3JvnWJG9Jcv5yL66qrSRbSXLTTTetMAYAAAAAB7FKEKpLrHV3fzLJJ1/vxd29nWQ7STY2NnqFOQAAAAA4gFXuMrab5MZ9j29I8sJq4wAAAABw1FYJQo8nuaWqbq6qa5PckeThg7xBVW1W1fZ8Pl9hDAAAAAAOYtnbzt+f5FNJ3llVu1V1Z3e/muTuJI8meTrJg9391EE+vLt3untrNpsddG4AAAAADmmpawh195nLrJ/Pa1w4GgAAAICrzypHxgAAAAB4AxKEAAAAAAYzaRByUWkAAACAK2/SIOSi0gAAAABXniNjAAAAAIMRhAAAAAAG4xpCAAAAAINxDSEAAACAwTgyBgAAADAYQQgAAABgMIIQAAAAwGBcVBoAAABgMC4qDQAAADAYR8YAAAAABiMIAQAAAAxGEAIAAAAYjCAEAAAAMBhBCAAAAGAwbjsPAAAAMBi3nQcAAAAYjCNjAAAAAIMRhAAAAAAGc2zqAViP42cfWep5z507fcSTAAAAAFc73xACAAAAGIwgBAAAADAYQQgAAABgMJMGoararKrt+Xw+5RgAAAAAQ5k0CHX3TndvzWazKccAAAAAGIojYwAAAACDEYQAAAAABiMIAQAAAAxGEAIAAAAYjCAEAAAAMBhBCAAAAGAwghAAAADAYCYNQlW1WVXb8/l8yjEAAAAAhjJpEOrune7ems1mU44BAAAAMBRHxgAAAAAGIwgBAAAADEYQAgAAABiMIAQAAAAwGEEIAAAAYDCCEAAAAMBgBCEAAACAwQhCAAAAAIMRhAAAAAAGIwgBAAAADEYQAgAAABiMIAQAAAAwGEEIAAAAYDDHpvzwqtpMsnnixIkpxxjK8bOPLPW8586dPuJJAAAAgKlM+g2h7t7p7q3ZbDblGAAAAABDcWQMAAAAYDCCEAAAAMBgBCEAAACAwQhCAAAAAIMRhAAAAAAGIwgBAAAADEYQAgAAABiMIAQAAAAwGEEIAAAAYDCCEAAAAMBgBCEAAACAwQhCAAAAAIMRhAAAAAAGIwgBAAAADEYQAgAAABiMIAQAAAAwGEEIAAAAYDCCEAAAAMBgjiQIVdW3VNU/qqqfqKo/dRSfAQAAAMDhLB2Equreqnqxqp68aP1UVT1TVReq6mySdPe/6O67knxHkj+31okBAAAAWMlBviF0X5JT+xeq6pok9yS5LcnJJGeq6uS+p/zNxc8BAAAAuEosHYS6+7EkL1+0fGuSC939bHe/kuSBJLfXnr+T5Ke6+7PrGxcAAACAVa16DaHrkzy/7/HuYu17knxTkj9dVR+81AuraquqnqiqJ1566aUVxwAAAABgWcdWfH1dYq27+8NJPvxaL+zu7STbSbKxsdErzgEAAADAklb9htBukhv3Pb4hyQsrvicAAAAAR2jVIPR4kluq6uaqujbJHUkeXvbFVbVZVdvz+XzFMQAAAABY1kFuO39/kk8leWdV7VbVnd39apK7kzya5OkkD3b3U8u+Z3fvdPfWbDY76NwAAAAAHNLS1xDq7jOXWT+f5PzaJgIAAADgSK16ZAwAAACAN5hV7zK2kqraTLJ54sSJKcfgEo6ffWTp5z537vQRTgIAAACs26TfEHINIQAAAIArz5ExAAAAgMEIQgAAAACDEYQAAAAABjNpEKqqzarans/nU44BAAAAMBQXlQYAAAAYjCNjAAAAAIMRhAAAAAAGIwgBAAAADMZFpQEAAAAG46LSAAAAAINxZAwAAABgMIIQAAAAwGAEIQAAAIDBCEIAAAAAgxGEAAAAAAbjtvMAAAAAg3HbeQAAAIDBODIGAAAAMBhBCAAAAGAwghAAAADAYAQhAAAAgMEIQgAAAACDcdt5AAAAgMEcm/LDu3snyc7GxsZdU87Bao6ffWSp5z137vQRTwIAAAAsw5ExAAAAgMEIQgAAAACDEYQAAAAABiMIAQAAAAxGEAIAAAAYjCAEAAAAMBhBCAAAAGAwghAAAADAYCYNQlW1WVXb8/l8yjEAAAAAhjJpEOrune7ems1mU44BAAAAMBRHxgAAAAAGIwgBAAAADEYQAgAAABiMIAQAAAAwGEEIAAAAYDCCEAAAAMBgBCEAAACAwQhCAAAAAIMRhAAAAAAGIwgBAAAADEYQAgAAABiMIAQAAAAwmGNTfnhVbSbZPHHixJRjcIUcP/vIUs977tzpI54EAAAAxjbpN4S6e6e7t2az2ZRjAAAAAAzFkTEAAACAwQhCAAAAAIMRhAAAAAAGIwgBAAAADEYQAgAAABiMIAQAAAAwGEEIAAAAYDCCEAAAAMBgBCEAAACAwQhCAAAAAIMRhAAAAAAGIwgBAAAADEYQAgAAABiMIAQAAAAwGEEIAAAAYDCCEAAAAMBgBCEAAACAwQhCAAAAAINZexCqqq+uqo9U1UPrfm8AAAAAVndsmSdV1b1J3pfkxe5+1771U0l+MMk1SX6su89197NJ7hSEOGrHzz6y1POeO3f6iCcBAACAN5ZlvyF0X5JT+xeq6pok9yS5LcnJJGeq6uRapwMAAABg7ZYKQt39WJKXL1q+NcmF7n62u19J8kCS29c8HwAAAABrtso1hK5P8vy+x7tJrq+q31VVP5rka6vqQ5d7cVVtVdUTVfXESy+9tMIYAAAAABzEUtcQuoy6xFp3939J8sHXe3F3byfZTpKNjY1eYQ4AAAAADmCVbwjtJrlx3+Mbkryw2jgAAAAAHLVVgtDjSW6pqpur6tokdyR5eD1jAQAAAHBUlgpCVXV/kk8leWdV7VbVnd39apK7kzya5OkkD3b3Uwf58KrarKrt+Xx+0LkBAAAAOKSlriHU3Wcus34+yfnDfnh37yTZ2djYuOuw7wEAAADAwaxyZAwAAACANyBBCAAAAGAwq9x2fmVVtZlk88SJE1OOwVXm+NlHph4BAAAA3tQm/YZQd+9099ZsNptyDAAAAIChODIGAAAAMBhBCAAAAGAwghAAAADAYFxUGhYOcjHr586dPsJJAAAA4Gi5qDQAAADAYBwZAwAAABiMIAQAAAAwGEEIAAAAYDCTBqGq2qyq7fl8PuUYAAAAAENxUWkAAACAwTgyBgAAADAYQQgAAABgMIIQAAAAwGAEIQAAAIDBuMsYAAAAwGDcZQwAAABgMI6MAQAAAAxGEAIAAAAYjCAEAAAAMBhBCAAAAGAwghAAAADAYAQhAAAAgMEcm/LDq2ozyeaJEyemHIM3ueNnH5l6BAAAALiqTPoNoe7e6e6t2Ww25RgAAAAAQ3FkDAAAAGAwghAAAADAYAQhAAAAgMEIQgAAAACDEYQAAAAABiMIAQAAAAxGEAIAAAAYjCAEAAAAMJhJg1BVbVbV9nw+n3IMAAAAgKFMGoS6e6e7t2az2ZRjAAAAAAzFkTEAAACAwQhCAAAAAIMRhAAAAAAGIwgBAAAADEYQAgAAABiMIAQAAAAwGEEIAAAAYDCCEAAAAMBgBCEAAACAwQhCAAAAAIMRhAAAAAAGIwgBAAAADGbSIFRVm1W1PZ/PpxwDAAAAYCiTBqHu3unurdlsNuUYAAAAAENxZAwAAABgMIIQAAAAwGAEIQAAAIDBCEIAAAAAgxGEAAAAAAYjCAEAAAAMRhACAAAAGIwgBAAAADAYQQgAAABgMIIQAAAAwGAEIQAAAIDBCEIAAAAAgxGEAAAAAAYjCAEAAAAMRhACAAAAGIwgBAAAADAYQQgAAABgMIIQAAAAwGCOrfsNq+qtSX44yStJPtndH133ZwAAAABweEt9Q6iq7q2qF6vqyYvWT1XVM1V1oarOLpa/NclD3X1XkveveV4AAAAAVrTskbH7kpzav1BV1yS5J8ltSU4mOVNVJ5PckOT5xdN+Yz1jAgAAALAuSwWh7n4sycsXLd+a5EJ3P9vdryR5IMntSXazF4WWfn8AAAAArpxVriF0fX7rm0DJXgh6d5IPJ/mhqjqdZOdyL66qrSRbSXLTTTetMAZcecfPPrLU8547d/qIJ7n6+P8GAAC4Gvlnlf/XKkGoLrHW3f3rSb7z9V7c3dtJtpNkY2OjV5gDAAAAgANY5UjXbpIb9z2+IckLq40DAAAAwFFbJQg9nuSWqrq5qq5NckeSh9czFgAAAABHZdnbzt+f5FNJ3llVu1V1Z3e/muTuJI8meTrJg9391EE+vKo2q2p7Pp8fdG4AAAAADmmpawh195nLrJ9Pcv6wH97dO0l2NjY27jrsewAAAABwMG4LDwAAADAYQQgAAABgMJMGIdcQAgAAALjyJg1C3b3T3Vuz2WzKMQAAAACG4sgYAAAAwGAEIQAAAIDBuIYQAAAAwGBcQwgAAABgMI6MAQAAAAxGEAIAAAAYjCAEAAAAMBhBCAAAAGAw7jIGAAAAMBh3GQMAAAAYTHX31DOkql5K8ktTz7Em1yX5wtRD8KZhP7Fu9hTrZD+xbvYU62Q/sU72E+t2pfbU7+/ud1zqB1dFEHozqaonuntj6jl4c7CfWDd7inWyn1g3e4p1sp9YJ/uJdbsa9pSLSgMAAAAMRhACAAAAGIwgtH7bUw/Am4r9xLrZU6yT/cS62VOsk/3EOtlPrNvke8o1hAAAAAAG4xtCAAAAAIMRhNakqk5V1TNVdaGqzk49D1e/qrqxqv51VT1dVU9V1fcu1n9nVX28qv7T4r9/x77XfGixx56pqm+ebnquZlV1TVX9XFX95OKxPcWhVNXbq+qhqvoPi79X/TH7iVVU1V9Z/J73ZFXdX1VfZk+xrKq6t6perKon960deP9U1R+tqs8tfvbhqqor/b+Fq8Nl9tTfXfy+9++r6p9X1dv3/cye4rIutZ/2/eyvVVVX1XX71ibfT4LQGlTVNUnuSXJbkpNJzlTVyWmn4g3g1SR/tbu/Jsl7knz3Yt+cTfKJ7r4lyScWj7P42R1J/lCSU0l+eLH34GLfm+TpfY/tKQ7rB5P8y+7+g0n+SPb2lf3EoVTV9Un+UpKN7n5Xkmuyt2fsKZZ1X/b2wn6H2T8/kmQryS2L/1z8nozjvvz/f/0/nuRd3f2Hk/zHJB9K7CmWcl8u8de+qm5M8ieT/PK+tatiPwlC63Frkgvd/Wx3v5LkgSS3TzwTV7nu/nx3f3bx61/L3j9oXZ+9vfPji6f9eJJvWfz69iQPdPf/7u5fTHIhe3sPvqSqbkhyOsmP7Vu2pziwqvrKJH88yUeSpLtf6e7/FvuJ1RxL8uVVdSzJVyR5IfYUS+rux5K8fNHygfZPVf3eJF/Z3Z/qvYup/pN9r2Ewl9pT3f3T3f3q4uHPJrlh8Wt7itd0mb9HJck/SPLXk+y/gPNVsZ8EofW4Psnz+x7vLtZgKVV1PMnXJvl0kt/d3Z9P9qJRkq9aPM0+Yxn/MHu/4Xxx35o9xWF8dZKXkvzjxRHEH6uqt8Z+4pC6+1eS/L3s/RvSzyeZd/dPx55iNQfdP9cvfn3xOlzKX0zyU4tf21McWFW9P8mvdPfPX/Sjq2I/CULrcakzfW7fxlKq6m1J/lmSv9zd//21nnqJNfuML6mq9yV5sbs/s+xLLrFmT/GbjiX5uiQ/0t1fm+TXsziKcRn2E69pcW2X25PcnOT3JXlrVX37a73kEmv2FMu63P6xr1hKVX1/9i7x8NHfXLrE0+wpLquqviLJ9yf5W5f68SXWrvh+EoTWYzfJjfse35C9r0DDa6qq3569GPTR7v7YYvlXF18VzOK/X1ys22e8nm9I8v6qei57R1f/RFX909hTHM5ukt3u/vTi8UPZC0T2E4f1TUl+sbtf6u7/k+RjSb4+9hSrOej+2c1vHQHavw5fUlUfSPK+JN+2OLaT2FMc3B/I3r8E+fnFn89vSPLZqvo9uUr2kyC0Ho8nuaWqbq6qa7N3caiHJ56Jq9ziavEfSfJ0d//9fT96OMkHFr/+QJKf2Ld+R1W9papuzt4Fxv7tlZqXq193f6i7b+ju49n7+9C/6u5vjz3FIXT3f07yfFW9c7H0jUl+IfYTh/fLSd5TVV+x+D3wG7N3/Tx7ilUcaP8sjpX9WlW9Z7EP/8K+10Cq6lSS70vy/u7+n/t+ZE9xIN39ue7+qu4+vvjz+W6Sr1v8Geuq2E/HjuqNR9Ldr1bV3Ukezd4dM+7t7qcmHour3zck+fNJPldV/26x9jeSnEvyYFXdmb0/PP+ZJOnup6rqwez9A9mrSb67u3/jik/NG5E9xWF9T5KPLv5lx7NJvjN7/zLJfuLAuvvTVfVQks9mb4/8XJLtJG+LPcUSqur+JO9Ncl1V7Sb5gRzu97jvyt7dgL48e9eH+akwpMvsqQ8leUuSjy/u9v2z3f1Be4rXc6n91N0fudRzr5b9VL/1DTgAAAAARuDIGAAAAMBgBCEAAACAwQhCAAAAAIMRhAAAAAAGIwgBAAAADEYQAgAAABiMIAQAAAAwGEEIAAAAYDD/F8OI4t/vu4EGAAAAAElFTkSuQmCC\n",
=======
      "text/html": [
       "<div>\n",
       "<style scoped>\n",
       "    .dataframe tbody tr th:only-of-type {\n",
       "        vertical-align: middle;\n",
       "    }\n",
       "\n",
       "    .dataframe tbody tr th {\n",
       "        vertical-align: top;\n",
       "    }\n",
       "\n",
       "    .dataframe thead th {\n",
       "        text-align: right;\n",
       "    }\n",
       "</style>\n",
       "<table border=\"1\" class=\"dataframe\">\n",
       "  <thead>\n",
       "    <tr style=\"text-align: right;\">\n",
       "      <th></th>\n",
       "      <th>node</th>\n",
       "      <th>name</th>\n",
       "    </tr>\n",
       "  </thead>\n",
       "  <tbody>\n",
       "    <tr>\n",
       "      <th>1062319</th>\n",
       "      <td>1062319</td>\n",
       "      <td>List of United States comedy films</td>\n",
       "    </tr>\n",
       "  </tbody>\n",
       "</table>\n",
       "</div>"
      ],
>>>>>>> 9ebfbb9c48970e453c3f7c8e194d98c7610b79d9
      "text/plain": [
       "            node                                name\n",
       "1062319  1062319  List of United States comedy films"
      ]
     },
<<<<<<< HEAD
     "metadata": {
      "needs_background": "light"
     },
     "output_type": "display_data"
=======
     "execution_count": 47,
     "metadata": {},
     "output_type": "execute_result"
>>>>>>> 9ebfbb9c48970e453c3f7c8e194d98c7610b79d9
    }
   ],
   "source": [
    "hub_out = max(dict_out_degree.items(),key = lambda x: x[1])[0]\n",
    "df_names.loc[df_names['node']== str(hub_out)]"
   ]
  },
  {
   "cell_type": "markdown",
   "metadata": {},
   "source": [
    "# RQ2"
   ]
  },
  {
   "cell_type": "markdown",
   "metadata": {},
   "source": [
    "Define a function that takes in input a page $v$ and a number of clicks $d$ and returns the set of all pages that a user can reach within $d$ clicks."
   ]
  },
  {
   "cell_type": "code",
   "execution_count": 27,
   "metadata": {},
   "outputs": [],
   "source": [
    "#We use a standard iterative BFS with a queue to avoid having too many recursive calls\n",
    "\n",
    "def BFS_distances(G,v,n_clicks=float(\"inf\")):\n",
    "\n",
    "    \"\"\"G: graph\n",
    "    v: starting node\n",
    "    n_clicks: optional parameter. Returns all pages with distance less or equal han n_clicks. Base value is 'float(\"Inf\"):\n",
    "    it returns every page reached by the BFS.\"\"\"\n",
    "    \n",
    "    q = deque() # initialize empty queue\n",
    "    discovered={} # dictionary with already discovered nodes. The structure is key:Node, value=distance from source\n",
    "    \n",
    "    \n",
    "    discovered[v] = 0 # distance of the source from the source is 0 \n",
    "    q.append(v)   # put starting vertex in the queue\n",
    "    \n",
    "    edges_with_distances=[] #list of tuples (node,distance from source) that will be returned.\n",
    "    \n",
    "    while q: #While the queue is not empty, do an iteration of BFS\n",
    "        v = q.popleft()     #remove first item in the queue\n",
    "        if discovered[v]>n_clicks:\n",
    "            break\n",
    "        edges_with_distances.append((v,discovered[v]))\n",
    "        \n",
    "        \n",
    " \n",
    "        for u in G.neighbors(v):\n",
    "        # for each neighbor u of v. we check if u has already been discovered. If not, we know that its distance of u from the\n",
    "        # source is one more than the distance v has. \n",
    "            \n",
    "            if u not in discovered: \n",
    "                # mark it as discovered and push it into queue\n",
    "                discovered[u] = discovered[v]+1\n",
    "                q.append(u)\n",
    "                \n",
    "    return edges_with_distances\n",
    "    "
   ]
  },
  {
   "cell_type": "code",
   "execution_count": 28,
   "metadata": {},
   "outputs": [
    {
     "data": {
      "text/plain": [
       "[(67030, 0),\n",
       " (67006, 1),\n",
       " (67125, 1),\n",
       " (1420116, 1),\n",
       " (1571125, 2),\n",
       " (64825, 2),\n",
       " (954116, 2),\n",
       " (597743, 3),\n",
       " (597737, 4)]"
      ]
     },
     "execution_count": 28,
     "metadata": {},
     "output_type": "execute_result"
    }
   ],
   "source": [
    "BFS_distances(G,67030,4)"
   ]
  },
  {
   "cell_type": "markdown",
   "metadata": {},
   "source": [
    "# RQ3"
   ]
  },
  {
   "cell_type": "markdown",
   "metadata": {},
   "source": [
    "Define a function that takes in input: a category $C$ and aset of pages in $C$, $p = {p_1, ..., p_n}$\n",
    "and returns the minimum number of clicks required to reach all pages in $p$, starting from the page $v$, corresponding to the most central article, according to the in-degree centrality, in $C$."
   ]
  },
  {
   "cell_type": "markdown",
   "metadata": {},
   "source": [
    "We first add the \"Category\" as an attribute to every node."
   ]
  },
  {
   "cell_type": "code",
   "execution_count": 29,
   "metadata": {},
   "outputs": [],
   "source": [
    "nx.set_node_attributes(G, inverted_dictionary, name=\"Category\")"
   ]
  },
  {
   "cell_type": "markdown",
   "metadata": {},
   "source": [
    "We chose to use the in_degree as our metric for the \"most central article\"."
   ]
  },
  {
   "cell_type": "code",
   "execution_count": 30,
   "metadata": {},
   "outputs": [],
   "source": [
    "def most_central_article(G,category):\n",
    "    \n",
    "    \"\"\" G: graph\n",
    "        category: one of the categories\n",
    "        \n",
    "        returns the node with the highest in_degree as a tuple: (node, in_degree)\"\"\"\n",
    "    \n",
    "    nodes = list(map(int, d_random_cat_page[category] ))\n",
    "    assert len(nodes)>0, \"Empty/non-existent category!\"\n",
    "    max_in_degree = list(G.in_degree(nodes))\n",
    "    return max( max_in_degree, key=lambda x:x[1])"
   ]
  },
  {
   "cell_type": "code",
   "execution_count": 31,
   "metadata": {},
   "outputs": [
    {
     "data": {
      "text/plain": [
       "(1227839, 13)"
      ]
     },
     "execution_count": 31,
     "metadata": {},
     "output_type": "execute_result"
    }
   ],
   "source": [
    "most_central_article(G,'Debut_albums')"
   ]
  },
  {
   "cell_type": "markdown",
   "metadata": {},
   "source": [
    "The algorithm we will use to solve this problem will have two steps:\n",
    "First step: we use the function <code>graph_exploration</code> to build a new graph that only has the nodes in the list $p$\n",
    "and the most central article in the graph. An edge from $u$ to $v$ is added whenever there exists a path from these two nodes in the original graph and the weight of this edge will be equal to the lenght of the shortest path between the two.\n",
    "\n",
    "Second part: we look for the shortest path that visits all nodes in the new graph that we build in the first step. This is an asymmetric travelling salesman problem (with a slight modification: one does not need to get back to the starting point) with distances satisfying the triangle inequality. We decide to use a slight modification of the \"nearest neighbor\" algorithm to give an approximation of the solution in a polynomial time: that algorithm can easily answer \"no existing path\" when there are nodes that are not connected to all the others. Since in our case we know that if $u$ is connected to $v$ and $v$ is connected to $w$ then $u$ is also connected to $w$ (this can be seen as a consequence of the fact that the triangle inequality has to hold and by putting $dist(A,B)=+\\infty$ when a directed edge from $A$ to $B$ does not exist). With this property in mind, we know that if we do not see all the unvisited edges in the neighbors of a particular node, than picking that node will lead to a path that doesn't visit all the pages. We try to avoid this by first looking if there is a node that has all the remaining nodes to visit among its neighbors.\n",
    "\n",
    "\n",
    "(N.B It is interesting to observe how this the \"shortest path between two nodes\" does not define a distance in the classical sense since it's not symmetric in a generic directed graph with weights)\n"
   ]
  },
  {
   "cell_type": "code",
   "execution_count": 32,
   "metadata": {},
   "outputs": [],
   "source": [
    "def graph_exploration(G,p,C):\n",
    "    \"\"\"G: graph\n",
    "     p: list of nodes  to visit\n",
    "     C: category where the most central article will be selected as a starting point.\"\"\"\n",
    "    \n",
    "    most_central=most_central_article(G,C)[0] #we compute the most central node\n",
    "    \n",
    "    if most_central not in p: #this is here in case one already had the most central node in p\n",
    "        p.append(most_central) \n",
    "    \n",
    "    new_graph=nx.empty_graph(create_using=nx.DiGraph()) #this creates a new empty graph\n",
    "    \n",
    "    for node1 in p:\n",
    "        for node2 in p:\n",
    "            if node1!=node2:\n",
    "                distances=dict(BFS_distances(G,node1)) #we calculate the distances of all the nodes in the graph G from node1\n",
    "                if node2 in distances: #if node 2 was reached by a BFS from node1, we add an edge in the new graph.\n",
    "                    new_graph.add_edge(node1,node2,weight=distances[node2])\n",
    "    new_graph.add_nodes_from(p) #We finally add all the nodes from p, in case there was at least one node that was not\n",
    "                                #connected to any other in the list\n",
    "    return new_graph"
   ]
  },
  {
   "cell_type": "code",
   "execution_count": 33,
   "metadata": {},
   "outputs": [],
   "source": [
    "p=[1184017,903941,1056184] #The assignment asks for these to be picked in the C category. Our algorithm does not require it,\n",
    "                           #but it can be done\n",
    "C='English_footballers'"
   ]
  },
  {
   "cell_type": "code",
   "execution_count": 34,
   "metadata": {},
   "outputs": [],
   "source": [
    "new_graph=graph_exploration(G,p,C) #this is the execution of step 1 of the algorithm"
   ]
  },
  {
   "cell_type": "code",
   "execution_count": 35,
   "metadata": {},
   "outputs": [
    {
     "data": {
      "text/plain": [
       "{(1184017, 903941): 1,\n",
       " (1184017, 1056184): 1,\n",
       " (1184017, 81878): 5,\n",
       " (903941, 1184017): 3,\n",
       " (903941, 1056184): 4,\n",
       " (903941, 81878): 5,\n",
       " (1056184, 1184017): 4,\n",
       " (1056184, 903941): 4,\n",
       " (1056184, 81878): 5,\n",
       " (81878, 1184017): 5,\n",
       " (81878, 903941): 5,\n",
       " (81878, 1056184): 5}"
      ]
     },
     "execution_count": 35,
     "metadata": {},
     "output_type": "execute_result"
    }
   ],
   "source": [
    "nx.get_edge_attributes(new_graph,\"weight\") #checking the edges in the newly created graph with their associated weights."
   ]
  },
  {
   "cell_type": "code",
   "execution_count": 36,
   "metadata": {},
   "outputs": [],
   "source": [
    "#This is a slightly modified version of the greedy nearest neighbor algorithm.\n",
    "\n",
    "def TSP(new_graph,start_node=most_central_article(G,C)[0]):\n",
    "    \n",
    "    remaining_nodes=set(new_graph.nodes()) #nodes still not visited\n",
    "    path=[start_node] #path starts from the startnode\n",
    "    remaining_nodes.remove(start_node) #we remove the startnode since it has already been visited\n",
    "    \n",
    "    current_node=start_node\n",
    "    \n",
    "    while (current_node!=None):  #We loop until we cannot find new nodes\n",
    "        successors=sorted(new_graph.out_edges(current_node,data=True),key=lambda x:x[2][\"weight\"]) #we sort the outgoing edges\n",
    "        #of the current node by weight\n",
    "        \n",
    "        current_node=None  #since the current node has already been visited, we set it to \"None\" and start looking for the next one.\n",
    "        \n",
    "        for edge in successors: #the successors are ranked by the weight\n",
    "            node=edge[1] #this is the target of the edge.\n",
    "            \n",
    "            #the following if checks if it is still possible to visit all the remaining vertices from this if it is the next node.\n",
    "            #if it is, the for loop breaks, and the program goes back into the while loop for another iteration.\n",
    "            if remaining_nodes.difference(set(new_graph.successors(node)))==set([node]):\n",
    "                current_node=node\n",
    "                path.append(node)\n",
    "                remaining_nodes.remove(node)\n",
    "                break\n",
    "    \n",
    "    #if a new node for the path was not found, we check if we completed the path or not.\n",
    "    if remaining_nodes:\n",
    "        print(\"Cammino non trovato\")\n",
    "        return None\n",
    "    \n",
    "    #The following lines are here only for a nice output format.\n",
    "    edges_of_path=[(path[i],path[i+1],\"weight: \"+str(nx.get_edge_attributes(new_graph,\"weight\")[(path[i],path[i+1])])) for i in range(len(path)-1)]\n",
    "    weights=sum(nx.get_edge_attributes(new_graph,\"weight\")[edge[:2]] for edge in edges_of_path)\n",
    "    print(\"The total lenght of the minimum path is: \",weights)\n",
    "    print(edges_of_path)       \n",
    "        \n",
    "        \n",
    "    \n",
    "    \n",
    "    "
   ]
  },
  {
   "cell_type": "code",
   "execution_count": 37,
   "metadata": {},
   "outputs": [
    {
     "name": "stdout",
     "output_type": "stream",
     "text": [
      "The total lenght of the minimum path is:  10\n",
      "[(81878, 1184017, 'weight: 5'), (1184017, 903941, 'weight: 1'), (903941, 1056184, 'weight: 4')]\n"
     ]
    }
   ],
   "source": [
    "TSP(new_graph)"
   ]
  },
  {
   "cell_type": "markdown",
   "metadata": {},
   "source": [
    "## RQ4"
   ]
  },
  {
   "cell_type": "markdown",
   "metadata": {},
   "source": [
    "Given in input two categories: $C_1$ and $C_2$, we get the subgraph induced by all the articles in the two categories.\n",
    "\n",
    "Let $v$ and $u$ two arbitrary pages in the subgraph. What is the minimum set of hyperlinks one can remove to disconnect $u$ and $v$?"
   ]
  },
  {
   "cell_type": "code",
   "execution_count": 38,
   "metadata": {},
   "outputs": [],
   "source": [
    "Category1='Association_football_defenders'\n",
    "Category2='English_footballers'"
   ]
  },
  {
   "cell_type": "markdown",
   "metadata": {},
   "source": [
    "We now create the list of nodes in one of these categories and then build a subgraph made of those nodes only."
   ]
  },
  {
   "cell_type": "code",
   "execution_count": 39,
   "metadata": {},
   "outputs": [],
   "source": [
    "nodes_c1c2 = [x for x,y in G.nodes(data=True) if y['Category']==Category1 or y['Category']==Category2]\n",
    "H=G.subgraph(nodes_c1c2)"
   ]
  },
  {
   "cell_type": "markdown",
   "metadata": {},
   "source": [
    "This is the function that returns the minimum number of values. We took inspiration from the Ford-Fulkerson algorithm (with integer values as capacities) and from the fact that the maxflow in a graph equals the mincut. This is actually a simpler version: every edge has \"capacity\" one, so a simpler variant of the algorithm could simply try to find the target $T$ from the source $S$, then try to find another path that uses completely different edges. The number of total distinct path corresponds to the mincut."
   ]
  },
  {
   "cell_type": "code",
   "execution_count": 40,
   "metadata": {},
   "outputs": [],
   "source": [
    "def mincut(G, S, T):\n",
    "    \n",
    "    #This is a simpler variant of the maxflow problem.\n",
    "    #We initialize the max_flow to 0 and assume a path exists\n",
    "    assert S!=T,\"Source and target cannot be the same!\"\n",
    "    \n",
    "    _mincut=0\n",
    "    maybe_path_exists=True\n",
    "    already_used_edges=set()\n",
    "        \n",
    "    while maybe_path_exists: #While a path could exists, a BFS starts\n",
    "        predecessor={}\n",
    "        predecessor[S] = S\n",
    "        discovered=predecessor.keys()\n",
    "        \n",
    "        #WARNING: the two lines above are actually using a feature in Python that is not liked by every programmer:\n",
    "        #\"discovered\" is NOT a frozen copy of the predecessory keys, but is something that will change whenever\n",
    "        #a new item is added to the \"predecessor\" dictionary. If one is familiar with C/C++, this is similar to having \n",
    "        #two pointers pointing to the same parts of memory. \n",
    "        \n",
    "        \n",
    "        # we need to do a BFS from S looking for T. We cannot use edges already used in previus searches.\n",
    "        q = deque()\n",
    "        \n",
    "        q.append(S) #We push S into the queue to start the BFS\n",
    "        while q: #While the queue is not empty\n",
    "            v = q.popleft()\n",
    "            for u in G.neighbors(v):\n",
    "                if (u not in discovered) and ((v,u) not in already_used_edges):\n",
    "                    # mark it discovered and push it into queue\n",
    "                    predecessor[u] = v #read the warning above: this also modifies the \"discovered\" array!\n",
    "                    q.append(u)\n",
    "                    if (T in discovered): #if the target was discovered, we can add 1 to the mincut, check the path\n",
    "                        #we used and mark them as \"already used\" and break both the \"for\" loop and the \"while q\" loop to \n",
    "                        #start a new search.\n",
    "                        _mincut+=1\n",
    "                        node=T\n",
    "                        while predecessor[node]!=node:\n",
    "                            already_used_edges.add((predecessor[node],node))\n",
    "                            node=predecessor[node]\n",
    "                        q=[]\n",
    "                        break\n",
    "                        \n",
    "        if (T not in discovered): #if T was not discovered, we found the mincut to return. It can be 0 if u and v \n",
    "            #are not connected\n",
    "            maybe_path_exists=False\n",
    "    return (_mincut)"
   ]
  },
  {
   "cell_type": "code",
   "execution_count": 41,
   "metadata": {},
   "outputs": [
    {
     "data": {
      "text/plain": [
       "3"
      ]
     },
     "execution_count": 41,
     "metadata": {},
     "output_type": "execute_result"
    }
   ],
   "source": [
    "mincut(H,1357914,82385)"
   ]
  },
  {
   "cell_type": "markdown",
   "metadata": {},
   "source": [
    "N.B. The subgraph containing only the nodes of two categories is very sparsely connected, even more so than the original subgraph. The function returns 0 a lot when tested in the subgraph, while it's easier to get a non-zero value in the original graph."
   ]
  },
  {
   "cell_type": "markdown",
   "metadata": {},
   "source": [
    "# RQ5"
   ]
  },
  {
   "cell_type": "markdown",
   "metadata": {},
   "source": [
    "Write a function that, given an arbitrary category $C_0$ as input, returns the list of remaning categories sorted by their distance from $C0$. In particular, the distance between two categories is defined as\n",
    "\n",
    "distance($C_0$, $C_i$) = median(ShortestPath($C_0$, $C_i$))\n",
    "\n",
    "where ShortestPath($C_0$,$ C_i$) is the set of shortest paths from each pair of nodes in the two categories."
   ]
  },
  {
   "cell_type": "code",
   "execution_count": 42,
   "metadata": {},
   "outputs": [],
   "source": [
    "Category0='Association_football_defenders'"
   ]
  },
  {
   "cell_type": "markdown",
   "metadata": {},
   "source": [
    "We now calculate the distance of all the nodes starting from each node of the $C_0$ category (that we called <code>Category_0</code>)"
   ]
  },
  {
   "cell_type": "code",
   "execution_count": 43,
   "metadata": {},
   "outputs": [
    {
     "name": "stderr",
     "output_type": "stream",
     "text": [
      "100%|██████████████████████████████████████████████████████████████████████████████| 2128/2128 [03:48<00:00,  9.31it/s]\n"
     ]
    }
   ],
   "source": [
    "nodes=list(map(int,d_random_cat_page[Category0]))\n",
    "all_distances={}\n",
    "for v in tqdm(nodes):\n",
    "    distances=BFS_distances(G,v) #This function calculates the distance of every node in G from the source v.\n",
    "    all_distances[v]=dict(distances)"
   ]
  },
  {
   "cell_type": "markdown",
   "metadata": {},
   "source": [
    "We now calculate the distances among all tuples ($C_0$, $C_i$)."
   ]
  },
  {
   "cell_type": "code",
   "execution_count": null,
   "metadata": {},
   "outputs": [
    {
     "name": "stderr",
     "output_type": "stream",
     "text": [
      " 67%|██████████████████████████████████████████████████████▋                           | 14/21 [01:23<00:48,  6.86s/it]"
     ]
    }
   ],
   "source": [
    "medians=[]\n",
    "\n",
    "for i in tqdm(d_random_cat_page):\n",
    "    temp_nodes=list(map(int,d_random_cat_page[i]))\n",
    "    distances=[]\n",
    "    \n",
    "        \n",
    "    for c_0 in nodes: #we iterate over all nodes in the Category_0\n",
    "        for c_i in temp_nodes: #and over all nodes in all the Categories.\n",
    "            try:\n",
    "                distances.append(all_distances[c_0][c_i]) #if a distance is found in the previous calculation, add it;\n",
    "            except KeyError:\n",
    "                distances.append(float(\"inf\")) # else, we put \"infinity\" as the distance.\n",
    "    \n",
    "    medians.append((i,np.median(np.array(distances)))) #We finally calculate all the medians\n",
    "   "
   ]
  },
  {
   "cell_type": "code",
   "execution_count": null,
   "metadata": {},
   "outputs": [],
   "source": [
    "medians=sorted(medians,key=lambda x:x[1]) #We sort the array by the medians value"
   ]
  },
  {
   "cell_type": "markdown",
   "metadata": {},
   "source": [
    "We decided to also check the median of the distance among nodes in the same category, so all 21 categories will be here."
   ]
  },
  {
   "cell_type": "code",
   "execution_count": null,
   "metadata": {},
   "outputs": [],
   "source": [
    "medians"
   ]
  },
  {
   "cell_type": "markdown",
   "metadata": {},
   "source": [
    "## RQ 6\n",
    "\n",
    "Write a function that sorts the categories in the graph according to their PageRank (PR). For this task you need to model the network of categories such that you can apply the PR algorithm.\n",
    "\n",
    "\n",
    "#### Building the DataFrame\n",
    "In order to accomplish this task, we built a graph in the following way:\n",
    "* each node represent a category\n",
    "* the node associated to the category_1 points the node of the category_2 if there is at least one page in category_1 that points a page in category_2\n",
    "\n",
    "In order to build this network we replaced all the pages in the dataframe <code>edges</code> with their respective categories, by mean of <code>cat_of_page</code> dictionary, which returns for every page, the category to which it belongs.\n",
    "Then we converted the dataframe into a Graph Object with the same procedure applied above.\n",
    "\n",
    "#### The Page Rank Score\n",
    "First we modify a little the network, adding a link to every other node from the nodes whose out-degree is zero. \n",
    "\n",
    "Then we build the network's matrix $p$ ,  $p_{ij}=  d * \\frac{1}{|N|} + (1-d)* 1_{\\{(i,j)\\}}*\\frac{1}{\\delta^+(n_i)}$. \n",
    "Where:\n",
    "* $N$ = Set of the nodes\n",
    "* $d$ = *dumping factor*, probability that the web-surfer goes to the next category through the search bar (instead of using a link of the page). Default = 0.85.\n",
    "* $1_{\\{(i,j)\\}} = 1$ if $\\exists$ edge $(i,j)$  , $0$ else\n",
    "* $\\delta^+(n_i)$ is the *out-degree* of the node \n",
    "\n",
    "The Page Rank vector is an enginevector of enginevalue 1 of $p$. Therefore, if we start from a random page (e.g. the first one) $q_0$, and then we iterate $q_{(t+1)} = p* q_{(t)}$, eventually we will converge to it after a finite number of steps.\n"
   ]
  },
  {
   "cell_type": "code",
   "execution_count": null,
   "metadata": {},
   "outputs": [],
   "source": [
    "#Building the Data Frame of Categories\n",
    "cat_of_page = {}\n",
    "\n",
    "for cat in d_random_cat_page: #d_random_cat_page returns for each category, the list of the pages belonging to it\n",
    "    for page in d_random_cat_page[cat]: # in cat_of_pages we assign to each page in\n",
    "        cat_of_page[page] = cat         # d_random_cat_page[cat], the category as value\n",
    "                                        \n",
    "        "
   ]
  },
  {
   "cell_type": "code",
   "execution_count": null,
   "metadata": {},
   "outputs": [],
   "source": [
    "df_edges_cat = pd.DataFrame()\n",
    "df_edges_cat['source'] = [cat_of_page[page] for page in df_edges['source']]\n",
    "df_edges_cat['target'] = [cat_of_page[page] for page in df_edges['target']]\n"
   ]
  },
  {
   "cell_type": "code",
   "execution_count": null,
   "metadata": {},
   "outputs": [],
   "source": [
    "df_edges_cat #the nodes are replaced with the categories "
   ]
  },
  {
   "cell_type": "code",
   "execution_count": null,
   "metadata": {},
   "outputs": [],
   "source": [
    "G_cat=nx.convert_matrix.from_pandas_edgelist(df_edges_cat, 'source', 'target',create_using=nx.DiGraph())"
   ]
  },
  {
   "cell_type": "code",
   "execution_count": null,
   "metadata": {},
   "outputs": [],
   "source": [
    "len(G_cat)"
   ]
  },
  {
   "cell_type": "code",
   "execution_count": null,
   "metadata": {},
   "outputs": [],
   "source": [
    "import copy\n",
    "\n",
    "def PageRank(G,alpha=0.85,max_iter=100,epsilon=1e-6):\n",
    "    d_node = {node: i for i,node in enumerate(list(G.nodes()))}  #map each node with a number\n",
    "    \n",
    "    n = len(G.nodes()) \n",
    "    \n",
    "    # p = d*uniform_p + (1-d)* outlink_p\n",
    "    \n",
    "    uniform_p = np.full((n,n),1/n)  #uniform_p = matrix  1/n * I , dim(I) = n X n \n",
    "    \n",
    "    outlink_p = np.zeros((n,n))  #outlink_p[i,j] = 1/deg(i) *1_{(i,j) exists}\n",
    "    for node in G.nodes():\n",
    "        i = d_node[node]\n",
    "        for neigh in G.successors(node):\n",
    "            j = d_node[neigh]\n",
    "            outlink_p[i][j] = 1/len(list(G.successors(node)))\n",
    "    \n",
    "    #adding an edge to each node for those nodes whose out-degree = 0         \n",
    "    for i in range(n):\n",
    "        if np.sum(outlink_p[i])==0:\n",
    "            outlink_p[i] = np.full((1, n), 1/n) \n",
    "    \n",
    "    p = (1-alpha)*uniform_p+(alpha)*outlink_p\n",
    "    \n",
    "    q = np.zeros((1,n)) \n",
    "    \n",
    "    q[0][0] = 1  #we start from the first category\n",
    "    \n",
    "    def distance(A,B):\n",
    "        C = np.abs(A-B)\n",
    "        return np.sum(C)\n",
    "    \n",
    "    for i in tqdm(range(max_iter)):\n",
    "        q_new = np.dot(q,p) #q_(t+1) = q_(t) *p \n",
    "        \n",
    "        if epsilon: #establish a criteria for the convergence, if the q's of two consecutive steps are close -> stop.\n",
    "            if distance(q,q_new) < epsilon:\n",
    "                break\n",
    "        \n",
    "        q = q_new\n",
    "\n",
    "    d = {node: q[0][d_node[node]] for node in G.nodes()} #for each category, we indicate the page rank score\n",
    "    \n",
    "    return d\n"
   ]
  },
  {
   "cell_type": "markdown",
   "metadata": {},
   "source": [
    "Above we report the PageRank score computed by Network"
   ]
  },
  {
   "cell_type": "code",
   "execution_count": null,
   "metadata": {},
   "outputs": [],
   "source": [
    "PR_nx_tuples = nx.pagerank(G_cat,alpha = 0.85,max_iter= 100).items()\n",
    "\n",
    "PR_nx = pd.DataFrame(PR_nx_tuples,columns=['Category','Page Rank']).sort_values(['Page Rank','Category'],ascending = False)\n",
    "\n",
    "PR_nx \n"
   ]
  },
  {
   "cell_type": "code",
   "execution_count": null,
   "metadata": {},
   "outputs": [],
   "source": [
    "PR_tuples = PageRank(G_cat,epsilon = False).items()\n",
    "\n",
    "PR = pd.DataFrame(PR_tuples,columns=['Category','Page Rank']).sort_values(['Page Rank','Category'],ascending = False)\n",
    "\n",
    "PR "
   ]
  },
  {
   "cell_type": "code",
   "execution_count": null,
   "metadata": {},
   "outputs": [],
   "source": [
    "PR_dict  = PageRank(G_cat,epsilon = False)\n",
    "\n",
    "PR_tuples = PR_dict.items()\n",
    "\n",
    "PR = pd.DataFrame(PR_tuples,columns=['Category','Page Rank']).sort_values(['Page Rank','Category'],ascending = False)\n",
    "\n",
    "colors = [PR_dict[n] for n in G_cat.nodes()]\n",
    "sizes = [PR_dict[n]*10000 for n in G_cat.nodes()]\n",
    "plt.figure(figsize=(20,18))\n",
    "\n",
    "\n",
    "# drawing nodes and edges separately so we can capture collection for colobar\n",
    "pos = nx.kamada_kawai_layout(G_cat)\n",
    "ec = nx.draw_networkx_edges(G_cat, pos, alpha=0.1,arrowsize=20)\n",
    "nc = nx.draw_networkx_nodes(G_cat, pos, nodelist=G_cat.nodes(), node_color=colors, \n",
    "                            with_labels=True, node_size=sizes, cmap=plt.cm.magma)\n",
    "pos_higher = {}\n",
    "y_off = 0.03  # offset on the y axis\n",
    "\n",
    "for k, v in pos.items():\n",
    "    pos_higher[k] = (v[0], v[1]+y_off)\n",
    "\n",
    "\n",
    "lc = nx.draw_networkx_labels(G_cat, pos_higher, font_size=17)\n",
    "\n",
    "plt.colorbar(nc)\n",
    "plt.axis('off')\n",
    "plt.show()\n"
   ]
  }
 ],
 "metadata": {
  "kernelspec": {
   "display_name": "Python 3",
   "language": "python",
   "name": "python3"
  },
  "language_info": {
   "codemirror_mode": {
    "name": "ipython",
    "version": 3
   },
   "file_extension": ".py",
   "mimetype": "text/x-python",
   "name": "python",
   "nbconvert_exporter": "python",
   "pygments_lexer": "ipython3",
   "version": "3.8.5"
  }
 },
 "nbformat": 4,
 "nbformat_minor": 4
}
